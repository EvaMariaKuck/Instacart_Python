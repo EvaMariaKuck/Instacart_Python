{
 "cells": [
  {
   "cell_type": "markdown",
   "id": "9cf03a5c",
   "metadata": {},
   "source": [
    "## Table of contents\n",
    "## 01 Importing libraries\n",
    "## 02 Python data types\n",
    "## 02a Three ways of reaching 100 as a result\n",
    "## 02b Coding two floating-point variables and dividing them by each other\n",
    "## 02c Construct a short word \n",
    "## 02d Construct two short sentences"
   ]
  },
  {
   "cell_type": "markdown",
   "id": "82269c25-de4e-404e-b10d-7e03fe64904f",
   "metadata": {},
   "source": [
    "# 01 Importing libraries"
   ]
  },
  {
   "cell_type": "code",
   "execution_count": 1,
   "id": "cbf9480c-811d-4ab6-b203-f91cbb0f792e",
   "metadata": {},
   "outputs": [],
   "source": [
    "import pandas as pd\n",
    "import numpy as np\n",
    "import os"
   ]
  },
  {
   "cell_type": "markdown",
   "id": "dfa5689c-f3d2-40e2-8c00-bf16f5df698d",
   "metadata": {},
   "source": [
    "# 02 Python data types"
   ]
  },
  {
   "cell_type": "markdown",
   "id": "2e41a03a-3985-4bcd-931d-75515e2c9765",
   "metadata": {},
   "source": [
    "# 02a Three ways of reaching 100 as a result"
   ]
  },
  {
   "cell_type": "code",
   "execution_count": 42,
   "id": "4c9cf43e-1d88-45c1-8c7d-5f8616a17976",
   "metadata": {},
   "outputs": [],
   "source": [
    "x = 90"
   ]
  },
  {
   "cell_type": "code",
   "execution_count": 43,
   "id": "22b4e3aa-d10f-41d4-a10f-3af85a9fa896",
   "metadata": {},
   "outputs": [],
   "source": [
    "y = 10"
   ]
  },
  {
   "cell_type": "code",
   "execution_count": 44,
   "id": "c62e1fce-1162-4b76-b001-f84b3394e0fe",
   "metadata": {
    "tags": []
   },
   "outputs": [
    {
     "data": {
      "text/plain": [
       "100"
      ]
     },
     "execution_count": 44,
     "metadata": {},
     "output_type": "execute_result"
    }
   ],
   "source": [
    "x+y"
   ]
  },
  {
   "cell_type": "code",
   "execution_count": 39,
   "id": "9f6e4851-788f-4e98-bfb6-b03089b82301",
   "metadata": {},
   "outputs": [],
   "source": [
    "x = 120"
   ]
  },
  {
   "cell_type": "code",
   "execution_count": 40,
   "id": "0088a8b9-26b8-4f9f-9a66-d65bd6f99ce0",
   "metadata": {},
   "outputs": [],
   "source": [
    "y = 20"
   ]
  },
  {
   "cell_type": "code",
   "execution_count": 41,
   "id": "6ee963ab-74fc-41e6-8c60-b9a1a67c1bd0",
   "metadata": {},
   "outputs": [
    {
     "data": {
      "text/plain": [
       "100"
      ]
     },
     "execution_count": 41,
     "metadata": {},
     "output_type": "execute_result"
    }
   ],
   "source": [
    "x-y"
   ]
  },
  {
   "cell_type": "code",
   "execution_count": 36,
   "id": "847822fa-8e7d-4e55-873e-c15d245e1a8a",
   "metadata": {},
   "outputs": [],
   "source": [
    "x = 50"
   ]
  },
  {
   "cell_type": "code",
   "execution_count": 37,
   "id": "98777af9-1cf7-44b3-9fab-a32cfbaa7963",
   "metadata": {},
   "outputs": [],
   "source": [
    "y = 50"
   ]
  },
  {
   "cell_type": "code",
   "execution_count": 38,
   "id": "6cf0c404-3f41-48f4-9eb6-09dd70d54e0c",
   "metadata": {},
   "outputs": [
    {
     "data": {
      "text/plain": [
       "100"
      ]
     },
     "execution_count": 38,
     "metadata": {},
     "output_type": "execute_result"
    }
   ],
   "source": [
    "x+y"
   ]
  },
  {
   "cell_type": "markdown",
   "id": "4378ad8f-9b25-418d-8d12-3139bbc9e4e6",
   "metadata": {},
   "source": [
    "# 02b Coding two floating-point variables and dividing them by each other"
   ]
  },
  {
   "cell_type": "code",
   "execution_count": 45,
   "id": "80798f13-3e9f-41dd-a1a9-d42d360d6564",
   "metadata": {},
   "outputs": [],
   "source": [
    "x = 5.534"
   ]
  },
  {
   "cell_type": "code",
   "execution_count": 46,
   "id": "09b15269-f045-43c0-af1d-eeb9d3cb2c0a",
   "metadata": {},
   "outputs": [],
   "source": [
    "y = 1.928"
   ]
  },
  {
   "cell_type": "code",
   "execution_count": 47,
   "id": "457d5491-d336-433d-8160-7b055650c3ab",
   "metadata": {},
   "outputs": [
    {
     "data": {
      "text/plain": [
       "2.870331950207469"
      ]
     },
     "execution_count": 47,
     "metadata": {},
     "output_type": "execute_result"
    }
   ],
   "source": [
    "x/y"
   ]
  },
  {
   "cell_type": "markdown",
   "id": "44a26625-af1c-4665-b81c-31b9825026d5",
   "metadata": {},
   "source": [
    "# 02c Construct a short word "
   ]
  },
  {
   "cell_type": "code",
   "execution_count": 48,
   "id": "c1621e52-e599-4fc4-a352-9eb1b8f0e868",
   "metadata": {},
   "outputs": [],
   "source": [
    "x = 'bill'"
   ]
  },
  {
   "cell_type": "code",
   "execution_count": 49,
   "id": "8203c569-fe5a-49cf-a873-c59d1dcd9f21",
   "metadata": {},
   "outputs": [],
   "source": [
    "y = 'board'"
   ]
  },
  {
   "cell_type": "code",
   "execution_count": 50,
   "id": "398d6fc0-2988-4f63-acb1-ec63c7a7b988",
   "metadata": {},
   "outputs": [
    {
     "data": {
      "text/plain": [
       "'billboard'"
      ]
     },
     "execution_count": 50,
     "metadata": {},
     "output_type": "execute_result"
    }
   ],
   "source": [
    "x+y"
   ]
  },
  {
   "cell_type": "markdown",
   "id": "25c28ca3-e056-461a-a6ab-a37a12f76370",
   "metadata": {},
   "source": [
    "# 02d Construct two short sentences"
   ]
  },
  {
   "cell_type": "code",
   "execution_count": 33,
   "id": "14ba85c2-f7d2-4924-9ac9-f497170b0834",
   "metadata": {},
   "outputs": [],
   "source": [
    "x = 'Hello '"
   ]
  },
  {
   "cell_type": "code",
   "execution_count": 31,
   "id": "0dcfbd7a-9c8b-4bb4-a3e4-0aadd7864658",
   "metadata": {},
   "outputs": [],
   "source": [
    "y = 'world!'"
   ]
  },
  {
   "cell_type": "code",
   "execution_count": 34,
   "id": "1c1ef7b1-c8ed-4b1c-b17b-ce018e26e44f",
   "metadata": {},
   "outputs": [
    {
     "name": "stdout",
     "output_type": "stream",
     "text": [
      "Hello world!\n"
     ]
    }
   ],
   "source": [
    "print(x+y)"
   ]
  },
  {
   "cell_type": "code",
   "execution_count": 27,
   "id": "b739133f-090b-4c09-a1a7-5fb5681e2085",
   "metadata": {},
   "outputs": [],
   "source": [
    "x = 'Python '"
   ]
  },
  {
   "cell_type": "code",
   "execution_count": 28,
   "id": "d62cbcdd-6c5d-4dec-a3a8-72a722ed508b",
   "metadata": {},
   "outputs": [],
   "source": [
    "y = 'is a '"
   ]
  },
  {
   "cell_type": "code",
   "execution_count": 29,
   "id": "861008d5-bb3e-44af-8aa0-cd989010abc7",
   "metadata": {},
   "outputs": [],
   "source": [
    "z = 'new language.'"
   ]
  },
  {
   "cell_type": "code",
   "execution_count": 30,
   "id": "2a53fbbd-8c13-42bc-a70d-9d9475d70618",
   "metadata": {},
   "outputs": [
    {
     "name": "stdout",
     "output_type": "stream",
     "text": [
      "Python is a new language.\n"
     ]
    }
   ],
   "source": [
    "print(x+y+z)"
   ]
  },
  {
   "cell_type": "code",
   "execution_count": null,
   "id": "bc07a6cf-9f4c-434e-b71f-e11f9146bfcf",
   "metadata": {},
   "outputs": [],
   "source": []
  }
 ],
 "metadata": {
  "kernelspec": {
   "display_name": "Python 3 (ipykernel)",
   "language": "python",
   "name": "python3"
  },
  "language_info": {
   "codemirror_mode": {
    "name": "ipython",
    "version": 3
   },
   "file_extension": ".py",
   "mimetype": "text/x-python",
   "name": "python",
   "nbconvert_exporter": "python",
   "pygments_lexer": "ipython3",
   "version": "3.10.9"
  }
 },
 "nbformat": 4,
 "nbformat_minor": 5
}
