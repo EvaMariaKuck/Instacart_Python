{
 "cells": [
  {
   "cell_type": "markdown",
   "id": "9f63e1d3",
   "metadata": {},
   "source": [
    "## Table of contents\n",
    "## Question 3: Import of pickle file and products file\n",
    "## Question 4: Shape of the dataframes\n",
    "## Question 5: Combine the orders_products_combined dataframe with your products data set\n",
    "## Question 6: Confirm the results of the merge using the merge flag\n",
    "## Question 7: Exporting the newly created dataframe"
   ]
  },
  {
   "cell_type": "markdown",
   "id": "c548beed",
   "metadata": {},
   "source": [
    "# Question 3: Import of pickle file and products file"
   ]
  },
  {
   "cell_type": "code",
   "execution_count": 26,
   "id": "2c3a7653",
   "metadata": {},
   "outputs": [],
   "source": [
    "# Importing libraries\n",
    "\n",
    "import pandas as pd\n",
    "import numpy as np\n",
    "import os"
   ]
  },
  {
   "cell_type": "code",
   "execution_count": 27,
   "id": "ea74d9fb",
   "metadata": {},
   "outputs": [],
   "source": [
    "# Set path\n",
    "\n",
    "path = r'C:\\Users\\Eva\\Documents\\Instacart Basket Analysis'"
   ]
  },
  {
   "cell_type": "code",
   "execution_count": 28,
   "id": "86a78f11",
   "metadata": {},
   "outputs": [],
   "source": [
    "# Importing data files\n",
    "df_orders_products_combined = pd.read_pickle(os.path.join(path, '02 Data', 'Prepared Data', 'orders_products_combined.pkl'))\n",
    "df_prods = pd.read_csv(os.path.join(path, '02 Data', 'Prepared Data', 'products_checked.csv'))"
   ]
  },
  {
   "cell_type": "code",
   "execution_count": 29,
   "id": "10bf0a54",
   "metadata": {},
   "outputs": [
    {
     "data": {
      "text/plain": [
       "Index(['product_id', 'product_name', 'aisle_id', 'department_id', 'prices'], dtype='object')"
      ]
     },
     "execution_count": 29,
     "metadata": {},
     "output_type": "execute_result"
    }
   ],
   "source": [
    "df_prods.columns"
   ]
  },
  {
   "cell_type": "code",
   "execution_count": 30,
   "id": "dde508cd",
   "metadata": {},
   "outputs": [
    {
     "name": "stdout",
     "output_type": "stream",
     "text": [
      "<class 'pandas.core.frame.DataFrame'>\n",
      "RangeIndex: 49672 entries, 0 to 49671\n",
      "Data columns (total 5 columns):\n",
      " #   Column         Non-Null Count  Dtype  \n",
      "---  ------         --------------  -----  \n",
      " 0   product_id     49672 non-null  int64  \n",
      " 1   product_name   49672 non-null  object \n",
      " 2   aisle_id       49672 non-null  int64  \n",
      " 3   department_id  49672 non-null  int64  \n",
      " 4   prices         49672 non-null  float64\n",
      "dtypes: float64(1), int64(3), object(1)\n",
      "memory usage: 1.9+ MB\n"
     ]
    }
   ],
   "source": [
    "# Check datatypes and memory usage for df_prods\n",
    "\n",
    "df_prods.info()"
   ]
  },
  {
   "cell_type": "code",
   "execution_count": 31,
   "id": "29b94554",
   "metadata": {},
   "outputs": [],
   "source": [
    "# Change data types for df_prods\n",
    "\n",
    "df_prods['product_id']=df_prods['product_id'].astype('int32')\n",
    "df_prods['product_name'] = df_prods['product_name'].astype('object')\n",
    "df_prods['aisle_id'] = df_prods['aisle_id'].astype('int8')\n",
    "df_prods['department_id']=df_prods['department_id'].astype('int8')\n",
    "df_prods['prices']=df_prods['prices'].astype('float16')"
   ]
  },
  {
   "cell_type": "code",
   "execution_count": 32,
   "id": "a2b5f9ad",
   "metadata": {},
   "outputs": [
    {
     "name": "stdout",
     "output_type": "stream",
     "text": [
      "<class 'pandas.core.frame.DataFrame'>\n",
      "RangeIndex: 49672 entries, 0 to 49671\n",
      "Data columns (total 5 columns):\n",
      " #   Column         Non-Null Count  Dtype  \n",
      "---  ------         --------------  -----  \n",
      " 0   product_id     49672 non-null  int32  \n",
      " 1   product_name   49672 non-null  object \n",
      " 2   aisle_id       49672 non-null  int8   \n",
      " 3   department_id  49672 non-null  int8   \n",
      " 4   prices         49672 non-null  float16\n",
      "dtypes: float16(1), int32(1), int8(2), object(1)\n",
      "memory usage: 776.2+ KB\n"
     ]
    }
   ],
   "source": [
    "# Check output to see memory usage\n",
    "\n",
    "df_prods.info()"
   ]
  },
  {
   "cell_type": "code",
   "execution_count": 33,
   "id": "58343fb9",
   "metadata": {},
   "outputs": [
    {
     "name": "stdout",
     "output_type": "stream",
     "text": [
      "<class 'pandas.core.frame.DataFrame'>\n",
      "Int64Index: 32434489 entries, 0 to 32434488\n",
      "Data columns (total 10 columns):\n",
      " #   Column                  Dtype   \n",
      "---  ------                  -----   \n",
      " 0   order_id                int64   \n",
      " 1   user_id                 int64   \n",
      " 2   order_number            int64   \n",
      " 3   orders_day_of_week      int64   \n",
      " 4   order_hour_of_day       int64   \n",
      " 5   days_since_prior_order  float64 \n",
      " 6   product_id              int64   \n",
      " 7   add_to_cart_order       int64   \n",
      " 8   reordered               int64   \n",
      " 9   _merge                  category\n",
      "dtypes: category(1), float64(1), int64(8)\n",
      "memory usage: 2.4 GB\n"
     ]
    }
   ],
   "source": [
    "# Check datatypes and memory usage for df_orders_products_combined \n",
    "\n",
    "df_orders_products_combined.info()"
   ]
  },
  {
   "cell_type": "code",
   "execution_count": 34,
   "id": "8a6867bb",
   "metadata": {},
   "outputs": [],
   "source": [
    "# Change types for df_orders_products_combined \n",
    "\n",
    "df_orders_products_combined['order_id']=df_orders_products_combined['order_id'].astype('int32')\n",
    "df_orders_products_combined['user_id'] = df_orders_products_combined['user_id'].astype('int32')\n",
    "df_orders_products_combined['order_number']=df_orders_products_combined['order_number'].astype('int8')\n",
    "df_orders_products_combined['orders_day_of_week']=df_orders_products_combined['orders_day_of_week'].astype('int8')\n",
    "df_orders_products_combined['order_hour_of_day']=df_orders_products_combined['order_hour_of_day'].astype('int8')\n",
    "df_orders_products_combined['days_since_prior_order']=df_orders_products_combined['days_since_prior_order'].astype('float16')\n",
    "df_orders_products_combined['product_id']=df_orders_products_combined['product_id'].astype('int32')\n",
    "df_orders_products_combined['add_to_cart_order']=df_orders_products_combined['add_to_cart_order'].astype('int32')\n",
    "df_orders_products_combined['reordered']=df_orders_products_combined['reordered'].astype('int8')"
   ]
  },
  {
   "cell_type": "code",
   "execution_count": 35,
   "id": "2385ddb6",
   "metadata": {},
   "outputs": [
    {
     "name": "stdout",
     "output_type": "stream",
     "text": [
      "<class 'pandas.core.frame.DataFrame'>\n",
      "Int64Index: 32434489 entries, 0 to 32434488\n",
      "Data columns (total 10 columns):\n",
      " #   Column                  Dtype   \n",
      "---  ------                  -----   \n",
      " 0   order_id                int32   \n",
      " 1   user_id                 int32   \n",
      " 2   order_number            int8    \n",
      " 3   orders_day_of_week      int8    \n",
      " 4   order_hour_of_day       int8    \n",
      " 5   days_since_prior_order  float16 \n",
      " 6   product_id              int32   \n",
      " 7   add_to_cart_order       int32   \n",
      " 8   reordered               int8    \n",
      " 9   _merge                  category\n",
      "dtypes: category(1), float16(1), int32(4), int8(4)\n",
      "memory usage: 958.9 MB\n"
     ]
    }
   ],
   "source": [
    "# Check memory usage for df_orders_products_combined \n",
    "\n",
    "df_orders_products_combined.info()"
   ]
  },
  {
   "cell_type": "markdown",
   "id": "99b60f67",
   "metadata": {},
   "source": [
    "# Question 4: Shape of the dataframes"
   ]
  },
  {
   "cell_type": "code",
   "execution_count": 36,
   "id": "41c5febd",
   "metadata": {},
   "outputs": [
    {
     "data": {
      "text/plain": [
       "(32434489, 10)"
      ]
     },
     "execution_count": 36,
     "metadata": {},
     "output_type": "execute_result"
    }
   ],
   "source": [
    "# Shape of order_products_combined dataframe\n",
    "\n",
    "df_orders_products_combined.shape "
   ]
  },
  {
   "cell_type": "code",
   "execution_count": 37,
   "id": "6a889ca7",
   "metadata": {},
   "outputs": [
    {
     "data": {
      "text/html": [
       "<div>\n",
       "<style scoped>\n",
       "    .dataframe tbody tr th:only-of-type {\n",
       "        vertical-align: middle;\n",
       "    }\n",
       "\n",
       "    .dataframe tbody tr th {\n",
       "        vertical-align: top;\n",
       "    }\n",
       "\n",
       "    .dataframe thead th {\n",
       "        text-align: right;\n",
       "    }\n",
       "</style>\n",
       "<table border=\"1\" class=\"dataframe\">\n",
       "  <thead>\n",
       "    <tr style=\"text-align: right;\">\n",
       "      <th></th>\n",
       "      <th>order_id</th>\n",
       "      <th>user_id</th>\n",
       "      <th>order_number</th>\n",
       "      <th>orders_day_of_week</th>\n",
       "      <th>order_hour_of_day</th>\n",
       "      <th>days_since_prior_order</th>\n",
       "      <th>product_id</th>\n",
       "      <th>add_to_cart_order</th>\n",
       "      <th>reordered</th>\n",
       "      <th>_merge</th>\n",
       "    </tr>\n",
       "  </thead>\n",
       "  <tbody>\n",
       "    <tr>\n",
       "      <th>0</th>\n",
       "      <td>2539329</td>\n",
       "      <td>1</td>\n",
       "      <td>1</td>\n",
       "      <td>2</td>\n",
       "      <td>8</td>\n",
       "      <td>0.0</td>\n",
       "      <td>196</td>\n",
       "      <td>1</td>\n",
       "      <td>0</td>\n",
       "      <td>both</td>\n",
       "    </tr>\n",
       "    <tr>\n",
       "      <th>1</th>\n",
       "      <td>2539329</td>\n",
       "      <td>1</td>\n",
       "      <td>1</td>\n",
       "      <td>2</td>\n",
       "      <td>8</td>\n",
       "      <td>0.0</td>\n",
       "      <td>14084</td>\n",
       "      <td>2</td>\n",
       "      <td>0</td>\n",
       "      <td>both</td>\n",
       "    </tr>\n",
       "    <tr>\n",
       "      <th>2</th>\n",
       "      <td>2539329</td>\n",
       "      <td>1</td>\n",
       "      <td>1</td>\n",
       "      <td>2</td>\n",
       "      <td>8</td>\n",
       "      <td>0.0</td>\n",
       "      <td>12427</td>\n",
       "      <td>3</td>\n",
       "      <td>0</td>\n",
       "      <td>both</td>\n",
       "    </tr>\n",
       "    <tr>\n",
       "      <th>3</th>\n",
       "      <td>2539329</td>\n",
       "      <td>1</td>\n",
       "      <td>1</td>\n",
       "      <td>2</td>\n",
       "      <td>8</td>\n",
       "      <td>0.0</td>\n",
       "      <td>26088</td>\n",
       "      <td>4</td>\n",
       "      <td>0</td>\n",
       "      <td>both</td>\n",
       "    </tr>\n",
       "    <tr>\n",
       "      <th>4</th>\n",
       "      <td>2539329</td>\n",
       "      <td>1</td>\n",
       "      <td>1</td>\n",
       "      <td>2</td>\n",
       "      <td>8</td>\n",
       "      <td>0.0</td>\n",
       "      <td>26405</td>\n",
       "      <td>5</td>\n",
       "      <td>0</td>\n",
       "      <td>both</td>\n",
       "    </tr>\n",
       "  </tbody>\n",
       "</table>\n",
       "</div>"
      ],
      "text/plain": [
       "   order_id  user_id  order_number  orders_day_of_week  order_hour_of_day  \\\n",
       "0   2539329        1             1                   2                  8   \n",
       "1   2539329        1             1                   2                  8   \n",
       "2   2539329        1             1                   2                  8   \n",
       "3   2539329        1             1                   2                  8   \n",
       "4   2539329        1             1                   2                  8   \n",
       "\n",
       "   days_since_prior_order  product_id  add_to_cart_order  reordered _merge  \n",
       "0                     0.0         196                  1          0   both  \n",
       "1                     0.0       14084                  2          0   both  \n",
       "2                     0.0       12427                  3          0   both  \n",
       "3                     0.0       26088                  4          0   both  \n",
       "4                     0.0       26405                  5          0   both  "
      ]
     },
     "execution_count": 37,
     "metadata": {},
     "output_type": "execute_result"
    }
   ],
   "source": [
    "df_orders_products_combined.head()"
   ]
  },
  {
   "cell_type": "code",
   "execution_count": 38,
   "id": "6f2b17ee",
   "metadata": {},
   "outputs": [
    {
     "data": {
      "text/plain": [
       "(49672, 5)"
      ]
     },
     "execution_count": 38,
     "metadata": {},
     "output_type": "execute_result"
    }
   ],
   "source": [
    "# Shape of products dataframe \n",
    "\n",
    "df_prods.shape"
   ]
  },
  {
   "cell_type": "code",
   "execution_count": 39,
   "id": "b4072806",
   "metadata": {},
   "outputs": [
    {
     "data": {
      "text/html": [
       "<div>\n",
       "<style scoped>\n",
       "    .dataframe tbody tr th:only-of-type {\n",
       "        vertical-align: middle;\n",
       "    }\n",
       "\n",
       "    .dataframe tbody tr th {\n",
       "        vertical-align: top;\n",
       "    }\n",
       "\n",
       "    .dataframe thead th {\n",
       "        text-align: right;\n",
       "    }\n",
       "</style>\n",
       "<table border=\"1\" class=\"dataframe\">\n",
       "  <thead>\n",
       "    <tr style=\"text-align: right;\">\n",
       "      <th></th>\n",
       "      <th>product_id</th>\n",
       "      <th>product_name</th>\n",
       "      <th>aisle_id</th>\n",
       "      <th>department_id</th>\n",
       "      <th>prices</th>\n",
       "    </tr>\n",
       "  </thead>\n",
       "  <tbody>\n",
       "    <tr>\n",
       "      <th>0</th>\n",
       "      <td>1</td>\n",
       "      <td>Chocolate Sandwich Cookies</td>\n",
       "      <td>61</td>\n",
       "      <td>19</td>\n",
       "      <td>5.800781</td>\n",
       "    </tr>\n",
       "    <tr>\n",
       "      <th>1</th>\n",
       "      <td>2</td>\n",
       "      <td>All-Seasons Salt</td>\n",
       "      <td>104</td>\n",
       "      <td>13</td>\n",
       "      <td>9.296875</td>\n",
       "    </tr>\n",
       "    <tr>\n",
       "      <th>2</th>\n",
       "      <td>3</td>\n",
       "      <td>Robust Golden Unsweetened Oolong Tea</td>\n",
       "      <td>94</td>\n",
       "      <td>7</td>\n",
       "      <td>4.500000</td>\n",
       "    </tr>\n",
       "    <tr>\n",
       "      <th>3</th>\n",
       "      <td>4</td>\n",
       "      <td>Smart Ones Classic Favorites Mini Rigatoni Wit...</td>\n",
       "      <td>38</td>\n",
       "      <td>1</td>\n",
       "      <td>10.500000</td>\n",
       "    </tr>\n",
       "    <tr>\n",
       "      <th>4</th>\n",
       "      <td>5</td>\n",
       "      <td>Green Chile Anytime Sauce</td>\n",
       "      <td>5</td>\n",
       "      <td>13</td>\n",
       "      <td>4.300781</td>\n",
       "    </tr>\n",
       "  </tbody>\n",
       "</table>\n",
       "</div>"
      ],
      "text/plain": [
       "   product_id                                       product_name  aisle_id  \\\n",
       "0           1                         Chocolate Sandwich Cookies        61   \n",
       "1           2                                   All-Seasons Salt       104   \n",
       "2           3               Robust Golden Unsweetened Oolong Tea        94   \n",
       "3           4  Smart Ones Classic Favorites Mini Rigatoni Wit...        38   \n",
       "4           5                          Green Chile Anytime Sauce         5   \n",
       "\n",
       "   department_id     prices  \n",
       "0             19   5.800781  \n",
       "1             13   9.296875  \n",
       "2              7   4.500000  \n",
       "3              1  10.500000  \n",
       "4             13   4.300781  "
      ]
     },
     "execution_count": 39,
     "metadata": {},
     "output_type": "execute_result"
    }
   ],
   "source": [
    "df_prods.head()"
   ]
  },
  {
   "cell_type": "markdown",
   "id": "6b31c097",
   "metadata": {},
   "source": [
    "# Question 5: Combine the orders_products_combined dataframe with your products data set"
   ]
  },
  {
   "cell_type": "code",
   "execution_count": 47,
   "id": "d8622749",
   "metadata": {},
   "outputs": [],
   "source": [
    "df_merged = df_orders_products_combined.merge(df_prods, on = 'product_id', indicator = True)"
   ]
  },
  {
   "cell_type": "code",
   "execution_count": 42,
   "id": "1020243e",
   "metadata": {},
   "outputs": [
    {
     "data": {
      "text/html": [
       "<div>\n",
       "<style scoped>\n",
       "    .dataframe tbody tr th:only-of-type {\n",
       "        vertical-align: middle;\n",
       "    }\n",
       "\n",
       "    .dataframe tbody tr th {\n",
       "        vertical-align: top;\n",
       "    }\n",
       "\n",
       "    .dataframe thead th {\n",
       "        text-align: right;\n",
       "    }\n",
       "</style>\n",
       "<table border=\"1\" class=\"dataframe\">\n",
       "  <thead>\n",
       "    <tr style=\"text-align: right;\">\n",
       "      <th></th>\n",
       "      <th>order_id</th>\n",
       "      <th>user_id</th>\n",
       "      <th>order_number</th>\n",
       "      <th>orders_day_of_week</th>\n",
       "      <th>order_hour_of_day</th>\n",
       "      <th>days_since_prior_order</th>\n",
       "      <th>product_id</th>\n",
       "      <th>add_to_cart_order</th>\n",
       "      <th>reordered</th>\n",
       "      <th>_merge</th>\n",
       "      <th>product_name</th>\n",
       "      <th>aisle_id</th>\n",
       "      <th>department_id</th>\n",
       "      <th>prices</th>\n",
       "    </tr>\n",
       "  </thead>\n",
       "  <tbody>\n",
       "    <tr>\n",
       "      <th>0</th>\n",
       "      <td>2539329</td>\n",
       "      <td>1</td>\n",
       "      <td>1</td>\n",
       "      <td>2</td>\n",
       "      <td>8</td>\n",
       "      <td>0.0</td>\n",
       "      <td>196</td>\n",
       "      <td>1</td>\n",
       "      <td>0</td>\n",
       "      <td>both</td>\n",
       "      <td>Soda</td>\n",
       "      <td>77</td>\n",
       "      <td>7</td>\n",
       "      <td>9.000000</td>\n",
       "    </tr>\n",
       "    <tr>\n",
       "      <th>1</th>\n",
       "      <td>2398795</td>\n",
       "      <td>1</td>\n",
       "      <td>2</td>\n",
       "      <td>3</td>\n",
       "      <td>7</td>\n",
       "      <td>15.0</td>\n",
       "      <td>196</td>\n",
       "      <td>1</td>\n",
       "      <td>1</td>\n",
       "      <td>both</td>\n",
       "      <td>Soda</td>\n",
       "      <td>77</td>\n",
       "      <td>7</td>\n",
       "      <td>9.000000</td>\n",
       "    </tr>\n",
       "    <tr>\n",
       "      <th>2</th>\n",
       "      <td>473747</td>\n",
       "      <td>1</td>\n",
       "      <td>3</td>\n",
       "      <td>3</td>\n",
       "      <td>12</td>\n",
       "      <td>21.0</td>\n",
       "      <td>196</td>\n",
       "      <td>1</td>\n",
       "      <td>1</td>\n",
       "      <td>both</td>\n",
       "      <td>Soda</td>\n",
       "      <td>77</td>\n",
       "      <td>7</td>\n",
       "      <td>9.000000</td>\n",
       "    </tr>\n",
       "    <tr>\n",
       "      <th>3</th>\n",
       "      <td>2254736</td>\n",
       "      <td>1</td>\n",
       "      <td>4</td>\n",
       "      <td>4</td>\n",
       "      <td>7</td>\n",
       "      <td>29.0</td>\n",
       "      <td>196</td>\n",
       "      <td>1</td>\n",
       "      <td>1</td>\n",
       "      <td>both</td>\n",
       "      <td>Soda</td>\n",
       "      <td>77</td>\n",
       "      <td>7</td>\n",
       "      <td>9.000000</td>\n",
       "    </tr>\n",
       "    <tr>\n",
       "      <th>4</th>\n",
       "      <td>431534</td>\n",
       "      <td>1</td>\n",
       "      <td>5</td>\n",
       "      <td>4</td>\n",
       "      <td>15</td>\n",
       "      <td>28.0</td>\n",
       "      <td>196</td>\n",
       "      <td>1</td>\n",
       "      <td>1</td>\n",
       "      <td>both</td>\n",
       "      <td>Soda</td>\n",
       "      <td>77</td>\n",
       "      <td>7</td>\n",
       "      <td>9.000000</td>\n",
       "    </tr>\n",
       "    <tr>\n",
       "      <th>...</th>\n",
       "      <td>...</td>\n",
       "      <td>...</td>\n",
       "      <td>...</td>\n",
       "      <td>...</td>\n",
       "      <td>...</td>\n",
       "      <td>...</td>\n",
       "      <td>...</td>\n",
       "      <td>...</td>\n",
       "      <td>...</td>\n",
       "      <td>...</td>\n",
       "      <td>...</td>\n",
       "      <td>...</td>\n",
       "      <td>...</td>\n",
       "      <td>...</td>\n",
       "    </tr>\n",
       "    <tr>\n",
       "      <th>32404854</th>\n",
       "      <td>1320836</td>\n",
       "      <td>202557</td>\n",
       "      <td>17</td>\n",
       "      <td>2</td>\n",
       "      <td>15</td>\n",
       "      <td>1.0</td>\n",
       "      <td>43553</td>\n",
       "      <td>2</td>\n",
       "      <td>1</td>\n",
       "      <td>both</td>\n",
       "      <td>Orange Energy Shots</td>\n",
       "      <td>64</td>\n",
       "      <td>7</td>\n",
       "      <td>3.699219</td>\n",
       "    </tr>\n",
       "    <tr>\n",
       "      <th>32404855</th>\n",
       "      <td>31526</td>\n",
       "      <td>202557</td>\n",
       "      <td>18</td>\n",
       "      <td>5</td>\n",
       "      <td>11</td>\n",
       "      <td>3.0</td>\n",
       "      <td>43553</td>\n",
       "      <td>2</td>\n",
       "      <td>1</td>\n",
       "      <td>both</td>\n",
       "      <td>Orange Energy Shots</td>\n",
       "      <td>64</td>\n",
       "      <td>7</td>\n",
       "      <td>3.699219</td>\n",
       "    </tr>\n",
       "    <tr>\n",
       "      <th>32404856</th>\n",
       "      <td>758936</td>\n",
       "      <td>203436</td>\n",
       "      <td>1</td>\n",
       "      <td>2</td>\n",
       "      <td>7</td>\n",
       "      <td>0.0</td>\n",
       "      <td>42338</td>\n",
       "      <td>4</td>\n",
       "      <td>0</td>\n",
       "      <td>both</td>\n",
       "      <td>Zucchini Chips, Pesto</td>\n",
       "      <td>50</td>\n",
       "      <td>19</td>\n",
       "      <td>6.898438</td>\n",
       "    </tr>\n",
       "    <tr>\n",
       "      <th>32404857</th>\n",
       "      <td>2745165</td>\n",
       "      <td>203436</td>\n",
       "      <td>2</td>\n",
       "      <td>3</td>\n",
       "      <td>5</td>\n",
       "      <td>15.0</td>\n",
       "      <td>42338</td>\n",
       "      <td>16</td>\n",
       "      <td>1</td>\n",
       "      <td>both</td>\n",
       "      <td>Zucchini Chips, Pesto</td>\n",
       "      <td>50</td>\n",
       "      <td>19</td>\n",
       "      <td>6.898438</td>\n",
       "    </tr>\n",
       "    <tr>\n",
       "      <th>32404858</th>\n",
       "      <td>3093936</td>\n",
       "      <td>205420</td>\n",
       "      <td>1</td>\n",
       "      <td>4</td>\n",
       "      <td>14</td>\n",
       "      <td>0.0</td>\n",
       "      <td>28818</td>\n",
       "      <td>8</td>\n",
       "      <td>0</td>\n",
       "      <td>both</td>\n",
       "      <td>Hot Oatmeal Multigrain Raisin</td>\n",
       "      <td>-126</td>\n",
       "      <td>14</td>\n",
       "      <td>10.296875</td>\n",
       "    </tr>\n",
       "  </tbody>\n",
       "</table>\n",
       "<p>32404859 rows × 14 columns</p>\n",
       "</div>"
      ],
      "text/plain": [
       "          order_id  user_id  order_number  orders_day_of_week  \\\n",
       "0          2539329        1             1                   2   \n",
       "1          2398795        1             2                   3   \n",
       "2           473747        1             3                   3   \n",
       "3          2254736        1             4                   4   \n",
       "4           431534        1             5                   4   \n",
       "...            ...      ...           ...                 ...   \n",
       "32404854   1320836   202557            17                   2   \n",
       "32404855     31526   202557            18                   5   \n",
       "32404856    758936   203436             1                   2   \n",
       "32404857   2745165   203436             2                   3   \n",
       "32404858   3093936   205420             1                   4   \n",
       "\n",
       "          order_hour_of_day  days_since_prior_order  product_id  \\\n",
       "0                         8                     0.0         196   \n",
       "1                         7                    15.0         196   \n",
       "2                        12                    21.0         196   \n",
       "3                         7                    29.0         196   \n",
       "4                        15                    28.0         196   \n",
       "...                     ...                     ...         ...   \n",
       "32404854                 15                     1.0       43553   \n",
       "32404855                 11                     3.0       43553   \n",
       "32404856                  7                     0.0       42338   \n",
       "32404857                  5                    15.0       42338   \n",
       "32404858                 14                     0.0       28818   \n",
       "\n",
       "          add_to_cart_order  reordered _merge                   product_name  \\\n",
       "0                         1          0   both                           Soda   \n",
       "1                         1          1   both                           Soda   \n",
       "2                         1          1   both                           Soda   \n",
       "3                         1          1   both                           Soda   \n",
       "4                         1          1   both                           Soda   \n",
       "...                     ...        ...    ...                            ...   \n",
       "32404854                  2          1   both            Orange Energy Shots   \n",
       "32404855                  2          1   both            Orange Energy Shots   \n",
       "32404856                  4          0   both          Zucchini Chips, Pesto   \n",
       "32404857                 16          1   both          Zucchini Chips, Pesto   \n",
       "32404858                  8          0   both  Hot Oatmeal Multigrain Raisin   \n",
       "\n",
       "          aisle_id  department_id     prices  \n",
       "0               77              7   9.000000  \n",
       "1               77              7   9.000000  \n",
       "2               77              7   9.000000  \n",
       "3               77              7   9.000000  \n",
       "4               77              7   9.000000  \n",
       "...            ...            ...        ...  \n",
       "32404854        64              7   3.699219  \n",
       "32404855        64              7   3.699219  \n",
       "32404856        50             19   6.898438  \n",
       "32404857        50             19   6.898438  \n",
       "32404858      -126             14  10.296875  \n",
       "\n",
       "[32404859 rows x 14 columns]"
      ]
     },
     "execution_count": 42,
     "metadata": {},
     "output_type": "execute_result"
    }
   ],
   "source": [
    "df_merged"
   ]
  },
  {
   "cell_type": "markdown",
   "id": "12dab4c2",
   "metadata": {},
   "source": [
    "# Question 6: Confirm the results of the merge using the merge flag."
   ]
  },
  {
   "cell_type": "code",
   "execution_count": 48,
   "id": "cec01ce6",
   "metadata": {},
   "outputs": [
    {
     "data": {
      "text/plain": [
       "both          32404859\n",
       "left_only            0\n",
       "right_only           0\n",
       "Name: _merge, dtype: int64"
      ]
     },
     "execution_count": 48,
     "metadata": {},
     "output_type": "execute_result"
    }
   ],
   "source": [
    "# See above and also:\n",
    "df_merged['_merge'].value_counts()"
   ]
  },
  {
   "cell_type": "markdown",
   "id": "f6220063",
   "metadata": {},
   "source": [
    "# Question 7: Exporting the newly created dataframe"
   ]
  },
  {
   "cell_type": "code",
   "execution_count": 50,
   "id": "07c03857",
   "metadata": {},
   "outputs": [],
   "source": [
    "df_merged.to_pickle(os.path.join(path, '02 Data','Prepared Data', 'merged_data.pkl'))"
   ]
  },
  {
   "cell_type": "code",
   "execution_count": null,
   "id": "b3698265",
   "metadata": {},
   "outputs": [],
   "source": []
  }
 ],
 "metadata": {
  "kernelspec": {
   "display_name": "Python 3 (ipykernel)",
   "language": "python",
   "name": "python3"
  },
  "language_info": {
   "codemirror_mode": {
    "name": "ipython",
    "version": 3
   },
   "file_extension": ".py",
   "mimetype": "text/x-python",
   "name": "python",
   "nbconvert_exporter": "python",
   "pygments_lexer": "ipython3",
   "version": "3.10.9"
  }
 },
 "nbformat": 4,
 "nbformat_minor": 5
}
