{
 "cells": [
  {
   "cell_type": "markdown",
   "id": "13d51f21",
   "metadata": {},
   "source": [
    "# Final Report"
   ]
  },
  {
   "cell_type": "markdown",
   "id": "420e29c8",
   "metadata": {},
   "source": [
    "## Table of Contents\n",
    "## Step 1: Importing libraries and data files\n",
    "## Step 2: Addressing security Implications\n",
    "## Step 3.1: Regional segmentation of the data\n",
    "## Step 3.2: Difference in spending habits between the different U.S. regions\n",
    "## Step 4: Exclusion flag for low-activity customers \n",
    "## Step 5: Creating profiling variables based on age, income, certain goods in the “department_id” column, and number of dependents/familiy status \n",
    "### Age\n",
    "### Income\n",
    "### Department\n",
    "### Family status\n",
    "## Step 6: Visualization to show the distribution of profiles\n",
    "## Step 7: Aggregation of the max, mean, and min variables on a customer-profile level for usage frequency and expenditure\n",
    "## Step 8: Comparison of customer profiles with regions and departments\n",
    "## Step 9: Charts to illustrate the results \n",
    "### Visualizations for profiles by region\n",
    "### Visualizations for profiles by department\n",
    "## Step 10: Exporting the data file\n",
    "## Further analysis to answer other project questions"
   ]
  },
  {
   "cell_type": "markdown",
   "id": "9d4f7fcc",
   "metadata": {},
   "source": [
    "## Step 1: Importing libraries and data files"
   ]
  },
  {
   "cell_type": "code",
   "execution_count": 1,
   "id": "0d5b7d2f",
   "metadata": {},
   "outputs": [],
   "source": [
    "# Importing libraries\n",
    "\n",
    "import pandas as pd\n",
    "import numpy as np\n",
    "import os\n",
    "import matplotlib.pyplot as plt\n",
    "import seaborn as sns\n",
    "import scipy"
   ]
  },
  {
   "cell_type": "code",
   "execution_count": 2,
   "id": "f44390f4",
   "metadata": {},
   "outputs": [],
   "source": [
    "# Importing data file\n",
    "\n",
    "path = r'C:\\Users\\Lenovo\\Documents\\Instacart Basket Analysis'\n",
    "df_combined = pd.read_pickle(os.path.join(path, '02 Data', 'Prepared Data', 'all_combined_2.pkl'))"
   ]
  },
  {
   "cell_type": "code",
   "execution_count": 3,
   "id": "7fb6e913",
   "metadata": {},
   "outputs": [
    {
     "data": {
      "text/html": [
       "<div>\n",
       "<style scoped>\n",
       "    .dataframe tbody tr th:only-of-type {\n",
       "        vertical-align: middle;\n",
       "    }\n",
       "\n",
       "    .dataframe tbody tr th {\n",
       "        vertical-align: top;\n",
       "    }\n",
       "\n",
       "    .dataframe thead th {\n",
       "        text-align: right;\n",
       "    }\n",
       "</style>\n",
       "<table border=\"1\" class=\"dataframe\">\n",
       "  <thead>\n",
       "    <tr style=\"text-align: right;\">\n",
       "      <th></th>\n",
       "      <th>order_id</th>\n",
       "      <th>user_id</th>\n",
       "      <th>order_number</th>\n",
       "      <th>orders_day_of_week</th>\n",
       "      <th>order_hour_of_day</th>\n",
       "      <th>days_since_prior_order</th>\n",
       "      <th>product_id</th>\n",
       "      <th>add_to_cart_order</th>\n",
       "      <th>reordered</th>\n",
       "      <th>product_name</th>\n",
       "      <th>...</th>\n",
       "      <th>ord_frequency_flag</th>\n",
       "      <th>first_name</th>\n",
       "      <th>last_name</th>\n",
       "      <th>gender</th>\n",
       "      <th>state</th>\n",
       "      <th>age</th>\n",
       "      <th>date_joined</th>\n",
       "      <th>number_of_dependants</th>\n",
       "      <th>marital_status</th>\n",
       "      <th>income</th>\n",
       "    </tr>\n",
       "  </thead>\n",
       "  <tbody>\n",
       "    <tr>\n",
       "      <th>0</th>\n",
       "      <td>2539329</td>\n",
       "      <td>1</td>\n",
       "      <td>1</td>\n",
       "      <td>2</td>\n",
       "      <td>8</td>\n",
       "      <td>0.0</td>\n",
       "      <td>196</td>\n",
       "      <td>1</td>\n",
       "      <td>0</td>\n",
       "      <td>Soda</td>\n",
       "      <td>...</td>\n",
       "      <td>Regular customer</td>\n",
       "      <td>Linda</td>\n",
       "      <td>Nguyen</td>\n",
       "      <td>Female</td>\n",
       "      <td>Alabama</td>\n",
       "      <td>31</td>\n",
       "      <td>2/17/2019</td>\n",
       "      <td>3</td>\n",
       "      <td>married</td>\n",
       "      <td>40423</td>\n",
       "    </tr>\n",
       "    <tr>\n",
       "      <th>1</th>\n",
       "      <td>2398795</td>\n",
       "      <td>1</td>\n",
       "      <td>2</td>\n",
       "      <td>3</td>\n",
       "      <td>7</td>\n",
       "      <td>15.0</td>\n",
       "      <td>196</td>\n",
       "      <td>1</td>\n",
       "      <td>1</td>\n",
       "      <td>Soda</td>\n",
       "      <td>...</td>\n",
       "      <td>Regular customer</td>\n",
       "      <td>Linda</td>\n",
       "      <td>Nguyen</td>\n",
       "      <td>Female</td>\n",
       "      <td>Alabama</td>\n",
       "      <td>31</td>\n",
       "      <td>2/17/2019</td>\n",
       "      <td>3</td>\n",
       "      <td>married</td>\n",
       "      <td>40423</td>\n",
       "    </tr>\n",
       "    <tr>\n",
       "      <th>2</th>\n",
       "      <td>473747</td>\n",
       "      <td>1</td>\n",
       "      <td>3</td>\n",
       "      <td>3</td>\n",
       "      <td>12</td>\n",
       "      <td>21.0</td>\n",
       "      <td>196</td>\n",
       "      <td>1</td>\n",
       "      <td>1</td>\n",
       "      <td>Soda</td>\n",
       "      <td>...</td>\n",
       "      <td>Regular customer</td>\n",
       "      <td>Linda</td>\n",
       "      <td>Nguyen</td>\n",
       "      <td>Female</td>\n",
       "      <td>Alabama</td>\n",
       "      <td>31</td>\n",
       "      <td>2/17/2019</td>\n",
       "      <td>3</td>\n",
       "      <td>married</td>\n",
       "      <td>40423</td>\n",
       "    </tr>\n",
       "    <tr>\n",
       "      <th>3</th>\n",
       "      <td>2254736</td>\n",
       "      <td>1</td>\n",
       "      <td>4</td>\n",
       "      <td>4</td>\n",
       "      <td>7</td>\n",
       "      <td>29.0</td>\n",
       "      <td>196</td>\n",
       "      <td>1</td>\n",
       "      <td>1</td>\n",
       "      <td>Soda</td>\n",
       "      <td>...</td>\n",
       "      <td>Regular customer</td>\n",
       "      <td>Linda</td>\n",
       "      <td>Nguyen</td>\n",
       "      <td>Female</td>\n",
       "      <td>Alabama</td>\n",
       "      <td>31</td>\n",
       "      <td>2/17/2019</td>\n",
       "      <td>3</td>\n",
       "      <td>married</td>\n",
       "      <td>40423</td>\n",
       "    </tr>\n",
       "    <tr>\n",
       "      <th>4</th>\n",
       "      <td>431534</td>\n",
       "      <td>1</td>\n",
       "      <td>5</td>\n",
       "      <td>4</td>\n",
       "      <td>15</td>\n",
       "      <td>28.0</td>\n",
       "      <td>196</td>\n",
       "      <td>1</td>\n",
       "      <td>1</td>\n",
       "      <td>Soda</td>\n",
       "      <td>...</td>\n",
       "      <td>Regular customer</td>\n",
       "      <td>Linda</td>\n",
       "      <td>Nguyen</td>\n",
       "      <td>Female</td>\n",
       "      <td>Alabama</td>\n",
       "      <td>31</td>\n",
       "      <td>2/17/2019</td>\n",
       "      <td>3</td>\n",
       "      <td>married</td>\n",
       "      <td>40423</td>\n",
       "    </tr>\n",
       "  </tbody>\n",
       "</table>\n",
       "<p>5 rows × 33 columns</p>\n",
       "</div>"
      ],
      "text/plain": [
       "   order_id user_id  order_number  orders_day_of_week  order_hour_of_day  \\\n",
       "0   2539329       1             1                   2                  8   \n",
       "1   2398795       1             2                   3                  7   \n",
       "2    473747       1             3                   3                 12   \n",
       "3   2254736       1             4                   4                  7   \n",
       "4    431534       1             5                   4                 15   \n",
       "\n",
       "   days_since_prior_order  product_id  add_to_cart_order  reordered  \\\n",
       "0                     0.0         196                  1          0   \n",
       "1                    15.0         196                  1          1   \n",
       "2                    21.0         196                  1          1   \n",
       "3                    29.0         196                  1          1   \n",
       "4                    28.0         196                  1          1   \n",
       "\n",
       "  product_name  ...  ord_frequency_flag  first_name  last_name  gender  \\\n",
       "0         Soda  ...    Regular customer       Linda     Nguyen  Female   \n",
       "1         Soda  ...    Regular customer       Linda     Nguyen  Female   \n",
       "2         Soda  ...    Regular customer       Linda     Nguyen  Female   \n",
       "3         Soda  ...    Regular customer       Linda     Nguyen  Female   \n",
       "4         Soda  ...    Regular customer       Linda     Nguyen  Female   \n",
       "\n",
       "     state age date_joined number_of_dependants  marital_status income  \n",
       "0  Alabama  31   2/17/2019                    3         married  40423  \n",
       "1  Alabama  31   2/17/2019                    3         married  40423  \n",
       "2  Alabama  31   2/17/2019                    3         married  40423  \n",
       "3  Alabama  31   2/17/2019                    3         married  40423  \n",
       "4  Alabama  31   2/17/2019                    3         married  40423  \n",
       "\n",
       "[5 rows x 33 columns]"
      ]
     },
     "execution_count": 3,
     "metadata": {},
     "output_type": "execute_result"
    }
   ],
   "source": [
    "# Checking df after importing\n",
    "\n",
    "df_combined.head()"
   ]
  },
  {
   "cell_type": "code",
   "execution_count": 4,
   "id": "3ea3dfec",
   "metadata": {},
   "outputs": [
    {
     "data": {
      "text/plain": [
       "(32404859, 33)"
      ]
     },
     "execution_count": 4,
     "metadata": {},
     "output_type": "execute_result"
    }
   ],
   "source": [
    "df_combined.shape"
   ]
  },
  {
   "cell_type": "markdown",
   "id": "f385ad71",
   "metadata": {},
   "source": [
    "## Step 2: Addressing security implications"
   ]
  },
  {
   "cell_type": "markdown",
   "id": "918f0b85",
   "metadata": {},
   "source": [
    "I will remove the columns first_name and last_name, so no customer will be personally identifiable."
   ]
  },
  {
   "cell_type": "code",
   "execution_count": 5,
   "id": "9022c219",
   "metadata": {},
   "outputs": [],
   "source": [
    "df_combined = df_combined.drop(columns = ['first_name', 'last_name'])  "
   ]
  },
  {
   "cell_type": "code",
   "execution_count": 6,
   "id": "de8799aa",
   "metadata": {},
   "outputs": [
    {
     "data": {
      "text/plain": [
       "Index(['order_id', 'user_id', 'order_number', 'orders_day_of_week',\n",
       "       'order_hour_of_day', 'days_since_prior_order', 'product_id',\n",
       "       'add_to_cart_order', 'reordered', 'product_name', 'aisle_id',\n",
       "       'department_id', 'prices', '_merge', 'price_label', 'busiest_day',\n",
       "       'busiest_day_2', 'busiest_hour_of_day', 'max_order', 'loyalty_flag',\n",
       "       'avg_price', 'spending_flag', 'median', 'ord_frequency_flag', 'gender',\n",
       "       'state', 'age', 'date_joined', 'number_of_dependants', 'marital_status',\n",
       "       'income'],\n",
       "      dtype='object')"
      ]
     },
     "execution_count": 6,
     "metadata": {},
     "output_type": "execute_result"
    }
   ],
   "source": [
    "# Checking the output\n",
    "\n",
    "df_combined.columns"
   ]
  },
  {
   "cell_type": "markdown",
   "id": "59d4ee52",
   "metadata": {},
   "source": [
    "There are no other security concerns."
   ]
  },
  {
   "cell_type": "markdown",
   "id": "417726bd",
   "metadata": {},
   "source": [
    "## Step 3.1: The Instacart officers are interested in comparing customer behavior in different geographic areas. Create a regional segmentation of the data. You’ll need to create a “Region” column based on the “State” column from your customers data set."
   ]
  },
  {
   "cell_type": "code",
   "execution_count": 16,
   "id": "08a949e2",
   "metadata": {},
   "outputs": [],
   "source": [
    "# Creating an empty region list that will become the 'region' column\n",
    "\n",
    "region = []"
   ]
  },
  {
   "cell_type": "code",
   "execution_count": 17,
   "id": "22d215d5",
   "metadata": {},
   "outputs": [
    {
     "data": {
      "text/plain": [
       "Pennsylvania            667082\n",
       "California              659783\n",
       "Rhode Island            656913\n",
       "Georgia                 656389\n",
       "New Mexico              654494\n",
       "Arizona                 653964\n",
       "North Carolina          651900\n",
       "Oklahoma                651739\n",
       "Alaska                  648495\n",
       "Minnesota               647825\n",
       "Massachusetts           646358\n",
       "Wyoming                 644255\n",
       "Virginia                641421\n",
       "Missouri                640732\n",
       "Texas                   640394\n",
       "Colorado                639280\n",
       "Maine                   638583\n",
       "North Dakota            638491\n",
       "Alabama                 638003\n",
       "Kansas                  637538\n",
       "Louisiana               637482\n",
       "Delaware                637024\n",
       "South Carolina          636754\n",
       "Oregon                  636425\n",
       "Arkansas                636144\n",
       "Nevada                  636139\n",
       "New York                635983\n",
       "Montana                 635265\n",
       "South Dakota            633772\n",
       "Illinois                633024\n",
       "Hawaii                  632901\n",
       "Washington              632852\n",
       "Mississippi             632675\n",
       "Kentucky                632490\n",
       "Michigan                630928\n",
       "Florida                 629027\n",
       "Ohio                    628319\n",
       "Wisconsin               628108\n",
       "New Jersey              627692\n",
       "Indiana                 627282\n",
       "Maryland                626579\n",
       "Nebraska                625813\n",
       "Iowa                    625493\n",
       "Connecticut             623022\n",
       "Tennessee               617873\n",
       "New Hampshire           615378\n",
       "District of Columbia    613695\n",
       "West Virginia           612296\n",
       "Utah                    611941\n",
       "Vermont                 611725\n",
       "Idaho                   607119\n",
       "Name: state, dtype: int64"
      ]
     },
     "execution_count": 17,
     "metadata": {},
     "output_type": "execute_result"
    }
   ],
   "source": [
    "# Checking to see how the states are written in the df\n",
    "\n",
    "df_combined['state'].value_counts(dropna = False)"
   ]
  },
  {
   "cell_type": "code",
   "execution_count": 18,
   "id": "c200bc74",
   "metadata": {},
   "outputs": [],
   "source": [
    "# Filling the empty list\n",
    "\n",
    "for value in df_combined['state']:\n",
    "    if value in ['Maine','New Hampshire', 'Vermont', 'Massachusetts','Rhode Island','Connecticut','New York','Pennsylvania','New Jersey']:\n",
    "        region.append('Northeast')\n",
    "    elif value in ['Wisconsin','Michigan','Illinois','Indiana','Ohio','North Dakota','South Dakota','Nebraska','Kansas','Minnesota','Iowa','Missouri']:\n",
    "        region.append('Midwest')\n",
    "    elif value in ['Delaware','Maryland','District of Columbia','Virginia','West Virginia','North Carolina','South Carolina','Georgia','Florida','Kentucky','Tennessee','Mississippi','Alabama','Oklahoma','Texas','Arkansas','Louisiana']:\n",
    "        region.append('South')\n",
    "    else:\n",
    "        region.append('West')"
   ]
  },
  {
   "cell_type": "code",
   "execution_count": 19,
   "id": "9d925a96",
   "metadata": {},
   "outputs": [
    {
     "data": {
      "text/plain": [
       "['South',\n",
       " 'South',\n",
       " 'South',\n",
       " 'South',\n",
       " 'South',\n",
       " 'South',\n",
       " 'South',\n",
       " 'South',\n",
       " 'South',\n",
       " 'South',\n",
       " 'South',\n",
       " 'South',\n",
       " 'South',\n",
       " 'South',\n",
       " 'South',\n",
       " 'South',\n",
       " 'South',\n",
       " 'South',\n",
       " 'South',\n",
       " 'South',\n",
       " 'South',\n",
       " 'South',\n",
       " 'South',\n",
       " 'South',\n",
       " 'South',\n",
       " 'South',\n",
       " 'South',\n",
       " 'South',\n",
       " 'South',\n",
       " 'South',\n",
       " 'South',\n",
       " 'South',\n",
       " 'South',\n",
       " 'South',\n",
       " 'South',\n",
       " 'South',\n",
       " 'South',\n",
       " 'South',\n",
       " 'South',\n",
       " 'South',\n",
       " 'South',\n",
       " 'South',\n",
       " 'South',\n",
       " 'South',\n",
       " 'South',\n",
       " 'South',\n",
       " 'South',\n",
       " 'South',\n",
       " 'South',\n",
       " 'South',\n",
       " 'South',\n",
       " 'South',\n",
       " 'South',\n",
       " 'South',\n",
       " 'South',\n",
       " 'South',\n",
       " 'South',\n",
       " 'South',\n",
       " 'South',\n",
       " 'Midwest',\n",
       " 'Midwest',\n",
       " 'Midwest',\n",
       " 'Midwest',\n",
       " 'Midwest',\n",
       " 'Midwest',\n",
       " 'Midwest',\n",
       " 'Midwest',\n",
       " 'Midwest',\n",
       " 'Midwest',\n",
       " 'Midwest',\n",
       " 'Midwest',\n",
       " 'Midwest',\n",
       " 'Midwest',\n",
       " 'Midwest',\n",
       " 'Midwest',\n",
       " 'Midwest',\n",
       " 'Midwest',\n",
       " 'Midwest',\n",
       " 'Midwest',\n",
       " 'Midwest',\n",
       " 'Midwest',\n",
       " 'Midwest',\n",
       " 'Midwest',\n",
       " 'Midwest',\n",
       " 'Midwest',\n",
       " 'Midwest',\n",
       " 'Midwest',\n",
       " 'Midwest',\n",
       " 'Midwest',\n",
       " 'Midwest',\n",
       " 'Midwest',\n",
       " 'Midwest',\n",
       " 'Midwest',\n",
       " 'Midwest',\n",
       " 'Midwest',\n",
       " 'Midwest',\n",
       " 'Midwest',\n",
       " 'Midwest',\n",
       " 'Midwest',\n",
       " 'Midwest',\n",
       " 'Midwest',\n",
       " 'Midwest',\n",
       " 'Midwest',\n",
       " 'Midwest',\n",
       " 'Midwest',\n",
       " 'Midwest',\n",
       " 'Midwest',\n",
       " 'Midwest',\n",
       " 'Midwest',\n",
       " 'Midwest',\n",
       " 'Midwest',\n",
       " 'Midwest',\n",
       " 'Midwest',\n",
       " 'Midwest',\n",
       " 'Midwest',\n",
       " 'Midwest',\n",
       " 'Midwest',\n",
       " 'Midwest',\n",
       " 'Midwest',\n",
       " 'Midwest',\n",
       " 'Midwest',\n",
       " 'Midwest',\n",
       " 'Midwest',\n",
       " 'Midwest',\n",
       " 'Midwest',\n",
       " 'Midwest',\n",
       " 'Midwest',\n",
       " 'Midwest',\n",
       " 'Midwest',\n",
       " 'Midwest',\n",
       " 'Midwest',\n",
       " 'South',\n",
       " 'South',\n",
       " 'South',\n",
       " 'South',\n",
       " 'South',\n",
       " 'South',\n",
       " 'South',\n",
       " 'South',\n",
       " 'South',\n",
       " 'South',\n",
       " 'South',\n",
       " 'South',\n",
       " 'South',\n",
       " 'South',\n",
       " 'South',\n",
       " 'South',\n",
       " 'South',\n",
       " 'South',\n",
       " 'South',\n",
       " 'South',\n",
       " 'South',\n",
       " 'South',\n",
       " 'South',\n",
       " 'South',\n",
       " 'South',\n",
       " 'South',\n",
       " 'South',\n",
       " 'South',\n",
       " 'South',\n",
       " 'South',\n",
       " 'South',\n",
       " 'South',\n",
       " 'South',\n",
       " 'South',\n",
       " 'South',\n",
       " 'South',\n",
       " 'South',\n",
       " 'South',\n",
       " 'South',\n",
       " 'South',\n",
       " 'South',\n",
       " 'South',\n",
       " 'South',\n",
       " 'South',\n",
       " 'South',\n",
       " 'South',\n",
       " 'South',\n",
       " 'South',\n",
       " 'South',\n",
       " 'South',\n",
       " 'South',\n",
       " 'South',\n",
       " 'South',\n",
       " 'South',\n",
       " 'South',\n",
       " 'South',\n",
       " 'South',\n",
       " 'South',\n",
       " 'South',\n",
       " 'South',\n",
       " 'South',\n",
       " 'South',\n",
       " 'South',\n",
       " 'South',\n",
       " 'South',\n",
       " 'South',\n",
       " 'South',\n",
       " 'South',\n",
       " 'South',\n",
       " 'South',\n",
       " 'South',\n",
       " 'South',\n",
       " 'South',\n",
       " 'South',\n",
       " 'South',\n",
       " 'South',\n",
       " 'South',\n",
       " 'South',\n",
       " 'South',\n",
       " 'South',\n",
       " 'South',\n",
       " 'South',\n",
       " 'South',\n",
       " 'South',\n",
       " 'South',\n",
       " 'South',\n",
       " 'South',\n",
       " 'South',\n",
       " 'South',\n",
       " 'South',\n",
       " 'South',\n",
       " 'South',\n",
       " 'South',\n",
       " 'South',\n",
       " 'South',\n",
       " 'South',\n",
       " 'South',\n",
       " 'South',\n",
       " 'South',\n",
       " 'South',\n",
       " 'South',\n",
       " 'South',\n",
       " 'South',\n",
       " 'South',\n",
       " 'South',\n",
       " 'South',\n",
       " 'South',\n",
       " 'South',\n",
       " 'South',\n",
       " 'South',\n",
       " 'South',\n",
       " 'South',\n",
       " 'South',\n",
       " 'South',\n",
       " 'South',\n",
       " 'South',\n",
       " 'South',\n",
       " 'South',\n",
       " 'South',\n",
       " 'South',\n",
       " 'South',\n",
       " 'South',\n",
       " 'South',\n",
       " 'South',\n",
       " 'South',\n",
       " 'South',\n",
       " 'South',\n",
       " 'South',\n",
       " 'South',\n",
       " 'South',\n",
       " 'South',\n",
       " 'South',\n",
       " 'South',\n",
       " 'South',\n",
       " 'South',\n",
       " 'South',\n",
       " 'South',\n",
       " 'South',\n",
       " 'South',\n",
       " 'South',\n",
       " 'South',\n",
       " 'South',\n",
       " 'South',\n",
       " 'South',\n",
       " 'South',\n",
       " 'South',\n",
       " 'South',\n",
       " 'South',\n",
       " 'South',\n",
       " 'South',\n",
       " 'South',\n",
       " 'South',\n",
       " 'South',\n",
       " 'South',\n",
       " 'South',\n",
       " 'South',\n",
       " 'South',\n",
       " 'South',\n",
       " 'South',\n",
       " 'South',\n",
       " 'South',\n",
       " 'South',\n",
       " 'South',\n",
       " 'South',\n",
       " 'South',\n",
       " 'South',\n",
       " 'South',\n",
       " 'South',\n",
       " 'South',\n",
       " 'South',\n",
       " 'South',\n",
       " 'South',\n",
       " 'South',\n",
       " 'South',\n",
       " 'South',\n",
       " 'South',\n",
       " 'South',\n",
       " 'South',\n",
       " 'South',\n",
       " 'South',\n",
       " 'South',\n",
       " 'South',\n",
       " 'South',\n",
       " 'South',\n",
       " 'South',\n",
       " 'South',\n",
       " 'South',\n",
       " 'South',\n",
       " 'South',\n",
       " 'South',\n",
       " 'South',\n",
       " 'South',\n",
       " 'South',\n",
       " 'South',\n",
       " 'South',\n",
       " 'South',\n",
       " 'South',\n",
       " 'South',\n",
       " 'South',\n",
       " 'South',\n",
       " 'South',\n",
       " 'South',\n",
       " 'South',\n",
       " 'South',\n",
       " 'West',\n",
       " 'West',\n",
       " 'West',\n",
       " 'West',\n",
       " 'West',\n",
       " 'West',\n",
       " 'West',\n",
       " 'West',\n",
       " 'West',\n",
       " 'West',\n",
       " 'West',\n",
       " 'West',\n",
       " 'West',\n",
       " 'West',\n",
       " 'West',\n",
       " 'West',\n",
       " 'West',\n",
       " 'West',\n",
       " 'West',\n",
       " 'West',\n",
       " 'West',\n",
       " 'West',\n",
       " 'West',\n",
       " 'West',\n",
       " 'West',\n",
       " 'West',\n",
       " 'West',\n",
       " 'West',\n",
       " 'West',\n",
       " 'West',\n",
       " 'West',\n",
       " 'West',\n",
       " 'West',\n",
       " 'West',\n",
       " 'West',\n",
       " 'West',\n",
       " 'West',\n",
       " 'West',\n",
       " 'West',\n",
       " 'West',\n",
       " 'West',\n",
       " 'West',\n",
       " 'West',\n",
       " 'West',\n",
       " 'West',\n",
       " 'West',\n",
       " 'West',\n",
       " 'West',\n",
       " 'West',\n",
       " 'West',\n",
       " 'West',\n",
       " 'West',\n",
       " 'West',\n",
       " 'West',\n",
       " 'West',\n",
       " 'West',\n",
       " 'West',\n",
       " 'West',\n",
       " 'West',\n",
       " 'West',\n",
       " 'West',\n",
       " 'West',\n",
       " 'West',\n",
       " 'West',\n",
       " 'West',\n",
       " 'West',\n",
       " 'West',\n",
       " 'West',\n",
       " 'West',\n",
       " 'West',\n",
       " 'West',\n",
       " 'West',\n",
       " 'West',\n",
       " 'West',\n",
       " 'West',\n",
       " 'West',\n",
       " 'West',\n",
       " 'West',\n",
       " 'West',\n",
       " 'West',\n",
       " 'West',\n",
       " 'West',\n",
       " 'West',\n",
       " 'West',\n",
       " 'West',\n",
       " 'West',\n",
       " 'West',\n",
       " 'West',\n",
       " 'West',\n",
       " 'West',\n",
       " 'West',\n",
       " 'West',\n",
       " 'West',\n",
       " 'West',\n",
       " 'West',\n",
       " 'West',\n",
       " 'West',\n",
       " 'West',\n",
       " 'West',\n",
       " 'West',\n",
       " 'West',\n",
       " 'West',\n",
       " 'West',\n",
       " 'West',\n",
       " 'West',\n",
       " 'West',\n",
       " 'West',\n",
       " 'West',\n",
       " 'West',\n",
       " 'West',\n",
       " 'West',\n",
       " 'West',\n",
       " 'West',\n",
       " 'West',\n",
       " 'West',\n",
       " 'West',\n",
       " 'West',\n",
       " 'West',\n",
       " 'West',\n",
       " 'West',\n",
       " 'West',\n",
       " 'West',\n",
       " 'West',\n",
       " 'West',\n",
       " 'West',\n",
       " 'West',\n",
       " 'West',\n",
       " 'West',\n",
       " 'West',\n",
       " 'West',\n",
       " 'West',\n",
       " 'West',\n",
       " 'West',\n",
       " 'West',\n",
       " 'West',\n",
       " 'West',\n",
       " 'West',\n",
       " 'West',\n",
       " 'West',\n",
       " 'West',\n",
       " 'West',\n",
       " 'West',\n",
       " 'West',\n",
       " 'West',\n",
       " 'West',\n",
       " 'West',\n",
       " 'West',\n",
       " 'West',\n",
       " 'West',\n",
       " 'West',\n",
       " 'West',\n",
       " 'West',\n",
       " 'West',\n",
       " 'West',\n",
       " 'West',\n",
       " 'West',\n",
       " 'West',\n",
       " 'West',\n",
       " 'West',\n",
       " 'West',\n",
       " 'West',\n",
       " 'West',\n",
       " 'West',\n",
       " 'West',\n",
       " 'West',\n",
       " 'West',\n",
       " 'West',\n",
       " 'West',\n",
       " 'West',\n",
       " 'West',\n",
       " 'West',\n",
       " 'West',\n",
       " 'West',\n",
       " 'West',\n",
       " 'West',\n",
       " 'West',\n",
       " 'West',\n",
       " 'West',\n",
       " 'West',\n",
       " 'West',\n",
       " 'West',\n",
       " 'West',\n",
       " 'West',\n",
       " 'West',\n",
       " 'West',\n",
       " 'West',\n",
       " 'West',\n",
       " 'West',\n",
       " 'West',\n",
       " 'West',\n",
       " 'West',\n",
       " 'West',\n",
       " 'West',\n",
       " 'West',\n",
       " 'West',\n",
       " 'West',\n",
       " 'West',\n",
       " 'West',\n",
       " 'West',\n",
       " 'West',\n",
       " 'West',\n",
       " 'West',\n",
       " 'West',\n",
       " 'West',\n",
       " 'West',\n",
       " 'South',\n",
       " 'South',\n",
       " 'South',\n",
       " 'South',\n",
       " 'South',\n",
       " 'South',\n",
       " 'South',\n",
       " 'South',\n",
       " 'South',\n",
       " 'South',\n",
       " 'South',\n",
       " 'South',\n",
       " 'South',\n",
       " 'South',\n",
       " 'South',\n",
       " 'South',\n",
       " 'South',\n",
       " 'South',\n",
       " 'South',\n",
       " 'South',\n",
       " 'South',\n",
       " 'South',\n",
       " 'South',\n",
       " 'South',\n",
       " 'South',\n",
       " 'South',\n",
       " 'South',\n",
       " 'South',\n",
       " 'South',\n",
       " 'South',\n",
       " 'South',\n",
       " 'South',\n",
       " 'South',\n",
       " 'South',\n",
       " 'South',\n",
       " 'South',\n",
       " 'South',\n",
       " 'South',\n",
       " 'South',\n",
       " 'South',\n",
       " 'South',\n",
       " 'South',\n",
       " 'South',\n",
       " 'South',\n",
       " 'South',\n",
       " 'South',\n",
       " 'South',\n",
       " 'South',\n",
       " 'South',\n",
       " 'South',\n",
       " 'South',\n",
       " 'South',\n",
       " 'South',\n",
       " 'South',\n",
       " 'South',\n",
       " 'South',\n",
       " 'South',\n",
       " 'South',\n",
       " 'South',\n",
       " 'South',\n",
       " 'South',\n",
       " 'South',\n",
       " 'South',\n",
       " 'South',\n",
       " 'South',\n",
       " 'South',\n",
       " 'South',\n",
       " 'South',\n",
       " 'South',\n",
       " 'South',\n",
       " 'South',\n",
       " 'South',\n",
       " 'South',\n",
       " 'South',\n",
       " 'South',\n",
       " 'South',\n",
       " 'South',\n",
       " 'South',\n",
       " 'South',\n",
       " 'South',\n",
       " 'South',\n",
       " 'South',\n",
       " 'South',\n",
       " 'South',\n",
       " 'South',\n",
       " 'South',\n",
       " 'South',\n",
       " 'South',\n",
       " 'South',\n",
       " 'South',\n",
       " 'South',\n",
       " 'South',\n",
       " 'South',\n",
       " 'South',\n",
       " 'South',\n",
       " 'South',\n",
       " 'South',\n",
       " 'South',\n",
       " 'South',\n",
       " 'South',\n",
       " 'South',\n",
       " 'South',\n",
       " 'South',\n",
       " 'South',\n",
       " 'South',\n",
       " 'South',\n",
       " 'South',\n",
       " 'South',\n",
       " 'South',\n",
       " 'South',\n",
       " 'South',\n",
       " 'South',\n",
       " 'South',\n",
       " 'South',\n",
       " 'South',\n",
       " 'South',\n",
       " 'South',\n",
       " 'South',\n",
       " 'South',\n",
       " 'South',\n",
       " 'South',\n",
       " 'South',\n",
       " 'South',\n",
       " 'South',\n",
       " 'South',\n",
       " 'South',\n",
       " 'South',\n",
       " 'South',\n",
       " 'South',\n",
       " 'South',\n",
       " 'South',\n",
       " 'South',\n",
       " 'South',\n",
       " 'South',\n",
       " 'South',\n",
       " 'South',\n",
       " 'South',\n",
       " 'South',\n",
       " 'South',\n",
       " 'South',\n",
       " 'South',\n",
       " 'South',\n",
       " 'South',\n",
       " 'South',\n",
       " 'South',\n",
       " 'South',\n",
       " 'South',\n",
       " 'South',\n",
       " 'South',\n",
       " 'South',\n",
       " 'South',\n",
       " 'South',\n",
       " 'South',\n",
       " 'South',\n",
       " 'South',\n",
       " 'South',\n",
       " 'South',\n",
       " 'South',\n",
       " 'South',\n",
       " 'South',\n",
       " 'South',\n",
       " 'South',\n",
       " 'South',\n",
       " 'South',\n",
       " 'South',\n",
       " 'South',\n",
       " 'South',\n",
       " 'South',\n",
       " 'South',\n",
       " 'South',\n",
       " 'South',\n",
       " 'South',\n",
       " 'South',\n",
       " 'South',\n",
       " 'South',\n",
       " 'South',\n",
       " 'South',\n",
       " 'South',\n",
       " 'South',\n",
       " 'South',\n",
       " 'South',\n",
       " 'South',\n",
       " 'South',\n",
       " 'South',\n",
       " 'South',\n",
       " 'South',\n",
       " 'South',\n",
       " 'South',\n",
       " 'South',\n",
       " 'South',\n",
       " 'South',\n",
       " 'South',\n",
       " 'South',\n",
       " 'South',\n",
       " 'South',\n",
       " 'South',\n",
       " 'South',\n",
       " 'South',\n",
       " 'South',\n",
       " 'South',\n",
       " 'South',\n",
       " 'South',\n",
       " 'South',\n",
       " 'South',\n",
       " 'South',\n",
       " 'South',\n",
       " 'South',\n",
       " 'South',\n",
       " 'South',\n",
       " 'South',\n",
       " 'South',\n",
       " 'South',\n",
       " 'South',\n",
       " 'South',\n",
       " 'South',\n",
       " 'South',\n",
       " 'South',\n",
       " 'South',\n",
       " 'South',\n",
       " 'South',\n",
       " 'South',\n",
       " 'South',\n",
       " 'South',\n",
       " 'South',\n",
       " 'South',\n",
       " 'South',\n",
       " 'South',\n",
       " 'South',\n",
       " 'South',\n",
       " 'South',\n",
       " 'South',\n",
       " 'South',\n",
       " 'South',\n",
       " 'South',\n",
       " 'South',\n",
       " 'South',\n",
       " 'South',\n",
       " 'South',\n",
       " 'South',\n",
       " 'South',\n",
       " 'South',\n",
       " 'South',\n",
       " 'South',\n",
       " 'South',\n",
       " 'South',\n",
       " 'South',\n",
       " 'South',\n",
       " 'South',\n",
       " 'South',\n",
       " 'South',\n",
       " 'South',\n",
       " 'South',\n",
       " 'South',\n",
       " 'South',\n",
       " 'South',\n",
       " 'South',\n",
       " 'South',\n",
       " 'South',\n",
       " 'South',\n",
       " 'South',\n",
       " 'South',\n",
       " 'South',\n",
       " 'South',\n",
       " 'South',\n",
       " 'South',\n",
       " 'South',\n",
       " 'South',\n",
       " 'South',\n",
       " 'South',\n",
       " 'South',\n",
       " 'South',\n",
       " 'South',\n",
       " 'South',\n",
       " 'South',\n",
       " 'South',\n",
       " 'South',\n",
       " 'South',\n",
       " 'South',\n",
       " 'South',\n",
       " 'South',\n",
       " 'South',\n",
       " 'South',\n",
       " 'South',\n",
       " 'South',\n",
       " 'South',\n",
       " 'South',\n",
       " 'South',\n",
       " 'South',\n",
       " 'South',\n",
       " 'South',\n",
       " 'South',\n",
       " 'South',\n",
       " 'South',\n",
       " 'South',\n",
       " 'South',\n",
       " 'South',\n",
       " 'South',\n",
       " 'South',\n",
       " 'South',\n",
       " 'South',\n",
       " 'South',\n",
       " 'South',\n",
       " 'South',\n",
       " 'South',\n",
       " 'South',\n",
       " 'South',\n",
       " 'South',\n",
       " 'South',\n",
       " 'South',\n",
       " 'South',\n",
       " 'South',\n",
       " 'South',\n",
       " 'South',\n",
       " 'South',\n",
       " 'South',\n",
       " 'South',\n",
       " 'South',\n",
       " 'South',\n",
       " 'South',\n",
       " 'South',\n",
       " 'South',\n",
       " 'South',\n",
       " 'South',\n",
       " 'South',\n",
       " 'South',\n",
       " 'South',\n",
       " 'South',\n",
       " 'South',\n",
       " 'South',\n",
       " 'South',\n",
       " 'South',\n",
       " 'South',\n",
       " 'South',\n",
       " 'South',\n",
       " 'South',\n",
       " 'South',\n",
       " 'South',\n",
       " 'South',\n",
       " 'South',\n",
       " 'South',\n",
       " 'South',\n",
       " 'South',\n",
       " 'South',\n",
       " 'South',\n",
       " 'South',\n",
       " 'South',\n",
       " 'South',\n",
       " 'South',\n",
       " 'South',\n",
       " 'South',\n",
       " 'South',\n",
       " 'South',\n",
       " 'South',\n",
       " 'South',\n",
       " 'South',\n",
       " 'South',\n",
       " 'South',\n",
       " 'South',\n",
       " 'South',\n",
       " 'South',\n",
       " 'South',\n",
       " 'South',\n",
       " 'South',\n",
       " 'South',\n",
       " 'South',\n",
       " 'South',\n",
       " 'South',\n",
       " 'South',\n",
       " 'South',\n",
       " 'South',\n",
       " 'South',\n",
       " 'South',\n",
       " 'South',\n",
       " 'South',\n",
       " 'South',\n",
       " 'South',\n",
       " 'South',\n",
       " 'South',\n",
       " 'South',\n",
       " 'South',\n",
       " 'South',\n",
       " 'South',\n",
       " 'South',\n",
       " 'South',\n",
       " 'South',\n",
       " 'South',\n",
       " 'South',\n",
       " 'South',\n",
       " 'South',\n",
       " 'South',\n",
       " 'South',\n",
       " 'South',\n",
       " 'South',\n",
       " 'South',\n",
       " 'South',\n",
       " 'South',\n",
       " 'South',\n",
       " 'South',\n",
       " 'South',\n",
       " 'South',\n",
       " 'South',\n",
       " 'South',\n",
       " 'South',\n",
       " 'South',\n",
       " 'South',\n",
       " 'South',\n",
       " 'South',\n",
       " 'South',\n",
       " 'South',\n",
       " 'South',\n",
       " 'South',\n",
       " 'South',\n",
       " 'South',\n",
       " 'South',\n",
       " 'South',\n",
       " 'South',\n",
       " 'South',\n",
       " 'South',\n",
       " 'South',\n",
       " 'South',\n",
       " 'South',\n",
       " 'South',\n",
       " 'South',\n",
       " 'South',\n",
       " 'South',\n",
       " 'South',\n",
       " 'South',\n",
       " 'South',\n",
       " 'South',\n",
       " 'South',\n",
       " 'South',\n",
       " 'South',\n",
       " 'South',\n",
       " 'South',\n",
       " 'South',\n",
       " 'South',\n",
       " 'South',\n",
       " 'South',\n",
       " 'South',\n",
       " 'South',\n",
       " 'South',\n",
       " 'South',\n",
       " 'South',\n",
       " 'South',\n",
       " 'South',\n",
       " 'South',\n",
       " 'South',\n",
       " 'South',\n",
       " 'South',\n",
       " 'South',\n",
       " 'South',\n",
       " 'South',\n",
       " 'South',\n",
       " 'South',\n",
       " 'South',\n",
       " 'South',\n",
       " 'South',\n",
       " 'South',\n",
       " 'South',\n",
       " 'South',\n",
       " ...]"
      ]
     },
     "execution_count": 19,
     "metadata": {},
     "output_type": "execute_result"
    }
   ],
   "source": [
    "# Printing the region list\n",
    "\n",
    "region"
   ]
  },
  {
   "cell_type": "code",
   "execution_count": 20,
   "id": "983bcbd1",
   "metadata": {},
   "outputs": [],
   "source": [
    "# Adding 'region' column to df\n",
    "\n",
    "df_combined['region'] = region"
   ]
  },
  {
   "cell_type": "code",
   "execution_count": 21,
   "id": "2e5bbb0e",
   "metadata": {},
   "outputs": [
    {
     "data": {
      "text/plain": [
       "South        10791885\n",
       "West          8292913\n",
       "Midwest       7597325\n",
       "Northeast     5722736\n",
       "Name: region, dtype: int64"
      ]
     },
     "execution_count": 21,
     "metadata": {},
     "output_type": "execute_result"
    }
   ],
   "source": [
    "# Checking the frequency distribution \n",
    "\n",
    "df_combined['region'].value_counts(dropna = False)"
   ]
  },
  {
   "cell_type": "markdown",
   "id": "f571f148",
   "metadata": {},
   "source": [
    "## Step 3.2: Determine whether there’s a difference in spending habits between the different U.S. regions. "
   ]
  },
  {
   "cell_type": "code",
   "execution_count": 30,
   "id": "00b242c3",
   "metadata": {},
   "outputs": [],
   "source": [
    "# Creating a crosstab between 'region' and 'spending_flag'\n",
    "\n",
    "crosstab_region_spending = pd.crosstab(df_combined['region'], df_combined['spending_flag'], dropna = False)"
   ]
  },
  {
   "cell_type": "code",
   "execution_count": 31,
   "id": "39ec000e",
   "metadata": {},
   "outputs": [
    {
     "data": {
      "text/html": [
       "<div>\n",
       "<style scoped>\n",
       "    .dataframe tbody tr th:only-of-type {\n",
       "        vertical-align: middle;\n",
       "    }\n",
       "\n",
       "    .dataframe tbody tr th {\n",
       "        vertical-align: top;\n",
       "    }\n",
       "\n",
       "    .dataframe thead th {\n",
       "        text-align: right;\n",
       "    }\n",
       "</style>\n",
       "<table border=\"1\" class=\"dataframe\">\n",
       "  <thead>\n",
       "    <tr style=\"text-align: right;\">\n",
       "      <th>spending_flag</th>\n",
       "      <th>High spender</th>\n",
       "      <th>Low spender</th>\n",
       "    </tr>\n",
       "    <tr>\n",
       "      <th>region</th>\n",
       "      <th></th>\n",
       "      <th></th>\n",
       "    </tr>\n",
       "  </thead>\n",
       "  <tbody>\n",
       "    <tr>\n",
       "      <th>Midwest</th>\n",
       "      <td>155975</td>\n",
       "      <td>7441350</td>\n",
       "    </tr>\n",
       "    <tr>\n",
       "      <th>Northeast</th>\n",
       "      <td>108225</td>\n",
       "      <td>5614511</td>\n",
       "    </tr>\n",
       "    <tr>\n",
       "      <th>South</th>\n",
       "      <td>209691</td>\n",
       "      <td>10582194</td>\n",
       "    </tr>\n",
       "    <tr>\n",
       "      <th>West</th>\n",
       "      <td>160354</td>\n",
       "      <td>8132559</td>\n",
       "    </tr>\n",
       "  </tbody>\n",
       "</table>\n",
       "</div>"
      ],
      "text/plain": [
       "spending_flag  High spender  Low spender\n",
       "region                                  \n",
       "Midwest              155975      7441350\n",
       "Northeast            108225      5614511\n",
       "South                209691     10582194\n",
       "West                 160354      8132559"
      ]
     },
     "execution_count": 31,
     "metadata": {},
     "output_type": "execute_result"
    }
   ],
   "source": [
    "# Checking the output\n",
    "\n",
    "crosstab_region_spending"
   ]
  },
  {
   "cell_type": "code",
   "execution_count": 33,
   "id": "c42939c2",
   "metadata": {},
   "outputs": [
    {
     "data": {
      "image/png": "[encoded data removed]",
      "text/plain": [
       "<Figure size 640x480 with 1 Axes>"
      ]
     },
     "metadata": {},
     "output_type": "display_data"
    }
   ],
   "source": [
    "# Creating a stacked bar chart\n",
    "\n",
    "region_spending_bar = crosstab_region_spending.plot.bar()"
   ]
  },
  {
   "cell_type": "code",
   "execution_count": 34,
   "id": "a1d762d4",
   "metadata": {},
   "outputs": [],
   "source": [
    "# Exporting the viz\n",
    "\n",
    "region_spending_bar.figure.savefig(os.path.join(path, '04 Analysis', 'Visualizations', 'region_spending_bar.png'))"
   ]
  },
  {
   "cell_type": "markdown",
   "id": "017d10bc",
   "metadata": {},
   "source": [
    "## Step 4: The Instacart CFO isn’t interested in customers who don’t generate much revenue for the app. Create an exclusion flag for low-activity customers (customers with less than 5 orders) and exclude them from the data. Make sure you export this sample."
   ]
  },
  {
   "cell_type": "code",
   "execution_count": 17,
   "id": "14f67543",
   "metadata": {},
   "outputs": [],
   "source": [
    "# Creating the exclusion flag\n",
    "\n",
    "df_combined.loc[df_combined['max_order'] < 5, 'low_order_flag'] = 'Low-activity customer'"
   ]
  },
  {
   "cell_type": "code",
   "execution_count": 18,
   "id": "0d408862",
   "metadata": {},
   "outputs": [],
   "source": [
    "df_combined.loc[df_combined['max_order'] >= 5, 'low_order_flag'] = 'High-activity customer'"
   ]
  },
  {
   "cell_type": "code",
   "execution_count": 19,
   "id": "c89d4520",
   "metadata": {},
   "outputs": [],
   "source": [
    "# Creating a sample with only high-activity customers\n",
    "\n",
    "df_high = df_combined[df_combined['low_order_flag'] == 'High-activity customer']"
   ]
  },
  {
   "cell_type": "code",
   "execution_count": 20,
   "id": "9bc7ce70",
   "metadata": {},
   "outputs": [],
   "source": [
    "# Exporting the sample \n",
    "\n",
    "df_high.to_pickle(os.path.join(path,'02 Data','Prepared Data','all_combined_high.pkl'))"
   ]
  },
  {
   "cell_type": "markdown",
   "id": "c21e83c9",
   "metadata": {},
   "source": [
    "## Step 5: The marketing and business strategy units at Instacart want to create more-relevant marketing strategies for different products and are, thus, curious about customer profiling in their database. Create a profiling variable based on age, income, certain goods in the “department_id” column, and number of dependents. You might also use the “orders_day_of_the_week” and “order_hour_of_day” columns if you can think of a way they would impact customer profiles. "
   ]
  },
  {
   "cell_type": "markdown",
   "id": "da65bab8",
   "metadata": {},
   "source": [
    "### Age"
   ]
  },
  {
   "cell_type": "code",
   "execution_count": 38,
   "id": "b855953f",
   "metadata": {},
   "outputs": [],
   "source": [
    "# Creating an age_profile\n",
    "\n",
    "df_combined.loc[df_combined['age'] <= 35, 'age_profile'] = 'Young'"
   ]
  },
  {
   "cell_type": "code",
   "execution_count": 39,
   "id": "788058ac",
   "metadata": {},
   "outputs": [],
   "source": [
    "df_combined.loc[(df_combined['age'] > 35) & (df_combined['age'] < 65), 'age_profile'] = 'Middle-aged'"
   ]
  },
  {
   "cell_type": "code",
   "execution_count": 40,
   "id": "1d089d47",
   "metadata": {},
   "outputs": [],
   "source": [
    "df_combined.loc[df_combined['age'] >= 65, 'age_profile'] = 'Senior'"
   ]
  },
  {
   "cell_type": "code",
   "execution_count": 41,
   "id": "e56b8698",
   "metadata": {},
   "outputs": [
    {
     "data": {
      "text/plain": [
       "Middle-aged    14683356\n",
       "Young           9146419\n",
       "Senior          8575084\n",
       "Name: age_profile, dtype: int64"
      ]
     },
     "execution_count": 41,
     "metadata": {},
     "output_type": "execute_result"
    }
   ],
   "source": [
    "# Frequency distribution for 'age_profile'\n",
    "\n",
    "df_combined['age_profile'].value_counts(dropna = False)"
   ]
  },
  {
   "cell_type": "markdown",
   "id": "b70f6d12",
   "metadata": {},
   "source": [
    "### Income"
   ]
  },
  {
   "cell_type": "code",
   "execution_count": 44,
   "id": "ac621e23",
   "metadata": {},
   "outputs": [
    {
     "data": {
      "image/png": "[encoded data removed]",
      "text/plain": [
       "<Figure size 640x480 with 1 Axes>"
      ]
     },
     "metadata": {},
     "output_type": "display_data"
    }
   ],
   "source": [
    "# Creating a histogram of customer income\n",
    "\n",
    "hist_cust_income = df_combined['income'].plot.hist(bins = 70)"
   ]
  },
  {
   "cell_type": "code",
   "execution_count": 45,
   "id": "ef776362",
   "metadata": {},
   "outputs": [],
   "source": [
    "# Creating the income_profile\n",
    "\n",
    "df_combined.loc[df_combined['income'] < 75000, 'income_profile'] = 'Low income'"
   ]
  },
  {
   "cell_type": "code",
   "execution_count": 46,
   "id": "664de366",
   "metadata": {},
   "outputs": [],
   "source": [
    "df_combined.loc[(df_combined['income'] >= 75000) & (df_combined['income'] < 125000), 'income_profile'] = 'Mid income'"
   ]
  },
  {
   "cell_type": "code",
   "execution_count": 47,
   "id": "d03b5bf7",
   "metadata": {},
   "outputs": [],
   "source": [
    "df_combined.loc[df_combined['income'] >= 125000, 'income_profile'] = 'High income'"
   ]
  },
  {
   "cell_type": "code",
   "execution_count": 48,
   "id": "898e5a50",
   "metadata": {},
   "outputs": [
    {
     "data": {
      "text/plain": [
       "Mid income     13331136\n",
       "Low income     10442766\n",
       "High income     8630957\n",
       "Name: income_profile, dtype: int64"
      ]
     },
     "execution_count": 48,
     "metadata": {},
     "output_type": "execute_result"
    }
   ],
   "source": [
    "# Frequency distribution for income_profile\n",
    "\n",
    "df_combined['income_profile'].value_counts(dropna = False)"
   ]
  },
  {
   "cell_type": "markdown",
   "id": "cd452543",
   "metadata": {},
   "source": [
    "### Department"
   ]
  },
  {
   "cell_type": "markdown",
   "id": "cd5cb856",
   "metadata": {},
   "source": [
    "I will use the department_id column to separate the customers into vegans and non-vegans.\n",
    "\n",
    "Vegans don't eat meat/seafood (department_id=12) or dairy/eggs(department_id=16).\n",
    "\n",
    "I don't want to label each purchase as vegan or non-vegan, but the customer as vegan or non-vegan, based on their purchases.Therefore, I will make a crosstab first."
   ]
  },
  {
   "cell_type": "code",
   "execution_count": 49,
   "id": "59b766f2",
   "metadata": {},
   "outputs": [],
   "source": [
    "# Creating a crosstab between department_id and user_id\n",
    "\n",
    "dep_user_cross = pd.crosstab(df_combined['department_id'], df_combined['user_id'], dropna = False)"
   ]
  },
  {
   "cell_type": "code",
   "execution_count": 50,
   "id": "a573878d",
   "metadata": {},
   "outputs": [],
   "source": [
    "# Assigning nutrition flags to users and storing them in a Python dictionary\n",
    "\n",
    "vegan_dict = dict()\n",
    "for user in dep_user_cross:\n",
    "    workinglist = dep_user_cross[user].tolist()\n",
    "    if workinglist[11] == 0 and workinglist[15] == 0:   # the index starts at 0, so index 0 corresponds to dep_id=1\n",
    "        vegan_dict[user] = 'Vegan'\n",
    "    else:\n",
    "        vegan_dict[user] = 'Non-vegan'"
   ]
  },
  {
   "cell_type": "code",
   "execution_count": 51,
   "id": "a08d4fec",
   "metadata": {},
   "outputs": [],
   "source": [
    "# Assigning user flags to the vegan_flag\n",
    "\n",
    "vegan_flag = []\n",
    "for user in df_combined['user_id']:\n",
    "    vegan_flag.append(vegan_dict[user])"
   ]
  },
  {
   "cell_type": "code",
   "execution_count": 52,
   "id": "50635f38",
   "metadata": {},
   "outputs": [],
   "source": [
    "# Adding vegan_flag to df as vegan_profile\n",
    "\n",
    "df_combined['vegan_profile'] = vegan_flag"
   ]
  },
  {
   "cell_type": "code",
   "execution_count": 55,
   "id": "1210fda4",
   "metadata": {},
   "outputs": [
    {
     "data": {
      "text/plain": [
       "Non-vegan    32021432\n",
       "Vegan          383427\n",
       "Name: vegan_profile, dtype: int64"
      ]
     },
     "execution_count": 55,
     "metadata": {},
     "output_type": "execute_result"
    }
   ],
   "source": [
    "# Checking frequency distribution for vegan_profile\n",
    "\n",
    "df_combined['vegan_profile'].value_counts(dropna = False)"
   ]
  },
  {
   "cell_type": "markdown",
   "id": "92ae75d1",
   "metadata": {},
   "source": [
    "In the same way, I will use the department_id column to separate the customers into pet owners (department_id = 8) and no pet owners."
   ]
  },
  {
   "cell_type": "code",
   "execution_count": 53,
   "id": "99f25f39",
   "metadata": {},
   "outputs": [],
   "source": [
    "# Assigning pet flags to users and storing it in a dictionary\n",
    "\n",
    "pet_dict = dict()\n",
    "for user in dep_user_cross:\n",
    "    workinglist = dep_user_cross[user].tolist()\n",
    "    if workinglist[7] == 0 :      # the index starts at 0, so index 0 corresponds to dep_id=1\n",
    "        pet_dict[user] = 'No pet'\n",
    "    else:\n",
    "        pet_dict[user] = 'Pet owner'"
   ]
  },
  {
   "cell_type": "code",
   "execution_count": 54,
   "id": "3843358f",
   "metadata": {},
   "outputs": [],
   "source": [
    "# Assigning user flags to the pet_flag\n",
    "\n",
    "pet_flag = []\n",
    "for user in df_combined['user_id']:\n",
    "    pet_flag.append(pet_dict[user])"
   ]
  },
  {
   "cell_type": "code",
   "execution_count": 56,
   "id": "1e1afc5b",
   "metadata": {},
   "outputs": [],
   "source": [
    "# Adding pet_flag column to as pet_profile\n",
    "\n",
    "df_combined['pet_profile'] = pet_flag"
   ]
  },
  {
   "cell_type": "code",
   "execution_count": 57,
   "id": "9b4924dd",
   "metadata": {},
   "outputs": [
    {
     "data": {
      "text/plain": [
       "No pet       28876718\n",
       "Pet owner     3528141\n",
       "Name: pet_profile, dtype: int64"
      ]
     },
     "execution_count": 57,
     "metadata": {},
     "output_type": "execute_result"
    }
   ],
   "source": [
    "# Checking frequency distribution for pet_profile\n",
    "\n",
    "df_combined['pet_profile'].value_counts(dropna = False)"
   ]
  },
  {
   "cell_type": "markdown",
   "id": "5d4d35fc",
   "metadata": {},
   "source": [
    "### Family status"
   ]
  },
  {
   "cell_type": "code",
   "execution_count": 58,
   "id": "e0b2c49a",
   "metadata": {},
   "outputs": [
    {
     "data": {
      "text/plain": [
       "married                             22756753\n",
       "single                               5325691\n",
       "divorced/widowed                     2771812\n",
       "living with parents and siblings     1550603\n",
       "Name: marital_status, dtype: int64"
      ]
     },
     "execution_count": 58,
     "metadata": {},
     "output_type": "execute_result"
    }
   ],
   "source": [
    "# Frequency distribution for marital_status\n",
    "\n",
    "df_combined['marital_status'].value_counts(dropna = False)"
   ]
  },
  {
   "cell_type": "code",
   "execution_count": 59,
   "id": "b0adf142",
   "metadata": {},
   "outputs": [],
   "source": [
    "# Creating a crosstab between number_of_dependants and martial_status\n",
    "\n",
    "family_crosstab = pd.crosstab(df_combined['marital_status'], df_combined['number_of_dependants'], dropna = False)"
   ]
  },
  {
   "cell_type": "code",
   "execution_count": 60,
   "id": "7b437f29",
   "metadata": {},
   "outputs": [
    {
     "data": {
      "text/html": [
       "<div>\n",
       "<style scoped>\n",
       "    .dataframe tbody tr th:only-of-type {\n",
       "        vertical-align: middle;\n",
       "    }\n",
       "\n",
       "    .dataframe tbody tr th {\n",
       "        vertical-align: top;\n",
       "    }\n",
       "\n",
       "    .dataframe thead th {\n",
       "        text-align: right;\n",
       "    }\n",
       "</style>\n",
       "<table border=\"1\" class=\"dataframe\">\n",
       "  <thead>\n",
       "    <tr style=\"text-align: right;\">\n",
       "      <th>number_of_dependants</th>\n",
       "      <th>0</th>\n",
       "      <th>1</th>\n",
       "      <th>2</th>\n",
       "      <th>3</th>\n",
       "    </tr>\n",
       "    <tr>\n",
       "      <th>marital_status</th>\n",
       "      <th></th>\n",
       "      <th></th>\n",
       "      <th></th>\n",
       "      <th></th>\n",
       "    </tr>\n",
       "  </thead>\n",
       "  <tbody>\n",
       "    <tr>\n",
       "      <th>divorced/widowed</th>\n",
       "      <td>2771812</td>\n",
       "      <td>0</td>\n",
       "      <td>0</td>\n",
       "      <td>0</td>\n",
       "    </tr>\n",
       "    <tr>\n",
       "      <th>living with parents and siblings</th>\n",
       "      <td>0</td>\n",
       "      <td>530200</td>\n",
       "      <td>507963</td>\n",
       "      <td>512440</td>\n",
       "    </tr>\n",
       "    <tr>\n",
       "      <th>married</th>\n",
       "      <td>0</td>\n",
       "      <td>7550904</td>\n",
       "      <td>7583180</td>\n",
       "      <td>7622669</td>\n",
       "    </tr>\n",
       "    <tr>\n",
       "      <th>single</th>\n",
       "      <td>5325691</td>\n",
       "      <td>0</td>\n",
       "      <td>0</td>\n",
       "      <td>0</td>\n",
       "    </tr>\n",
       "  </tbody>\n",
       "</table>\n",
       "</div>"
      ],
      "text/plain": [
       "number_of_dependants                    0        1        2        3\n",
       "marital_status                                                      \n",
       "divorced/widowed                  2771812        0        0        0\n",
       "living with parents and siblings        0   530200   507963   512440\n",
       "married                                 0  7550904  7583180  7622669\n",
       "single                            5325691        0        0        0"
      ]
     },
     "execution_count": 60,
     "metadata": {},
     "output_type": "execute_result"
    }
   ],
   "source": [
    "family_crosstab"
   ]
  },
  {
   "cell_type": "markdown",
   "id": "050a9732",
   "metadata": {},
   "source": [
    "The family_crosstab shows no single adults or divorced/widowed adults with dependants, e.g. children.\n",
    "Thereofre, I will combine information from marital_status and number_of_dependants to define the following family profiles:\n",
    "(family_status = married) and (number_of_dependents == 1) : married, no children\n",
    "(family_status = married) and (number_of_dependents >= 2) : married with children\n",
    "(family_status in (single, divorced/widowed, living with parents and siblings)) and (number_of_dependents == 0) : single, no children\n",
    "(family_status in (single, divorced/widowed, living with parents and siblings)) and (number_of_dependents >= 1) : single with children/dependants"
   ]
  },
  {
   "cell_type": "code",
   "execution_count": 61,
   "id": "15aae2a3",
   "metadata": {},
   "outputs": [],
   "source": [
    "# Creating the 'family_profile' column with labeling as above\n",
    "\n",
    "df_combined.loc[(df_combined['marital_status'] == 'married') & (df_combined['number_of_dependants'] == 1), 'family_profile'] = 'Married no children'"
   ]
  },
  {
   "cell_type": "code",
   "execution_count": 62,
   "id": "3676817a",
   "metadata": {},
   "outputs": [],
   "source": [
    "df_combined.loc[(df_combined['marital_status'] == 'married') & (df_combined['number_of_dependants'] >= 2), 'family_profile'] = 'Married with children'"
   ]
  },
  {
   "cell_type": "code",
   "execution_count": 63,
   "id": "8d6b96d3",
   "metadata": {},
   "outputs": [],
   "source": [
    "df_combined.loc[(df_combined['marital_status'] != 'married') & (df_combined['number_of_dependants'] == 0), 'family_profile'] = 'Single no children'"
   ]
  },
  {
   "cell_type": "code",
   "execution_count": 64,
   "id": "a70a5f4d",
   "metadata": {},
   "outputs": [],
   "source": [
    "df_combined.loc[(df_combined['marital_status'] != 'married') & (df_combined['number_of_dependants'] >= 1), 'family_profile'] = 'Single with children/dependants'"
   ]
  },
  {
   "cell_type": "code",
   "execution_count": 65,
   "id": "601afe4a",
   "metadata": {},
   "outputs": [
    {
     "data": {
      "text/plain": [
       "Married with children              15205849\n",
       "Single no children                  8097503\n",
       "Married no children                 7550904\n",
       "Single with children/dependants     1550603\n",
       "Name: family_profile, dtype: int64"
      ]
     },
     "execution_count": 65,
     "metadata": {},
     "output_type": "execute_result"
    }
   ],
   "source": [
    "# Frequency distribution for family_profile\n",
    "\n",
    "df_combined['family_profile'].value_counts(dropna = False)"
   ]
  },
  {
   "cell_type": "markdown",
   "id": "73789d86",
   "metadata": {},
   "source": [
    "## Step 6: Create an appropriate visualization to show the distribution of profiles."
   ]
  },
  {
   "cell_type": "code",
   "execution_count": 66,
   "id": "1d2652ff",
   "metadata": {},
   "outputs": [
    {
     "data": {
      "image/png": "[encoded data removed]",
      "text/plain": [
       "<Figure size 640x480 with 1 Axes>"
      ]
     },
     "metadata": {},
     "output_type": "display_data"
    }
   ],
   "source": [
    "# age_profile\n",
    "\n",
    "age_profile_bar = df_combined['age_profile'].value_counts().plot.bar()"
   ]
  },
  {
   "cell_type": "code",
   "execution_count": 63,
   "id": "1f905fbe",
   "metadata": {},
   "outputs": [],
   "source": [
    "# Exporting the viz\n",
    "\n",
    "age_profile_bar.figure.savefig(os.path.join(path, '04 Analysis', 'Visualizations', 'age_profile_bar.png'))"
   ]
  },
  {
   "cell_type": "code",
   "execution_count": 67,
   "id": "875217fa",
   "metadata": {},
   "outputs": [
    {
     "data": {
      "image/png": "[encoded data removed]",
      "text/plain": [
       "<Figure size 640x480 with 1 Axes>"
      ]
     },
     "metadata": {},
     "output_type": "display_data"
    }
   ],
   "source": [
    "# income_profile\n",
    "\n",
    "income_profile_bar = df_combined['income_profile'].value_counts().plot.bar()"
   ]
  },
  {
   "cell_type": "code",
   "execution_count": 66,
   "id": "6fc13407",
   "metadata": {},
   "outputs": [],
   "source": [
    "# Exporting the viz\n",
    "\n",
    "income_profile_bar.figure.savefig(os.path.join(path, '04 Analysis', 'Visualizations', 'income_profile_bar.png'))"
   ]
  },
  {
   "cell_type": "code",
   "execution_count": 74,
   "id": "fa11e9ed",
   "metadata": {},
   "outputs": [
    {
     "data": {
      "image/png": "[encoded data removed]",
      "text/plain": [
       "<Figure size 640x480 with 1 Axes>"
      ]
     },
     "metadata": {},
     "output_type": "display_data"
    }
   ],
   "source": [
    "# vegan_profile\n",
    "\n",
    "vegan_profile_bar = df_combined['vegan_profile'].value_counts().plot.bar()"
   ]
  },
  {
   "cell_type": "code",
   "execution_count": 75,
   "id": "c2b47e9c",
   "metadata": {},
   "outputs": [],
   "source": [
    "# Exporting the viz\n",
    "\n",
    "vegan_profile_bar.figure.savefig(os.path.join(path, '04 Analysis', 'Visualizations', 'vegan_profile_bar.png'))"
   ]
  },
  {
   "cell_type": "code",
   "execution_count": 70,
   "id": "62bfb954",
   "metadata": {},
   "outputs": [
    {
     "data": {
      "image/png": "[encoded data removed]",
      "text/plain": [
       "<Figure size 640x480 with 1 Axes>"
      ]
     },
     "metadata": {},
     "output_type": "display_data"
    }
   ],
   "source": [
    "# pet_profile\n",
    "\n",
    "pet_profile_bar = df_combined['pet_profile'].value_counts().plot.bar()"
   ]
  },
  {
   "cell_type": "code",
   "execution_count": 72,
   "id": "169862ac",
   "metadata": {},
   "outputs": [],
   "source": [
    "# Exporting the viz\n",
    "\n",
    "pet_profile_bar.figure.savefig(os.path.join(path, '04 Analysis', 'Visualizations', 'pet_profile_bar.png'))"
   ]
  },
  {
   "cell_type": "code",
   "execution_count": 69,
   "id": "b10836ce",
   "metadata": {},
   "outputs": [
    {
     "data": {
      "image/png": "[encoded data removed]",
      "text/plain": [
       "<Figure size 640x480 with 1 Axes>"
      ]
     },
     "metadata": {},
     "output_type": "display_data"
    }
   ],
   "source": [
    "# family_profile\n",
    "\n",
    "family_profile_bar = df_combined['family_profile'].value_counts().plot.bar()"
   ]
  },
  {
   "cell_type": "code",
   "execution_count": 73,
   "id": "4e0cb779",
   "metadata": {},
   "outputs": [],
   "source": [
    "# Exporting the viz\n",
    "\n",
    "family_profile_bar.figure.savefig(os.path.join(path, '04 Analysis', 'Visualizations', 'family_profile_bar.png'))"
   ]
  },
  {
   "cell_type": "markdown",
   "id": "437933c7",
   "metadata": {},
   "source": [
    "## Step 7: Aggregate the max, mean, and min variables on a customer-profile level for usage frequency and expenditure"
   ]
  },
  {
   "cell_type": "code",
   "execution_count": 75,
   "id": "4881522a",
   "metadata": {},
   "outputs": [
    {
     "data": {
      "text/html": [
       "<div>\n",
       "<style scoped>\n",
       "    .dataframe tbody tr th:only-of-type {\n",
       "        vertical-align: middle;\n",
       "    }\n",
       "\n",
       "    .dataframe tbody tr th {\n",
       "        vertical-align: top;\n",
       "    }\n",
       "\n",
       "    .dataframe thead tr th {\n",
       "        text-align: left;\n",
       "    }\n",
       "\n",
       "    .dataframe thead tr:last-of-type th {\n",
       "        text-align: right;\n",
       "    }\n",
       "</style>\n",
       "<table border=\"1\" class=\"dataframe\">\n",
       "  <thead>\n",
       "    <tr>\n",
       "      <th></th>\n",
       "      <th colspan=\"3\" halign=\"left\">days_since_prior_order</th>\n",
       "      <th colspan=\"3\" halign=\"left\">prices</th>\n",
       "    </tr>\n",
       "    <tr>\n",
       "      <th></th>\n",
       "      <th>mean</th>\n",
       "      <th>max</th>\n",
       "      <th>min</th>\n",
       "      <th>mean</th>\n",
       "      <th>max</th>\n",
       "      <th>min</th>\n",
       "    </tr>\n",
       "    <tr>\n",
       "      <th>age_profile</th>\n",
       "      <th></th>\n",
       "      <th></th>\n",
       "      <th></th>\n",
       "      <th></th>\n",
       "      <th></th>\n",
       "      <th></th>\n",
       "    </tr>\n",
       "  </thead>\n",
       "  <tbody>\n",
       "    <tr>\n",
       "      <th>Middle-aged</th>\n",
       "      <td>10.395270</td>\n",
       "      <td>30.0</td>\n",
       "      <td>0.0</td>\n",
       "      <td>7.791435</td>\n",
       "      <td>25.0</td>\n",
       "      <td>1.0</td>\n",
       "    </tr>\n",
       "    <tr>\n",
       "      <th>Senior</th>\n",
       "      <td>10.367885</td>\n",
       "      <td>30.0</td>\n",
       "      <td>0.0</td>\n",
       "      <td>7.796546</td>\n",
       "      <td>25.0</td>\n",
       "      <td>1.0</td>\n",
       "    </tr>\n",
       "    <tr>\n",
       "      <th>Young</th>\n",
       "      <td>10.411732</td>\n",
       "      <td>30.0</td>\n",
       "      <td>0.0</td>\n",
       "      <td>7.785081</td>\n",
       "      <td>25.0</td>\n",
       "      <td>1.0</td>\n",
       "    </tr>\n",
       "  </tbody>\n",
       "</table>\n",
       "</div>"
      ],
      "text/plain": [
       "            days_since_prior_order               prices           \n",
       "                              mean   max  min      mean   max  min\n",
       "age_profile                                                       \n",
       "Middle-aged              10.395270  30.0  0.0  7.791435  25.0  1.0\n",
       "Senior                   10.367885  30.0  0.0  7.796546  25.0  1.0\n",
       "Young                    10.411732  30.0  0.0  7.785081  25.0  1.0"
      ]
     },
     "execution_count": 75,
     "metadata": {},
     "output_type": "execute_result"
    }
   ],
   "source": [
    "# age_profile stats\n",
    "\n",
    "df_combined.groupby('age_profile').agg({'days_since_prior_order': ['mean', 'max', 'min'], 'prices': ['mean', 'max', 'min']})"
   ]
  },
  {
   "cell_type": "code",
   "execution_count": 76,
   "id": "63819728",
   "metadata": {},
   "outputs": [
    {
     "data": {
      "text/html": [
       "<div>\n",
       "<style scoped>\n",
       "    .dataframe tbody tr th:only-of-type {\n",
       "        vertical-align: middle;\n",
       "    }\n",
       "\n",
       "    .dataframe tbody tr th {\n",
       "        vertical-align: top;\n",
       "    }\n",
       "\n",
       "    .dataframe thead tr th {\n",
       "        text-align: left;\n",
       "    }\n",
       "\n",
       "    .dataframe thead tr:last-of-type th {\n",
       "        text-align: right;\n",
       "    }\n",
       "</style>\n",
       "<table border=\"1\" class=\"dataframe\">\n",
       "  <thead>\n",
       "    <tr>\n",
       "      <th></th>\n",
       "      <th colspan=\"3\" halign=\"left\">days_since_prior_order</th>\n",
       "      <th colspan=\"3\" halign=\"left\">prices</th>\n",
       "    </tr>\n",
       "    <tr>\n",
       "      <th></th>\n",
       "      <th>mean</th>\n",
       "      <th>max</th>\n",
       "      <th>min</th>\n",
       "      <th>mean</th>\n",
       "      <th>max</th>\n",
       "      <th>min</th>\n",
       "    </tr>\n",
       "    <tr>\n",
       "      <th>income_profile</th>\n",
       "      <th></th>\n",
       "      <th></th>\n",
       "      <th></th>\n",
       "      <th></th>\n",
       "      <th></th>\n",
       "      <th></th>\n",
       "    </tr>\n",
       "  </thead>\n",
       "  <tbody>\n",
       "    <tr>\n",
       "      <th>High income</th>\n",
       "      <td>10.330294</td>\n",
       "      <td>30.0</td>\n",
       "      <td>0.0</td>\n",
       "      <td>7.957172</td>\n",
       "      <td>25.0</td>\n",
       "      <td>1.0</td>\n",
       "    </tr>\n",
       "    <tr>\n",
       "      <th>Low income</th>\n",
       "      <td>10.490422</td>\n",
       "      <td>30.0</td>\n",
       "      <td>0.0</td>\n",
       "      <td>7.434729</td>\n",
       "      <td>25.0</td>\n",
       "      <td>1.0</td>\n",
       "    </tr>\n",
       "    <tr>\n",
       "      <th>Mid income</th>\n",
       "      <td>10.356481</td>\n",
       "      <td>30.0</td>\n",
       "      <td>0.0</td>\n",
       "      <td>7.962545</td>\n",
       "      <td>25.0</td>\n",
       "      <td>1.0</td>\n",
       "    </tr>\n",
       "  </tbody>\n",
       "</table>\n",
       "</div>"
      ],
      "text/plain": [
       "               days_since_prior_order               prices           \n",
       "                                 mean   max  min      mean   max  min\n",
       "income_profile                                                       \n",
       "High income                 10.330294  30.0  0.0  7.957172  25.0  1.0\n",
       "Low income                  10.490422  30.0  0.0  7.434729  25.0  1.0\n",
       "Mid income                  10.356481  30.0  0.0  7.962545  25.0  1.0"
      ]
     },
     "execution_count": 76,
     "metadata": {},
     "output_type": "execute_result"
    }
   ],
   "source": [
    "# income_profile stats\n",
    "\n",
    "df_combined.groupby('income_profile').agg({'days_since_prior_order': ['mean', 'max', 'min'], 'prices': ['mean', 'max', 'min']})"
   ]
  },
  {
   "cell_type": "code",
   "execution_count": 77,
   "id": "0df77dbf",
   "metadata": {},
   "outputs": [
    {
     "data": {
      "text/html": [
       "<div>\n",
       "<style scoped>\n",
       "    .dataframe tbody tr th:only-of-type {\n",
       "        vertical-align: middle;\n",
       "    }\n",
       "\n",
       "    .dataframe tbody tr th {\n",
       "        vertical-align: top;\n",
       "    }\n",
       "\n",
       "    .dataframe thead tr th {\n",
       "        text-align: left;\n",
       "    }\n",
       "\n",
       "    .dataframe thead tr:last-of-type th {\n",
       "        text-align: right;\n",
       "    }\n",
       "</style>\n",
       "<table border=\"1\" class=\"dataframe\">\n",
       "  <thead>\n",
       "    <tr>\n",
       "      <th></th>\n",
       "      <th colspan=\"3\" halign=\"left\">days_since_prior_order</th>\n",
       "      <th colspan=\"3\" halign=\"left\">prices</th>\n",
       "    </tr>\n",
       "    <tr>\n",
       "      <th></th>\n",
       "      <th>mean</th>\n",
       "      <th>max</th>\n",
       "      <th>min</th>\n",
       "      <th>mean</th>\n",
       "      <th>max</th>\n",
       "      <th>min</th>\n",
       "    </tr>\n",
       "    <tr>\n",
       "      <th>vegan_profile</th>\n",
       "      <th></th>\n",
       "      <th></th>\n",
       "      <th></th>\n",
       "      <th></th>\n",
       "      <th></th>\n",
       "      <th></th>\n",
       "    </tr>\n",
       "  </thead>\n",
       "  <tbody>\n",
       "    <tr>\n",
       "      <th>Non-vegan</th>\n",
       "      <td>10.36267</td>\n",
       "      <td>30.0</td>\n",
       "      <td>0.0</td>\n",
       "      <td>7.800348</td>\n",
       "      <td>25.0</td>\n",
       "      <td>1.0</td>\n",
       "    </tr>\n",
       "    <tr>\n",
       "      <th>Vegan</th>\n",
       "      <td>12.89809</td>\n",
       "      <td>30.0</td>\n",
       "      <td>0.0</td>\n",
       "      <td>7.009920</td>\n",
       "      <td>20.0</td>\n",
       "      <td>1.0</td>\n",
       "    </tr>\n",
       "  </tbody>\n",
       "</table>\n",
       "</div>"
      ],
      "text/plain": [
       "              days_since_prior_order               prices           \n",
       "                                mean   max  min      mean   max  min\n",
       "vegan_profile                                                       \n",
       "Non-vegan                   10.36267  30.0  0.0  7.800348  25.0  1.0\n",
       "Vegan                       12.89809  30.0  0.0  7.009920  20.0  1.0"
      ]
     },
     "execution_count": 77,
     "metadata": {},
     "output_type": "execute_result"
    }
   ],
   "source": [
    "# vegan_profile stats\n",
    "\n",
    "df_combined.groupby('vegan_profile').agg({'days_since_prior_order': ['mean', 'max', 'min'], 'prices': ['mean', 'max', 'min']})"
   ]
  },
  {
   "cell_type": "code",
   "execution_count": 78,
   "id": "48441ae3",
   "metadata": {},
   "outputs": [
    {
     "data": {
      "text/html": [
       "<div>\n",
       "<style scoped>\n",
       "    .dataframe tbody tr th:only-of-type {\n",
       "        vertical-align: middle;\n",
       "    }\n",
       "\n",
       "    .dataframe tbody tr th {\n",
       "        vertical-align: top;\n",
       "    }\n",
       "\n",
       "    .dataframe thead tr th {\n",
       "        text-align: left;\n",
       "    }\n",
       "\n",
       "    .dataframe thead tr:last-of-type th {\n",
       "        text-align: right;\n",
       "    }\n",
       "</style>\n",
       "<table border=\"1\" class=\"dataframe\">\n",
       "  <thead>\n",
       "    <tr>\n",
       "      <th></th>\n",
       "      <th colspan=\"3\" halign=\"left\">days_since_prior_order</th>\n",
       "      <th colspan=\"3\" halign=\"left\">prices</th>\n",
       "    </tr>\n",
       "    <tr>\n",
       "      <th></th>\n",
       "      <th>mean</th>\n",
       "      <th>max</th>\n",
       "      <th>min</th>\n",
       "      <th>mean</th>\n",
       "      <th>max</th>\n",
       "      <th>min</th>\n",
       "    </tr>\n",
       "    <tr>\n",
       "      <th>pet_profile</th>\n",
       "      <th></th>\n",
       "      <th></th>\n",
       "      <th></th>\n",
       "      <th></th>\n",
       "      <th></th>\n",
       "      <th></th>\n",
       "    </tr>\n",
       "  </thead>\n",
       "  <tbody>\n",
       "    <tr>\n",
       "      <th>No pet</th>\n",
       "      <td>10.465651</td>\n",
       "      <td>30.0</td>\n",
       "      <td>0.0</td>\n",
       "      <td>7.788360</td>\n",
       "      <td>25.0</td>\n",
       "      <td>1.0</td>\n",
       "    </tr>\n",
       "    <tr>\n",
       "      <th>Pet owner</th>\n",
       "      <td>9.795345</td>\n",
       "      <td>30.0</td>\n",
       "      <td>0.0</td>\n",
       "      <td>7.812556</td>\n",
       "      <td>25.0</td>\n",
       "      <td>1.0</td>\n",
       "    </tr>\n",
       "  </tbody>\n",
       "</table>\n",
       "</div>"
      ],
      "text/plain": [
       "            days_since_prior_order               prices           \n",
       "                              mean   max  min      mean   max  min\n",
       "pet_profile                                                       \n",
       "No pet                   10.465651  30.0  0.0  7.788360  25.0  1.0\n",
       "Pet owner                 9.795345  30.0  0.0  7.812556  25.0  1.0"
      ]
     },
     "execution_count": 78,
     "metadata": {},
     "output_type": "execute_result"
    }
   ],
   "source": [
    "# pet_profile stats\n",
    "\n",
    "df_combined.groupby('pet_profile').agg({'days_since_prior_order': ['mean', 'max', 'min'], 'prices': ['mean', 'max', 'min']})"
   ]
  },
  {
   "cell_type": "code",
   "execution_count": 79,
   "id": "a0e858a4",
   "metadata": {},
   "outputs": [
    {
     "data": {
      "text/html": [
       "<div>\n",
       "<style scoped>\n",
       "    .dataframe tbody tr th:only-of-type {\n",
       "        vertical-align: middle;\n",
       "    }\n",
       "\n",
       "    .dataframe tbody tr th {\n",
       "        vertical-align: top;\n",
       "    }\n",
       "\n",
       "    .dataframe thead tr th {\n",
       "        text-align: left;\n",
       "    }\n",
       "\n",
       "    .dataframe thead tr:last-of-type th {\n",
       "        text-align: right;\n",
       "    }\n",
       "</style>\n",
       "<table border=\"1\" class=\"dataframe\">\n",
       "  <thead>\n",
       "    <tr>\n",
       "      <th></th>\n",
       "      <th colspan=\"3\" halign=\"left\">days_since_prior_order</th>\n",
       "      <th colspan=\"3\" halign=\"left\">prices</th>\n",
       "    </tr>\n",
       "    <tr>\n",
       "      <th></th>\n",
       "      <th>mean</th>\n",
       "      <th>max</th>\n",
       "      <th>min</th>\n",
       "      <th>mean</th>\n",
       "      <th>max</th>\n",
       "      <th>min</th>\n",
       "    </tr>\n",
       "    <tr>\n",
       "      <th>family_profile</th>\n",
       "      <th></th>\n",
       "      <th></th>\n",
       "      <th></th>\n",
       "      <th></th>\n",
       "      <th></th>\n",
       "      <th></th>\n",
       "    </tr>\n",
       "  </thead>\n",
       "  <tbody>\n",
       "    <tr>\n",
       "      <th>Married no children</th>\n",
       "      <td>10.397248</td>\n",
       "      <td>30.0</td>\n",
       "      <td>0.0</td>\n",
       "      <td>7.795712</td>\n",
       "      <td>25.0</td>\n",
       "      <td>1.0</td>\n",
       "    </tr>\n",
       "    <tr>\n",
       "      <th>Married with children</th>\n",
       "      <td>10.406308</td>\n",
       "      <td>30.0</td>\n",
       "      <td>0.0</td>\n",
       "      <td>7.788203</td>\n",
       "      <td>25.0</td>\n",
       "      <td>1.0</td>\n",
       "    </tr>\n",
       "    <tr>\n",
       "      <th>Single no children</th>\n",
       "      <td>10.371750</td>\n",
       "      <td>30.0</td>\n",
       "      <td>0.0</td>\n",
       "      <td>7.789975</td>\n",
       "      <td>25.0</td>\n",
       "      <td>1.0</td>\n",
       "    </tr>\n",
       "    <tr>\n",
       "      <th>Single with children/dependants</th>\n",
       "      <td>10.345887</td>\n",
       "      <td>30.0</td>\n",
       "      <td>0.0</td>\n",
       "      <td>7.800712</td>\n",
       "      <td>25.0</td>\n",
       "      <td>1.0</td>\n",
       "    </tr>\n",
       "  </tbody>\n",
       "</table>\n",
       "</div>"
      ],
      "text/plain": [
       "                                days_since_prior_order               prices  \\\n",
       "                                                  mean   max  min      mean   \n",
       "family_profile                                                                \n",
       "Married no children                          10.397248  30.0  0.0  7.795712   \n",
       "Married with children                        10.406308  30.0  0.0  7.788203   \n",
       "Single no children                           10.371750  30.0  0.0  7.789975   \n",
       "Single with children/dependants              10.345887  30.0  0.0  7.800712   \n",
       "\n",
       "                                            \n",
       "                                  max  min  \n",
       "family_profile                              \n",
       "Married no children              25.0  1.0  \n",
       "Married with children            25.0  1.0  \n",
       "Single no children               25.0  1.0  \n",
       "Single with children/dependants  25.0  1.0  "
      ]
     },
     "execution_count": 79,
     "metadata": {},
     "output_type": "execute_result"
    }
   ],
   "source": [
    "# family_profile stats\n",
    "\n",
    "df_combined.groupby('family_profile').agg({'days_since_prior_order': ['mean', 'max', 'min'], 'prices': ['mean', 'max', 'min']})"
   ]
  },
  {
   "cell_type": "markdown",
   "id": "b2423ed4",
   "metadata": {},
   "source": [
    "## Step 8: Compare your customer profiles with regions and departments. Can you identify a link between them? Customers may demonstrate different behaviors across regions, which could make this information important."
   ]
  },
  {
   "cell_type": "markdown",
   "id": "eb6829ab",
   "metadata": {},
   "source": [
    "### Customer profiles by Region"
   ]
  },
  {
   "cell_type": "markdown",
   "id": "42fa67d8",
   "metadata": {},
   "source": [
    "#### Age"
   ]
  },
  {
   "cell_type": "code",
   "execution_count": 82,
   "id": "774d6b48",
   "metadata": {},
   "outputs": [],
   "source": [
    "# Creating a crosstab comparing 'age_profile' and 'region', looking at percentages for better comparability\n",
    "\n",
    "age_region_cross = pd.crosstab(df_combined['age_profile'], df_combined['region'], normalize = 'columns')"
   ]
  },
  {
   "cell_type": "code",
   "execution_count": 83,
   "id": "adaa9f99",
   "metadata": {},
   "outputs": [
    {
     "data": {
      "text/html": [
       "<div>\n",
       "<style scoped>\n",
       "    .dataframe tbody tr th:only-of-type {\n",
       "        vertical-align: middle;\n",
       "    }\n",
       "\n",
       "    .dataframe tbody tr th {\n",
       "        vertical-align: top;\n",
       "    }\n",
       "\n",
       "    .dataframe thead th {\n",
       "        text-align: right;\n",
       "    }\n",
       "</style>\n",
       "<table border=\"1\" class=\"dataframe\">\n",
       "  <thead>\n",
       "    <tr style=\"text-align: right;\">\n",
       "      <th>region</th>\n",
       "      <th>Midwest</th>\n",
       "      <th>Northeast</th>\n",
       "      <th>South</th>\n",
       "      <th>West</th>\n",
       "    </tr>\n",
       "    <tr>\n",
       "      <th>age_profile</th>\n",
       "      <th></th>\n",
       "      <th></th>\n",
       "      <th></th>\n",
       "      <th></th>\n",
       "    </tr>\n",
       "  </thead>\n",
       "  <tbody>\n",
       "    <tr>\n",
       "      <th>Middle-aged</th>\n",
       "      <td>0.459602</td>\n",
       "      <td>0.444810</td>\n",
       "      <td>0.451132</td>\n",
       "      <td>0.455511</td>\n",
       "    </tr>\n",
       "    <tr>\n",
       "      <th>Senior</th>\n",
       "      <td>0.262045</td>\n",
       "      <td>0.271531</td>\n",
       "      <td>0.262814</td>\n",
       "      <td>0.264573</td>\n",
       "    </tr>\n",
       "    <tr>\n",
       "      <th>Young</th>\n",
       "      <td>0.278353</td>\n",
       "      <td>0.283659</td>\n",
       "      <td>0.286054</td>\n",
       "      <td>0.279916</td>\n",
       "    </tr>\n",
       "  </tbody>\n",
       "</table>\n",
       "</div>"
      ],
      "text/plain": [
       "region        Midwest  Northeast     South      West\n",
       "age_profile                                         \n",
       "Middle-aged  0.459602   0.444810  0.451132  0.455511\n",
       "Senior       0.262045   0.271531  0.262814  0.264573\n",
       "Young        0.278353   0.283659  0.286054  0.279916"
      ]
     },
     "execution_count": 83,
     "metadata": {},
     "output_type": "execute_result"
    }
   ],
   "source": [
    "age_region_cross"
   ]
  },
  {
   "cell_type": "markdown",
   "id": "0909f534",
   "metadata": {},
   "source": [
    "The age groups are similarly big across different regions."
   ]
  },
  {
   "cell_type": "markdown",
   "id": "4953c9c4",
   "metadata": {},
   "source": [
    "#### Income"
   ]
  },
  {
   "cell_type": "code",
   "execution_count": 84,
   "id": "0f9fea27",
   "metadata": {},
   "outputs": [],
   "source": [
    "# Creating a crosstab comparing 'income_profile' and 'region', looking at percentages for better comparability\n",
    "\n",
    "income_region_cross = pd.crosstab(df_combined['income_profile'], df_combined['region'], normalize = 'columns')"
   ]
  },
  {
   "cell_type": "code",
   "execution_count": 85,
   "id": "3aea9df5",
   "metadata": {},
   "outputs": [
    {
     "data": {
      "text/html": [
       "<div>\n",
       "<style scoped>\n",
       "    .dataframe tbody tr th:only-of-type {\n",
       "        vertical-align: middle;\n",
       "    }\n",
       "\n",
       "    .dataframe tbody tr th {\n",
       "        vertical-align: top;\n",
       "    }\n",
       "\n",
       "    .dataframe thead th {\n",
       "        text-align: right;\n",
       "    }\n",
       "</style>\n",
       "<table border=\"1\" class=\"dataframe\">\n",
       "  <thead>\n",
       "    <tr style=\"text-align: right;\">\n",
       "      <th>region</th>\n",
       "      <th>Midwest</th>\n",
       "      <th>Northeast</th>\n",
       "      <th>South</th>\n",
       "      <th>West</th>\n",
       "    </tr>\n",
       "    <tr>\n",
       "      <th>income_profile</th>\n",
       "      <th></th>\n",
       "      <th></th>\n",
       "      <th></th>\n",
       "      <th></th>\n",
       "    </tr>\n",
       "  </thead>\n",
       "  <tbody>\n",
       "    <tr>\n",
       "      <th>High income</th>\n",
       "      <td>0.270318</td>\n",
       "      <td>0.268977</td>\n",
       "      <td>0.262824</td>\n",
       "      <td>0.265481</td>\n",
       "    </tr>\n",
       "    <tr>\n",
       "      <th>Low income</th>\n",
       "      <td>0.319571</td>\n",
       "      <td>0.318405</td>\n",
       "      <td>0.323667</td>\n",
       "      <td>0.325550</td>\n",
       "    </tr>\n",
       "    <tr>\n",
       "      <th>Mid income</th>\n",
       "      <td>0.410111</td>\n",
       "      <td>0.412618</td>\n",
       "      <td>0.413510</td>\n",
       "      <td>0.408968</td>\n",
       "    </tr>\n",
       "  </tbody>\n",
       "</table>\n",
       "</div>"
      ],
      "text/plain": [
       "region           Midwest  Northeast     South      West\n",
       "income_profile                                         \n",
       "High income     0.270318   0.268977  0.262824  0.265481\n",
       "Low income      0.319571   0.318405  0.323667  0.325550\n",
       "Mid income      0.410111   0.412618  0.413510  0.408968"
      ]
     },
     "execution_count": 85,
     "metadata": {},
     "output_type": "execute_result"
    }
   ],
   "source": [
    "income_region_cross"
   ]
  },
  {
   "cell_type": "markdown",
   "id": "e338c270",
   "metadata": {},
   "source": [
    "The income groups are similarly big across different regions."
   ]
  },
  {
   "cell_type": "markdown",
   "id": "ac550629",
   "metadata": {},
   "source": [
    "#### Veganism"
   ]
  },
  {
   "cell_type": "code",
   "execution_count": 87,
   "id": "f2cff44b",
   "metadata": {},
   "outputs": [],
   "source": [
    "# Creating a crosstab comparing 'vegan_profile' and 'region', looking at percentages for better comparability\n",
    "\n",
    "vegan_region_cross = pd.crosstab(df_combined['vegan_profile'], df_combined['region'], normalize = 'columns')"
   ]
  },
  {
   "cell_type": "code",
   "execution_count": 88,
   "id": "315bacc0",
   "metadata": {},
   "outputs": [
    {
     "data": {
      "text/html": [
       "<div>\n",
       "<style scoped>\n",
       "    .dataframe tbody tr th:only-of-type {\n",
       "        vertical-align: middle;\n",
       "    }\n",
       "\n",
       "    .dataframe tbody tr th {\n",
       "        vertical-align: top;\n",
       "    }\n",
       "\n",
       "    .dataframe thead th {\n",
       "        text-align: right;\n",
       "    }\n",
       "</style>\n",
       "<table border=\"1\" class=\"dataframe\">\n",
       "  <thead>\n",
       "    <tr style=\"text-align: right;\">\n",
       "      <th>region</th>\n",
       "      <th>Midwest</th>\n",
       "      <th>Northeast</th>\n",
       "      <th>South</th>\n",
       "      <th>West</th>\n",
       "    </tr>\n",
       "    <tr>\n",
       "      <th>vegan_profile</th>\n",
       "      <th></th>\n",
       "      <th></th>\n",
       "      <th></th>\n",
       "      <th></th>\n",
       "    </tr>\n",
       "  </thead>\n",
       "  <tbody>\n",
       "    <tr>\n",
       "      <th>Non-vegan</th>\n",
       "      <td>0.988115</td>\n",
       "      <td>0.988159</td>\n",
       "      <td>0.988389</td>\n",
       "      <td>0.987934</td>\n",
       "    </tr>\n",
       "    <tr>\n",
       "      <th>Vegan</th>\n",
       "      <td>0.011885</td>\n",
       "      <td>0.011841</td>\n",
       "      <td>0.011611</td>\n",
       "      <td>0.012066</td>\n",
       "    </tr>\n",
       "  </tbody>\n",
       "</table>\n",
       "</div>"
      ],
      "text/plain": [
       "region          Midwest  Northeast     South      West\n",
       "vegan_profile                                         \n",
       "Non-vegan      0.988115   0.988159  0.988389  0.987934\n",
       "Vegan          0.011885   0.011841  0.011611  0.012066"
      ]
     },
     "execution_count": 88,
     "metadata": {},
     "output_type": "execute_result"
    }
   ],
   "source": [
    "vegan_region_cross "
   ]
  },
  {
   "cell_type": "markdown",
   "id": "96530cf0",
   "metadata": {},
   "source": [
    "The rates of vegans are similar across different regions."
   ]
  },
  {
   "cell_type": "markdown",
   "id": "2208a46d",
   "metadata": {},
   "source": [
    "#### Pet ownership"
   ]
  },
  {
   "cell_type": "code",
   "execution_count": 89,
   "id": "e1e98dd1",
   "metadata": {},
   "outputs": [],
   "source": [
    "# Creating a crosstab comparing 'pet_profile' and 'region', looking at percentages for better comparability\n",
    "\n",
    "pet_region_cross = pd.crosstab(df_combined['pet_profile'], df_combined['region'], normalize = 'columns')"
   ]
  },
  {
   "cell_type": "code",
   "execution_count": 90,
   "id": "ad87e834",
   "metadata": {},
   "outputs": [
    {
     "data": {
      "text/html": [
       "<div>\n",
       "<style scoped>\n",
       "    .dataframe tbody tr th:only-of-type {\n",
       "        vertical-align: middle;\n",
       "    }\n",
       "\n",
       "    .dataframe tbody tr th {\n",
       "        vertical-align: top;\n",
       "    }\n",
       "\n",
       "    .dataframe thead th {\n",
       "        text-align: right;\n",
       "    }\n",
       "</style>\n",
       "<table border=\"1\" class=\"dataframe\">\n",
       "  <thead>\n",
       "    <tr style=\"text-align: right;\">\n",
       "      <th>region</th>\n",
       "      <th>Midwest</th>\n",
       "      <th>Northeast</th>\n",
       "      <th>South</th>\n",
       "      <th>West</th>\n",
       "    </tr>\n",
       "    <tr>\n",
       "      <th>pet_profile</th>\n",
       "      <th></th>\n",
       "      <th></th>\n",
       "      <th></th>\n",
       "      <th></th>\n",
       "    </tr>\n",
       "  </thead>\n",
       "  <tbody>\n",
       "    <tr>\n",
       "      <th>No pet</th>\n",
       "      <td>0.888836</td>\n",
       "      <td>0.892981</td>\n",
       "      <td>0.894204</td>\n",
       "      <td>0.887927</td>\n",
       "    </tr>\n",
       "    <tr>\n",
       "      <th>Pet owner</th>\n",
       "      <td>0.111164</td>\n",
       "      <td>0.107019</td>\n",
       "      <td>0.105796</td>\n",
       "      <td>0.112073</td>\n",
       "    </tr>\n",
       "  </tbody>\n",
       "</table>\n",
       "</div>"
      ],
      "text/plain": [
       "region        Midwest  Northeast     South      West\n",
       "pet_profile                                         \n",
       "No pet       0.888836   0.892981  0.894204  0.887927\n",
       "Pet owner    0.111164   0.107019  0.105796  0.112073"
      ]
     },
     "execution_count": 90,
     "metadata": {},
     "output_type": "execute_result"
    }
   ],
   "source": [
    "pet_region_cross"
   ]
  },
  {
   "cell_type": "markdown",
   "id": "dfffddd7",
   "metadata": {},
   "source": [
    "The rates of pet owners are similar across different regions."
   ]
  },
  {
   "cell_type": "markdown",
   "id": "a9de77b9",
   "metadata": {},
   "source": [
    "#### Family status"
   ]
  },
  {
   "cell_type": "code",
   "execution_count": 91,
   "id": "7ee7abd6",
   "metadata": {},
   "outputs": [],
   "source": [
    "# Creating a crosstab comparing 'family_profile' and 'region', looking at percentages for better comparability\n",
    "\n",
    "family_region_cross = pd.crosstab(df_combined['family_profile'], df_combined['region'], normalize = 'columns')"
   ]
  },
  {
   "cell_type": "code",
   "execution_count": 92,
   "id": "f1bcf28b",
   "metadata": {},
   "outputs": [
    {
     "data": {
      "text/html": [
       "<div>\n",
       "<style scoped>\n",
       "    .dataframe tbody tr th:only-of-type {\n",
       "        vertical-align: middle;\n",
       "    }\n",
       "\n",
       "    .dataframe tbody tr th {\n",
       "        vertical-align: top;\n",
       "    }\n",
       "\n",
       "    .dataframe thead th {\n",
       "        text-align: right;\n",
       "    }\n",
       "</style>\n",
       "<table border=\"1\" class=\"dataframe\">\n",
       "  <thead>\n",
       "    <tr style=\"text-align: right;\">\n",
       "      <th>region</th>\n",
       "      <th>Midwest</th>\n",
       "      <th>Northeast</th>\n",
       "      <th>South</th>\n",
       "      <th>West</th>\n",
       "    </tr>\n",
       "    <tr>\n",
       "      <th>family_profile</th>\n",
       "      <th></th>\n",
       "      <th></th>\n",
       "      <th></th>\n",
       "      <th></th>\n",
       "    </tr>\n",
       "  </thead>\n",
       "  <tbody>\n",
       "    <tr>\n",
       "      <th>Married no children</th>\n",
       "      <td>0.236932</td>\n",
       "      <td>0.236116</td>\n",
       "      <td>0.229883</td>\n",
       "      <td>0.231373</td>\n",
       "    </tr>\n",
       "    <tr>\n",
       "      <th>Married with children</th>\n",
       "      <td>0.464053</td>\n",
       "      <td>0.469197</td>\n",
       "      <td>0.470703</td>\n",
       "      <td>0.472141</td>\n",
       "    </tr>\n",
       "    <tr>\n",
       "      <th>Single no children</th>\n",
       "      <td>0.250772</td>\n",
       "      <td>0.247836</td>\n",
       "      <td>0.250342</td>\n",
       "      <td>0.249893</td>\n",
       "    </tr>\n",
       "    <tr>\n",
       "      <th>Single with children/dependants</th>\n",
       "      <td>0.048243</td>\n",
       "      <td>0.046851</td>\n",
       "      <td>0.049072</td>\n",
       "      <td>0.046593</td>\n",
       "    </tr>\n",
       "  </tbody>\n",
       "</table>\n",
       "</div>"
      ],
      "text/plain": [
       "region                            Midwest  Northeast     South      West\n",
       "family_profile                                                          \n",
       "Married no children              0.236932   0.236116  0.229883  0.231373\n",
       "Married with children            0.464053   0.469197  0.470703  0.472141\n",
       "Single no children               0.250772   0.247836  0.250342  0.249893\n",
       "Single with children/dependants  0.048243   0.046851  0.049072  0.046593"
      ]
     },
     "execution_count": 92,
     "metadata": {},
     "output_type": "execute_result"
    }
   ],
   "source": [
    "family_region_cross"
   ]
  },
  {
   "cell_type": "markdown",
   "id": "ae7f1cc8",
   "metadata": {},
   "source": [
    "The rates of different famility structures are similar across different regions."
   ]
  },
  {
   "cell_type": "markdown",
   "id": "12f564aa",
   "metadata": {},
   "source": [
    "### Customers Profiles by Department"
   ]
  },
  {
   "cell_type": "markdown",
   "id": "4a728d1f",
   "metadata": {},
   "source": [
    "#### Age"
   ]
  },
  {
   "cell_type": "code",
   "execution_count": 93,
   "id": "febc33f0",
   "metadata": {},
   "outputs": [],
   "source": [
    "# Creating a crosstab comparing 'age_profile' and 'department_id', looking at row percentages\n",
    "\n",
    "age_department_cross = pd.crosstab(df_combined['age_profile'], df_combined['department_id'], normalize = 'index')   \n",
    "# normalize = 'index' gives row percentages"
   ]
  },
  {
   "cell_type": "code",
   "execution_count": 95,
   "id": "870a1783",
   "metadata": {},
   "outputs": [],
   "source": [
    "# Showing all columns\n",
    "\n",
    "pd.set_option('display.max_columns', None)   "
   ]
  },
  {
   "cell_type": "code",
   "execution_count": 96,
   "id": "a49bc457",
   "metadata": {},
   "outputs": [
    {
     "data": {
      "text/html": [
       "<div>\n",
       "<style scoped>\n",
       "    .dataframe tbody tr th:only-of-type {\n",
       "        vertical-align: middle;\n",
       "    }\n",
       "\n",
       "    .dataframe tbody tr th {\n",
       "        vertical-align: top;\n",
       "    }\n",
       "\n",
       "    .dataframe thead th {\n",
       "        text-align: right;\n",
       "    }\n",
       "</style>\n",
       "<table border=\"1\" class=\"dataframe\">\n",
       "  <thead>\n",
       "    <tr style=\"text-align: right;\">\n",
       "      <th>department_id</th>\n",
       "      <th>1</th>\n",
       "      <th>2</th>\n",
       "      <th>3</th>\n",
       "      <th>4</th>\n",
       "      <th>5</th>\n",
       "      <th>6</th>\n",
       "      <th>7</th>\n",
       "      <th>8</th>\n",
       "      <th>9</th>\n",
       "      <th>10</th>\n",
       "      <th>11</th>\n",
       "      <th>12</th>\n",
       "      <th>13</th>\n",
       "      <th>14</th>\n",
       "      <th>15</th>\n",
       "      <th>16</th>\n",
       "      <th>17</th>\n",
       "      <th>18</th>\n",
       "      <th>19</th>\n",
       "      <th>20</th>\n",
       "      <th>21</th>\n",
       "    </tr>\n",
       "    <tr>\n",
       "      <th>age_profile</th>\n",
       "      <th></th>\n",
       "      <th></th>\n",
       "      <th></th>\n",
       "      <th></th>\n",
       "      <th></th>\n",
       "      <th></th>\n",
       "      <th></th>\n",
       "      <th></th>\n",
       "      <th></th>\n",
       "      <th></th>\n",
       "      <th></th>\n",
       "      <th></th>\n",
       "      <th></th>\n",
       "      <th></th>\n",
       "      <th></th>\n",
       "      <th></th>\n",
       "      <th></th>\n",
       "      <th></th>\n",
       "      <th></th>\n",
       "      <th></th>\n",
       "      <th></th>\n",
       "    </tr>\n",
       "  </thead>\n",
       "  <tbody>\n",
       "    <tr>\n",
       "      <th>Middle-aged</th>\n",
       "      <td>0.068932</td>\n",
       "      <td>0.001121</td>\n",
       "      <td>0.036165</td>\n",
       "      <td>0.292636</td>\n",
       "      <td>0.004749</td>\n",
       "      <td>0.008296</td>\n",
       "      <td>0.083295</td>\n",
       "      <td>0.002976</td>\n",
       "      <td>0.026720</td>\n",
       "      <td>0.001049</td>\n",
       "      <td>0.013965</td>\n",
       "      <td>0.021776</td>\n",
       "      <td>0.057839</td>\n",
       "      <td>0.021697</td>\n",
       "      <td>0.032856</td>\n",
       "      <td>0.166074</td>\n",
       "      <td>0.022806</td>\n",
       "      <td>0.013413</td>\n",
       "      <td>0.089074</td>\n",
       "      <td>0.032448</td>\n",
       "      <td>0.002113</td>\n",
       "    </tr>\n",
       "    <tr>\n",
       "      <th>Senior</th>\n",
       "      <td>0.069232</td>\n",
       "      <td>0.001099</td>\n",
       "      <td>0.036096</td>\n",
       "      <td>0.293147</td>\n",
       "      <td>0.004552</td>\n",
       "      <td>0.008253</td>\n",
       "      <td>0.083362</td>\n",
       "      <td>0.003065</td>\n",
       "      <td>0.026698</td>\n",
       "      <td>0.001078</td>\n",
       "      <td>0.013691</td>\n",
       "      <td>0.022171</td>\n",
       "      <td>0.057956</td>\n",
       "      <td>0.021439</td>\n",
       "      <td>0.032937</td>\n",
       "      <td>0.166321</td>\n",
       "      <td>0.022966</td>\n",
       "      <td>0.012763</td>\n",
       "      <td>0.088689</td>\n",
       "      <td>0.032375</td>\n",
       "      <td>0.002110</td>\n",
       "    </tr>\n",
       "    <tr>\n",
       "      <th>Young</th>\n",
       "      <td>0.068762</td>\n",
       "      <td>0.001138</td>\n",
       "      <td>0.036285</td>\n",
       "      <td>0.291769</td>\n",
       "      <td>0.004912</td>\n",
       "      <td>0.008381</td>\n",
       "      <td>0.082025</td>\n",
       "      <td>0.003031</td>\n",
       "      <td>0.026825</td>\n",
       "      <td>0.001085</td>\n",
       "      <td>0.013680</td>\n",
       "      <td>0.021765</td>\n",
       "      <td>0.057850</td>\n",
       "      <td>0.021933</td>\n",
       "      <td>0.033147</td>\n",
       "      <td>0.167717</td>\n",
       "      <td>0.022617</td>\n",
       "      <td>0.012836</td>\n",
       "      <td>0.089558</td>\n",
       "      <td>0.032492</td>\n",
       "      <td>0.002190</td>\n",
       "    </tr>\n",
       "  </tbody>\n",
       "</table>\n",
       "</div>"
      ],
      "text/plain": [
       "department_id        1         2         3         4         5         6   \\\n",
       "age_profile                                                                 \n",
       "Middle-aged    0.068932  0.001121  0.036165  0.292636  0.004749  0.008296   \n",
       "Senior         0.069232  0.001099  0.036096  0.293147  0.004552  0.008253   \n",
       "Young          0.068762  0.001138  0.036285  0.291769  0.004912  0.008381   \n",
       "\n",
       "department_id        7         8         9         10        11        12  \\\n",
       "age_profile                                                                 \n",
       "Middle-aged    0.083295  0.002976  0.026720  0.001049  0.013965  0.021776   \n",
       "Senior         0.083362  0.003065  0.026698  0.001078  0.013691  0.022171   \n",
       "Young          0.082025  0.003031  0.026825  0.001085  0.013680  0.021765   \n",
       "\n",
       "department_id        13        14        15        16        17        18  \\\n",
       "age_profile                                                                 \n",
       "Middle-aged    0.057839  0.021697  0.032856  0.166074  0.022806  0.013413   \n",
       "Senior         0.057956  0.021439  0.032937  0.166321  0.022966  0.012763   \n",
       "Young          0.057850  0.021933  0.033147  0.167717  0.022617  0.012836   \n",
       "\n",
       "department_id        19        20        21  \n",
       "age_profile                                  \n",
       "Middle-aged    0.089074  0.032448  0.002113  \n",
       "Senior         0.088689  0.032375  0.002110  \n",
       "Young          0.089558  0.032492  0.002190  "
      ]
     },
     "execution_count": 96,
     "metadata": {},
     "output_type": "execute_result"
    }
   ],
   "source": [
    "age_department_cross"
   ]
  },
  {
   "cell_type": "markdown",
   "id": "687732ae",
   "metadata": {},
   "source": [
    "Different age groups buy produce from different departments at similar rates."
   ]
  },
  {
   "cell_type": "markdown",
   "id": "cd88b432",
   "metadata": {},
   "source": [
    "#### Income"
   ]
  },
  {
   "cell_type": "code",
   "execution_count": 97,
   "id": "e71a4c71",
   "metadata": {},
   "outputs": [],
   "source": [
    "# Creating a crosstab comparing 'income_profile' and 'department_id', looking at row percentages\n",
    "\n",
    "income_department_cross = pd.crosstab(df_combined['income_profile'], df_combined['department_id'], normalize = 'index')   \n",
    "# normalize = 'index' gives row percentages"
   ]
  },
  {
   "cell_type": "code",
   "execution_count": 98,
   "id": "547faaf5",
   "metadata": {},
   "outputs": [
    {
     "data": {
      "text/html": [
       "<div>\n",
       "<style scoped>\n",
       "    .dataframe tbody tr th:only-of-type {\n",
       "        vertical-align: middle;\n",
       "    }\n",
       "\n",
       "    .dataframe tbody tr th {\n",
       "        vertical-align: top;\n",
       "    }\n",
       "\n",
       "    .dataframe thead th {\n",
       "        text-align: right;\n",
       "    }\n",
       "</style>\n",
       "<table border=\"1\" class=\"dataframe\">\n",
       "  <thead>\n",
       "    <tr style=\"text-align: right;\">\n",
       "      <th>department_id</th>\n",
       "      <th>1</th>\n",
       "      <th>2</th>\n",
       "      <th>3</th>\n",
       "      <th>4</th>\n",
       "      <th>5</th>\n",
       "      <th>6</th>\n",
       "      <th>7</th>\n",
       "      <th>8</th>\n",
       "      <th>9</th>\n",
       "      <th>10</th>\n",
       "      <th>11</th>\n",
       "      <th>12</th>\n",
       "      <th>13</th>\n",
       "      <th>14</th>\n",
       "      <th>15</th>\n",
       "      <th>16</th>\n",
       "      <th>17</th>\n",
       "      <th>18</th>\n",
       "      <th>19</th>\n",
       "      <th>20</th>\n",
       "      <th>21</th>\n",
       "    </tr>\n",
       "    <tr>\n",
       "      <th>income_profile</th>\n",
       "      <th></th>\n",
       "      <th></th>\n",
       "      <th></th>\n",
       "      <th></th>\n",
       "      <th></th>\n",
       "      <th></th>\n",
       "      <th></th>\n",
       "      <th></th>\n",
       "      <th></th>\n",
       "      <th></th>\n",
       "      <th></th>\n",
       "      <th></th>\n",
       "      <th></th>\n",
       "      <th></th>\n",
       "      <th></th>\n",
       "      <th></th>\n",
       "      <th></th>\n",
       "      <th></th>\n",
       "      <th></th>\n",
       "      <th></th>\n",
       "      <th></th>\n",
       "    </tr>\n",
       "  </thead>\n",
       "  <tbody>\n",
       "    <tr>\n",
       "      <th>High income</th>\n",
       "      <td>0.070178</td>\n",
       "      <td>0.001124</td>\n",
       "      <td>0.037367</td>\n",
       "      <td>0.296090</td>\n",
       "      <td>0.005225</td>\n",
       "      <td>0.008508</td>\n",
       "      <td>0.079665</td>\n",
       "      <td>0.003198</td>\n",
       "      <td>0.027690</td>\n",
       "      <td>0.000964</td>\n",
       "      <td>0.013796</td>\n",
       "      <td>0.023733</td>\n",
       "      <td>0.059357</td>\n",
       "      <td>0.021042</td>\n",
       "      <td>0.034518</td>\n",
       "      <td>0.169215</td>\n",
       "      <td>0.022926</td>\n",
       "      <td>0.013578</td>\n",
       "      <td>0.077290</td>\n",
       "      <td>0.032395</td>\n",
       "      <td>0.002141</td>\n",
       "    </tr>\n",
       "    <tr>\n",
       "      <th>Low income</th>\n",
       "      <td>0.067229</td>\n",
       "      <td>0.001114</td>\n",
       "      <td>0.034505</td>\n",
       "      <td>0.279570</td>\n",
       "      <td>0.004614</td>\n",
       "      <td>0.007760</td>\n",
       "      <td>0.091741</td>\n",
       "      <td>0.002845</td>\n",
       "      <td>0.024468</td>\n",
       "      <td>0.001184</td>\n",
       "      <td>0.013988</td>\n",
       "      <td>0.017992</td>\n",
       "      <td>0.055207</td>\n",
       "      <td>0.023537</td>\n",
       "      <td>0.030146</td>\n",
       "      <td>0.160883</td>\n",
       "      <td>0.023559</td>\n",
       "      <td>0.011447</td>\n",
       "      <td>0.113855</td>\n",
       "      <td>0.032205</td>\n",
       "      <td>0.002150</td>\n",
       "    </tr>\n",
       "    <tr>\n",
       "      <th>Mid income</th>\n",
       "      <td>0.069535</td>\n",
       "      <td>0.001122</td>\n",
       "      <td>0.036725</td>\n",
       "      <td>0.300369</td>\n",
       "      <td>0.004532</td>\n",
       "      <td>0.008610</td>\n",
       "      <td>0.078201</td>\n",
       "      <td>0.003031</td>\n",
       "      <td>0.027914</td>\n",
       "      <td>0.001042</td>\n",
       "      <td>0.013684</td>\n",
       "      <td>0.023719</td>\n",
       "      <td>0.059001</td>\n",
       "      <td>0.020675</td>\n",
       "      <td>0.034155</td>\n",
       "      <td>0.169392</td>\n",
       "      <td>0.022112</td>\n",
       "      <td>0.014033</td>\n",
       "      <td>0.077375</td>\n",
       "      <td>0.032656</td>\n",
       "      <td>0.002116</td>\n",
       "    </tr>\n",
       "  </tbody>\n",
       "</table>\n",
       "</div>"
      ],
      "text/plain": [
       "department_id         1         2         3         4         5         6   \\\n",
       "income_profile                                                               \n",
       "High income     0.070178  0.001124  0.037367  0.296090  0.005225  0.008508   \n",
       "Low income      0.067229  0.001114  0.034505  0.279570  0.004614  0.007760   \n",
       "Mid income      0.069535  0.001122  0.036725  0.300369  0.004532  0.008610   \n",
       "\n",
       "department_id         7         8         9         10        11        12  \\\n",
       "income_profile                                                               \n",
       "High income     0.079665  0.003198  0.027690  0.000964  0.013796  0.023733   \n",
       "Low income      0.091741  0.002845  0.024468  0.001184  0.013988  0.017992   \n",
       "Mid income      0.078201  0.003031  0.027914  0.001042  0.013684  0.023719   \n",
       "\n",
       "department_id         13        14        15        16        17        18  \\\n",
       "income_profile                                                               \n",
       "High income     0.059357  0.021042  0.034518  0.169215  0.022926  0.013578   \n",
       "Low income      0.055207  0.023537  0.030146  0.160883  0.023559  0.011447   \n",
       "Mid income      0.059001  0.020675  0.034155  0.169392  0.022112  0.014033   \n",
       "\n",
       "department_id         19        20        21  \n",
       "income_profile                                \n",
       "High income     0.077290  0.032395  0.002141  \n",
       "Low income      0.113855  0.032205  0.002150  \n",
       "Mid income      0.077375  0.032656  0.002116  "
      ]
     },
     "execution_count": 98,
     "metadata": {},
     "output_type": "execute_result"
    }
   ],
   "source": [
    "income_department_cross"
   ]
  },
  {
   "cell_type": "markdown",
   "id": "c8a47c88",
   "metadata": {},
   "source": [
    "{'1': {'department': 'frozen'},\n",
    " '2': {'department': 'other'},\n",
    " '3': {'department': 'bakery'},\n",
    " '4': {'department': 'produce'},\n",
    " '5': {'department': 'alcohol'},\n",
    " '6': {'department': 'international'},\n",
    " '7': {'department': 'beverages'},\n",
    " '8': {'department': 'pets'},\n",
    " '9': {'department': 'dry goods pasta'},\n",
    " '10': {'department': 'bulk'},\n",
    " '11': {'department': 'personal care'},\n",
    " '12': {'department': 'meat seafood'},\n",
    " '13': {'department': 'pantry'},\n",
    " '14': {'department': 'breakfast'},\n",
    " '15': {'department': 'canned goods'},\n",
    " '16': {'department': 'dairy eggs'},\n",
    " '17': {'department': 'household'},\n",
    " '18': {'department': 'babies'},\n",
    " '19': {'department': 'snacks'},\n",
    " '20': {'department': 'deli'},\n",
    " '21': {'department': 'missing'}}\n",
    " \n",
    "In many departments, there are slight differences especially between the low income group and the other two groups in respect of their spending. Often, and as expected, the low income group spends less money than the other two groups, except for the departments \"beverages\", \"bulk\", \"breakfast\", \"household\" and \"snacks\", where spendings are a little higher than in the other two groups."
   ]
  },
  {
   "cell_type": "markdown",
   "id": "d5a2fbc2",
   "metadata": {},
   "source": [
    "#### Veganism"
   ]
  },
  {
   "cell_type": "code",
   "execution_count": 99,
   "id": "98b10dbe",
   "metadata": {},
   "outputs": [],
   "source": [
    "# Creating a crosstab comparing 'vegan_profile' and 'department_id', looking at row percentages\n",
    "\n",
    "vegan_department_cross = pd.crosstab(df_combined['vegan_profile'], df_combined['department_id'], normalize = 'index')   \n",
    "# normalize = 'index' gives row percentages"
   ]
  },
  {
   "cell_type": "code",
   "execution_count": 100,
   "id": "cd2daef9",
   "metadata": {},
   "outputs": [
    {
     "data": {
      "text/html": [
       "<div>\n",
       "<style scoped>\n",
       "    .dataframe tbody tr th:only-of-type {\n",
       "        vertical-align: middle;\n",
       "    }\n",
       "\n",
       "    .dataframe tbody tr th {\n",
       "        vertical-align: top;\n",
       "    }\n",
       "\n",
       "    .dataframe thead th {\n",
       "        text-align: right;\n",
       "    }\n",
       "</style>\n",
       "<table border=\"1\" class=\"dataframe\">\n",
       "  <thead>\n",
       "    <tr style=\"text-align: right;\">\n",
       "      <th>department_id</th>\n",
       "      <th>1</th>\n",
       "      <th>2</th>\n",
       "      <th>3</th>\n",
       "      <th>4</th>\n",
       "      <th>5</th>\n",
       "      <th>6</th>\n",
       "      <th>7</th>\n",
       "      <th>8</th>\n",
       "      <th>9</th>\n",
       "      <th>10</th>\n",
       "      <th>11</th>\n",
       "      <th>12</th>\n",
       "      <th>13</th>\n",
       "      <th>14</th>\n",
       "      <th>15</th>\n",
       "      <th>16</th>\n",
       "      <th>17</th>\n",
       "      <th>18</th>\n",
       "      <th>19</th>\n",
       "      <th>20</th>\n",
       "      <th>21</th>\n",
       "    </tr>\n",
       "    <tr>\n",
       "      <th>vegan_profile</th>\n",
       "      <th></th>\n",
       "      <th></th>\n",
       "      <th></th>\n",
       "      <th></th>\n",
       "      <th></th>\n",
       "      <th></th>\n",
       "      <th></th>\n",
       "      <th></th>\n",
       "      <th></th>\n",
       "      <th></th>\n",
       "      <th></th>\n",
       "      <th></th>\n",
       "      <th></th>\n",
       "      <th></th>\n",
       "      <th></th>\n",
       "      <th></th>\n",
       "      <th></th>\n",
       "      <th></th>\n",
       "      <th></th>\n",
       "      <th></th>\n",
       "      <th></th>\n",
       "    </tr>\n",
       "  </thead>\n",
       "  <tbody>\n",
       "    <tr>\n",
       "      <th>Non-vegan</th>\n",
       "      <td>0.069073</td>\n",
       "      <td>0.001104</td>\n",
       "      <td>0.036399</td>\n",
       "      <td>0.292392</td>\n",
       "      <td>0.004387</td>\n",
       "      <td>0.008358</td>\n",
       "      <td>0.081628</td>\n",
       "      <td>0.003010</td>\n",
       "      <td>0.026952</td>\n",
       "      <td>0.001059</td>\n",
       "      <td>0.013644</td>\n",
       "      <td>0.022139</td>\n",
       "      <td>0.058016</td>\n",
       "      <td>0.021700</td>\n",
       "      <td>0.033148</td>\n",
       "      <td>0.168598</td>\n",
       "      <td>0.022303</td>\n",
       "      <td>0.013163</td>\n",
       "      <td>0.088189</td>\n",
       "      <td>0.032604</td>\n",
       "      <td>0.002135</td>\n",
       "    </tr>\n",
       "    <tr>\n",
       "      <th>Vegan</th>\n",
       "      <td>0.059795</td>\n",
       "      <td>0.002470</td>\n",
       "      <td>0.017964</td>\n",
       "      <td>0.303800</td>\n",
       "      <td>0.034432</td>\n",
       "      <td>0.004222</td>\n",
       "      <td>0.193680</td>\n",
       "      <td>0.003484</td>\n",
       "      <td>0.009386</td>\n",
       "      <td>0.001750</td>\n",
       "      <td>0.027872</td>\n",
       "      <td>0.000000</td>\n",
       "      <td>0.045936</td>\n",
       "      <td>0.021263</td>\n",
       "      <td>0.017244</td>\n",
       "      <td>0.000000</td>\n",
       "      <td>0.063884</td>\n",
       "      <td>0.006045</td>\n",
       "      <td>0.165925</td>\n",
       "      <td>0.018809</td>\n",
       "      <td>0.002037</td>\n",
       "    </tr>\n",
       "  </tbody>\n",
       "</table>\n",
       "</div>"
      ],
      "text/plain": [
       "department_id        1         2         3         4         5         6   \\\n",
       "vegan_profile                                                               \n",
       "Non-vegan      0.069073  0.001104  0.036399  0.292392  0.004387  0.008358   \n",
       "Vegan          0.059795  0.002470  0.017964  0.303800  0.034432  0.004222   \n",
       "\n",
       "department_id        7         8         9         10        11        12  \\\n",
       "vegan_profile                                                               \n",
       "Non-vegan      0.081628  0.003010  0.026952  0.001059  0.013644  0.022139   \n",
       "Vegan          0.193680  0.003484  0.009386  0.001750  0.027872  0.000000   \n",
       "\n",
       "department_id        13        14        15        16        17        18  \\\n",
       "vegan_profile                                                               \n",
       "Non-vegan      0.058016  0.021700  0.033148  0.168598  0.022303  0.013163   \n",
       "Vegan          0.045936  0.021263  0.017244  0.000000  0.063884  0.006045   \n",
       "\n",
       "department_id        19        20        21  \n",
       "vegan_profile                                \n",
       "Non-vegan      0.088189  0.032604  0.002135  \n",
       "Vegan          0.165925  0.018809  0.002037  "
      ]
     },
     "execution_count": 100,
     "metadata": {},
     "output_type": "execute_result"
    }
   ],
   "source": [
    "vegan_department_cross"
   ]
  },
  {
   "cell_type": "markdown",
   "id": "156ace5b",
   "metadata": {},
   "source": [
    "There are differences here in nearly all departments. Vegans spend less on \"frozen\", \"bakery\", \"dry goods/pasta\", \"pantry\", \"canned goods\", \"deli\", and obviously, they don't buy meat and dairy. Vegans spend more money on \"produce\", \"alcohol\", \"beverages\", \"personal care\", \"household\" and \"snacks\"."
   ]
  },
  {
   "cell_type": "markdown",
   "id": "2f6deafb",
   "metadata": {},
   "source": [
    "#### Pet ownership"
   ]
  },
  {
   "cell_type": "code",
   "execution_count": 101,
   "id": "58fc49fd",
   "metadata": {},
   "outputs": [],
   "source": [
    "# Creating a crosstab comparing 'pet_profile' and 'department_id', looking at row percentages\n",
    "\n",
    "pet_department_cross = pd.crosstab(df_combined['pet_profile'], df_combined['department_id'], normalize = 'index')   \n",
    "# normalize = 'index' gives row percentages"
   ]
  },
  {
   "cell_type": "code",
   "execution_count": 102,
   "id": "0baf9696",
   "metadata": {},
   "outputs": [
    {
     "data": {
      "text/html": [
       "<div>\n",
       "<style scoped>\n",
       "    .dataframe tbody tr th:only-of-type {\n",
       "        vertical-align: middle;\n",
       "    }\n",
       "\n",
       "    .dataframe tbody tr th {\n",
       "        vertical-align: top;\n",
       "    }\n",
       "\n",
       "    .dataframe thead th {\n",
       "        text-align: right;\n",
       "    }\n",
       "</style>\n",
       "<table border=\"1\" class=\"dataframe\">\n",
       "  <thead>\n",
       "    <tr style=\"text-align: right;\">\n",
       "      <th>department_id</th>\n",
       "      <th>1</th>\n",
       "      <th>2</th>\n",
       "      <th>3</th>\n",
       "      <th>4</th>\n",
       "      <th>5</th>\n",
       "      <th>6</th>\n",
       "      <th>7</th>\n",
       "      <th>8</th>\n",
       "      <th>9</th>\n",
       "      <th>10</th>\n",
       "      <th>11</th>\n",
       "      <th>12</th>\n",
       "      <th>13</th>\n",
       "      <th>14</th>\n",
       "      <th>15</th>\n",
       "      <th>16</th>\n",
       "      <th>17</th>\n",
       "      <th>18</th>\n",
       "      <th>19</th>\n",
       "      <th>20</th>\n",
       "      <th>21</th>\n",
       "    </tr>\n",
       "    <tr>\n",
       "      <th>pet_profile</th>\n",
       "      <th></th>\n",
       "      <th></th>\n",
       "      <th></th>\n",
       "      <th></th>\n",
       "      <th></th>\n",
       "      <th></th>\n",
       "      <th></th>\n",
       "      <th></th>\n",
       "      <th></th>\n",
       "      <th></th>\n",
       "      <th></th>\n",
       "      <th></th>\n",
       "      <th></th>\n",
       "      <th></th>\n",
       "      <th></th>\n",
       "      <th></th>\n",
       "      <th></th>\n",
       "      <th></th>\n",
       "      <th></th>\n",
       "      <th></th>\n",
       "      <th></th>\n",
       "    </tr>\n",
       "  </thead>\n",
       "  <tbody>\n",
       "    <tr>\n",
       "      <th>No pet</th>\n",
       "      <td>0.067467</td>\n",
       "      <td>0.001073</td>\n",
       "      <td>0.035727</td>\n",
       "      <td>0.301132</td>\n",
       "      <td>0.004379</td>\n",
       "      <td>0.008229</td>\n",
       "      <td>0.081797</td>\n",
       "      <td>0.000000</td>\n",
       "      <td>0.026454</td>\n",
       "      <td>0.001123</td>\n",
       "      <td>0.012809</td>\n",
       "      <td>0.021731</td>\n",
       "      <td>0.057295</td>\n",
       "      <td>0.021716</td>\n",
       "      <td>0.032514</td>\n",
       "      <td>0.168440</td>\n",
       "      <td>0.020810</td>\n",
       "      <td>0.013420</td>\n",
       "      <td>0.089221</td>\n",
       "      <td>0.032534</td>\n",
       "      <td>0.002131</td>\n",
       "    </tr>\n",
       "    <tr>\n",
       "      <th>Pet owner</th>\n",
       "      <td>0.081209</td>\n",
       "      <td>0.001508</td>\n",
       "      <td>0.039890</td>\n",
       "      <td>0.222100</td>\n",
       "      <td>0.007724</td>\n",
       "      <td>0.008966</td>\n",
       "      <td>0.092426</td>\n",
       "      <td>0.027696</td>\n",
       "      <td>0.029118</td>\n",
       "      <td>0.000606</td>\n",
       "      <td>0.022023</td>\n",
       "      <td>0.023070</td>\n",
       "      <td>0.062607</td>\n",
       "      <td>0.021523</td>\n",
       "      <td>0.036612</td>\n",
       "      <td>0.151564</td>\n",
       "      <td>0.039044</td>\n",
       "      <td>0.010282</td>\n",
       "      <td>0.088190</td>\n",
       "      <td>0.031683</td>\n",
       "      <td>0.002160</td>\n",
       "    </tr>\n",
       "  </tbody>\n",
       "</table>\n",
       "</div>"
      ],
      "text/plain": [
       "department_id        1         2         3         4         5         6   \\\n",
       "pet_profile                                                                 \n",
       "No pet         0.067467  0.001073  0.035727  0.301132  0.004379  0.008229   \n",
       "Pet owner      0.081209  0.001508  0.039890  0.222100  0.007724  0.008966   \n",
       "\n",
       "department_id        7         8         9         10        11        12  \\\n",
       "pet_profile                                                                 \n",
       "No pet         0.081797  0.000000  0.026454  0.001123  0.012809  0.021731   \n",
       "Pet owner      0.092426  0.027696  0.029118  0.000606  0.022023  0.023070   \n",
       "\n",
       "department_id        13        14        15        16        17        18  \\\n",
       "pet_profile                                                                 \n",
       "No pet         0.057295  0.021716  0.032514  0.168440  0.020810  0.013420   \n",
       "Pet owner      0.062607  0.021523  0.036612  0.151564  0.039044  0.010282   \n",
       "\n",
       "department_id        19        20        21  \n",
       "pet_profile                                  \n",
       "No pet         0.089221  0.032534  0.002131  \n",
       "Pet owner      0.088190  0.031683  0.002160  "
      ]
     },
     "execution_count": 102,
     "metadata": {},
     "output_type": "execute_result"
    }
   ],
   "source": [
    "pet_department_cross"
   ]
  },
  {
   "cell_type": "markdown",
   "id": "c659fed9",
   "metadata": {},
   "source": [
    "{'1': {'department': 'frozen'},\n",
    " '2': {'department': 'other'},\n",
    " '3': {'department': 'bakery'},\n",
    " '4': {'department': 'produce'},\n",
    " '5': {'department': 'alcohol'},\n",
    " '6': {'department': 'international'},\n",
    " '7': {'department': 'beverages'},\n",
    " '8': {'department': 'pets'},\n",
    " '9': {'department': 'dry goods pasta'},\n",
    " '10': {'department': 'bulk'},\n",
    " '11': {'department': 'personal care'},\n",
    " '12': {'department': 'meat seafood'},\n",
    " '13': {'department': 'pantry'},\n",
    " '14': {'department': 'breakfast'},\n",
    " '15': {'department': 'canned goods'},\n",
    " '16': {'department': 'dairy eggs'},\n",
    " '17': {'department': 'household'},\n",
    " '18': {'department': 'babies'},\n",
    " '19': {'department': 'snacks'},\n",
    " '20': {'department': 'deli'},\n",
    " '21': {'department': 'missing'}}\n",
    "\n",
    "There are differences in the following departments: Pet owners spend more on \"frozen\", \"beverages\", of course \"pets\", \"personal care\", \"pantry\", and \"household\". They spend less on \"produce\", and \"dairy/eggs\"."
   ]
  },
  {
   "cell_type": "markdown",
   "id": "2c4b3c5b",
   "metadata": {},
   "source": [
    "#### Family status"
   ]
  },
  {
   "cell_type": "code",
   "execution_count": 103,
   "id": "c5ca09a7",
   "metadata": {},
   "outputs": [],
   "source": [
    "# Creating a crosstab comparing 'family_profile' and 'department_id', looking at row percentages\n",
    "\n",
    "family_department_cross = pd.crosstab(df_combined['family_profile'], df_combined['department_id'], normalize = 'index')   \n",
    "# normalize = 'index' gives row percentages"
   ]
  },
  {
   "cell_type": "code",
   "execution_count": 104,
   "id": "dbe55f36",
   "metadata": {},
   "outputs": [
    {
     "data": {
      "text/html": [
       "<div>\n",
       "<style scoped>\n",
       "    .dataframe tbody tr th:only-of-type {\n",
       "        vertical-align: middle;\n",
       "    }\n",
       "\n",
       "    .dataframe tbody tr th {\n",
       "        vertical-align: top;\n",
       "    }\n",
       "\n",
       "    .dataframe thead th {\n",
       "        text-align: right;\n",
       "    }\n",
       "</style>\n",
       "<table border=\"1\" class=\"dataframe\">\n",
       "  <thead>\n",
       "    <tr style=\"text-align: right;\">\n",
       "      <th>department_id</th>\n",
       "      <th>1</th>\n",
       "      <th>2</th>\n",
       "      <th>3</th>\n",
       "      <th>4</th>\n",
       "      <th>5</th>\n",
       "      <th>6</th>\n",
       "      <th>7</th>\n",
       "      <th>8</th>\n",
       "      <th>9</th>\n",
       "      <th>10</th>\n",
       "      <th>11</th>\n",
       "      <th>12</th>\n",
       "      <th>13</th>\n",
       "      <th>14</th>\n",
       "      <th>15</th>\n",
       "      <th>16</th>\n",
       "      <th>17</th>\n",
       "      <th>18</th>\n",
       "      <th>19</th>\n",
       "      <th>20</th>\n",
       "      <th>21</th>\n",
       "    </tr>\n",
       "    <tr>\n",
       "      <th>family_profile</th>\n",
       "      <th></th>\n",
       "      <th></th>\n",
       "      <th></th>\n",
       "      <th></th>\n",
       "      <th></th>\n",
       "      <th></th>\n",
       "      <th></th>\n",
       "      <th></th>\n",
       "      <th></th>\n",
       "      <th></th>\n",
       "      <th></th>\n",
       "      <th></th>\n",
       "      <th></th>\n",
       "      <th></th>\n",
       "      <th></th>\n",
       "      <th></th>\n",
       "      <th></th>\n",
       "      <th></th>\n",
       "      <th></th>\n",
       "      <th></th>\n",
       "      <th></th>\n",
       "    </tr>\n",
       "  </thead>\n",
       "  <tbody>\n",
       "    <tr>\n",
       "      <th>Married no children</th>\n",
       "      <td>0.068501</td>\n",
       "      <td>0.001134</td>\n",
       "      <td>0.036290</td>\n",
       "      <td>0.292094</td>\n",
       "      <td>0.004674</td>\n",
       "      <td>0.008405</td>\n",
       "      <td>0.082844</td>\n",
       "      <td>0.002980</td>\n",
       "      <td>0.026714</td>\n",
       "      <td>0.001107</td>\n",
       "      <td>0.013833</td>\n",
       "      <td>0.022041</td>\n",
       "      <td>0.058145</td>\n",
       "      <td>0.021909</td>\n",
       "      <td>0.033025</td>\n",
       "      <td>0.167336</td>\n",
       "      <td>0.022995</td>\n",
       "      <td>0.012703</td>\n",
       "      <td>0.089014</td>\n",
       "      <td>0.032144</td>\n",
       "      <td>0.002111</td>\n",
       "    </tr>\n",
       "    <tr>\n",
       "      <th>Married with children</th>\n",
       "      <td>0.069171</td>\n",
       "      <td>0.001094</td>\n",
       "      <td>0.036029</td>\n",
       "      <td>0.292561</td>\n",
       "      <td>0.004629</td>\n",
       "      <td>0.008221</td>\n",
       "      <td>0.083094</td>\n",
       "      <td>0.002960</td>\n",
       "      <td>0.026828</td>\n",
       "      <td>0.001070</td>\n",
       "      <td>0.013798</td>\n",
       "      <td>0.021994</td>\n",
       "      <td>0.057826</td>\n",
       "      <td>0.021590</td>\n",
       "      <td>0.033057</td>\n",
       "      <td>0.166058</td>\n",
       "      <td>0.022954</td>\n",
       "      <td>0.013235</td>\n",
       "      <td>0.089272</td>\n",
       "      <td>0.032420</td>\n",
       "      <td>0.002140</td>\n",
       "    </tr>\n",
       "    <tr>\n",
       "      <th>Single no children</th>\n",
       "      <td>0.068806</td>\n",
       "      <td>0.001133</td>\n",
       "      <td>0.036358</td>\n",
       "      <td>0.293355</td>\n",
       "      <td>0.004831</td>\n",
       "      <td>0.008362</td>\n",
       "      <td>0.083290</td>\n",
       "      <td>0.003036</td>\n",
       "      <td>0.026584</td>\n",
       "      <td>0.001022</td>\n",
       "      <td>0.013832</td>\n",
       "      <td>0.021498</td>\n",
       "      <td>0.057642</td>\n",
       "      <td>0.021559</td>\n",
       "      <td>0.032706</td>\n",
       "      <td>0.166639</td>\n",
       "      <td>0.022325</td>\n",
       "      <td>0.013151</td>\n",
       "      <td>0.089015</td>\n",
       "      <td>0.032744</td>\n",
       "      <td>0.002110</td>\n",
       "    </tr>\n",
       "    <tr>\n",
       "      <th>Single with children/dependants</th>\n",
       "      <td>0.069994</td>\n",
       "      <td>0.001232</td>\n",
       "      <td>0.036207</td>\n",
       "      <td>0.289970</td>\n",
       "      <td>0.005737</td>\n",
       "      <td>0.008432</td>\n",
       "      <td>0.080375</td>\n",
       "      <td>0.003624</td>\n",
       "      <td>0.026894</td>\n",
       "      <td>0.001080</td>\n",
       "      <td>0.013744</td>\n",
       "      <td>0.021915</td>\n",
       "      <td>0.058217</td>\n",
       "      <td>0.022398</td>\n",
       "      <td>0.033013</td>\n",
       "      <td>0.168184</td>\n",
       "      <td>0.022718</td>\n",
       "      <td>0.012992</td>\n",
       "      <td>0.088458</td>\n",
       "      <td>0.032513</td>\n",
       "      <td>0.002303</td>\n",
       "    </tr>\n",
       "  </tbody>\n",
       "</table>\n",
       "</div>"
      ],
      "text/plain": [
       "department_id                          1         2         3         4   \\\n",
       "family_profile                                                            \n",
       "Married no children              0.068501  0.001134  0.036290  0.292094   \n",
       "Married with children            0.069171  0.001094  0.036029  0.292561   \n",
       "Single no children               0.068806  0.001133  0.036358  0.293355   \n",
       "Single with children/dependants  0.069994  0.001232  0.036207  0.289970   \n",
       "\n",
       "department_id                          5         6         7         8   \\\n",
       "family_profile                                                            \n",
       "Married no children              0.004674  0.008405  0.082844  0.002980   \n",
       "Married with children            0.004629  0.008221  0.083094  0.002960   \n",
       "Single no children               0.004831  0.008362  0.083290  0.003036   \n",
       "Single with children/dependants  0.005737  0.008432  0.080375  0.003624   \n",
       "\n",
       "department_id                          9         10        11        12  \\\n",
       "family_profile                                                            \n",
       "Married no children              0.026714  0.001107  0.013833  0.022041   \n",
       "Married with children            0.026828  0.001070  0.013798  0.021994   \n",
       "Single no children               0.026584  0.001022  0.013832  0.021498   \n",
       "Single with children/dependants  0.026894  0.001080  0.013744  0.021915   \n",
       "\n",
       "department_id                          13        14        15        16  \\\n",
       "family_profile                                                            \n",
       "Married no children              0.058145  0.021909  0.033025  0.167336   \n",
       "Married with children            0.057826  0.021590  0.033057  0.166058   \n",
       "Single no children               0.057642  0.021559  0.032706  0.166639   \n",
       "Single with children/dependants  0.058217  0.022398  0.033013  0.168184   \n",
       "\n",
       "department_id                          17        18        19        20  \\\n",
       "family_profile                                                            \n",
       "Married no children              0.022995  0.012703  0.089014  0.032144   \n",
       "Married with children            0.022954  0.013235  0.089272  0.032420   \n",
       "Single no children               0.022325  0.013151  0.089015  0.032744   \n",
       "Single with children/dependants  0.022718  0.012992  0.088458  0.032513   \n",
       "\n",
       "department_id                          21  \n",
       "family_profile                             \n",
       "Married no children              0.002111  \n",
       "Married with children            0.002140  \n",
       "Single no children               0.002110  \n",
       "Single with children/dependants  0.002303  "
      ]
     },
     "execution_count": 104,
     "metadata": {},
     "output_type": "execute_result"
    }
   ],
   "source": [
    "family_department_cross"
   ]
  },
  {
   "cell_type": "markdown",
   "id": "a94cdc79",
   "metadata": {},
   "source": [
    "Different family_profile groups buy produce from different departments at similar rates except for \"alcohol\"(5) and \"pet items\" (8), where singles with children/dependants have higher spendings. "
   ]
  },
  {
   "cell_type": "markdown",
   "id": "e7f36f44",
   "metadata": {},
   "source": [
    "## Step 9: Produce suitable charts to illustrate your results and export them in your project folder."
   ]
  },
  {
   "cell_type": "markdown",
   "id": "dc603620",
   "metadata": {},
   "source": [
    "### Visualizations for Profiles by Region"
   ]
  },
  {
   "cell_type": "markdown",
   "id": "da2dbc40",
   "metadata": {},
   "source": [
    "#### Age"
   ]
  },
  {
   "cell_type": "code",
   "execution_count": 107,
   "id": "3af42268",
   "metadata": {},
   "outputs": [
    {
     "data": {
      "image/png": "[encoded data removed]",
      "text/plain": [
       "<Figure size 640x480 with 1 Axes>"
      ]
     },
     "metadata": {},
     "output_type": "display_data"
    }
   ],
   "source": [
    "# age_profile by region\n",
    "\n",
    "age_region_bar = age_region_cross.plot.bar()"
   ]
  },
  {
   "cell_type": "code",
   "execution_count": 108,
   "id": "fdaa6f1b",
   "metadata": {},
   "outputs": [],
   "source": [
    "# Exporting viz\n",
    "\n",
    "age_region_bar.figure.savefig(os.path.join(path, '04 Analysis', 'Visualizations', 'age_region_bar.png'))"
   ]
  },
  {
   "cell_type": "markdown",
   "id": "31127947",
   "metadata": {},
   "source": [
    "#### Income"
   ]
  },
  {
   "cell_type": "code",
   "execution_count": 109,
   "id": "640fc163",
   "metadata": {},
   "outputs": [
    {
     "data": {
      "image/png": "[encoded data removed]",
      "text/plain": [
       "<Figure size 640x480 with 1 Axes>"
      ]
     },
     "metadata": {},
     "output_type": "display_data"
    }
   ],
   "source": [
    "# income_profile by region\n",
    "\n",
    "income_region_bar = income_region_cross.plot.bar()"
   ]
  },
  {
   "cell_type": "code",
   "execution_count": 110,
   "id": "fd062cd8",
   "metadata": {},
   "outputs": [],
   "source": [
    "# Exporting viz\n",
    "\n",
    "income_region_bar.figure.savefig(os.path.join(path, '04 Analysis', 'Visualizations', 'income_region_bar.png'))"
   ]
  },
  {
   "cell_type": "markdown",
   "id": "1b883680",
   "metadata": {},
   "source": [
    "#### Veganism"
   ]
  },
  {
   "cell_type": "code",
   "execution_count": 112,
   "id": "66483bfd",
   "metadata": {},
   "outputs": [
    {
     "data": {
      "image/png": "[encoded data removed]",
      "text/plain": [
       "<Figure size 640x480 with 1 Axes>"
      ]
     },
     "metadata": {},
     "output_type": "display_data"
    }
   ],
   "source": [
    "# vegan_profile by region\n",
    "\n",
    "vegan_region_bar = vegan_region_cross.plot.bar()"
   ]
  },
  {
   "cell_type": "code",
   "execution_count": 113,
   "id": "a9944fc2",
   "metadata": {},
   "outputs": [],
   "source": [
    "# Exporting viz\n",
    "\n",
    "vegan_region_bar.figure.savefig(os.path.join(path, '04 Analysis', 'Visualizations', 'vegan_region_bar.png'))"
   ]
  },
  {
   "cell_type": "markdown",
   "id": "5697b40c",
   "metadata": {},
   "source": [
    "#### Pet ownership"
   ]
  },
  {
   "cell_type": "code",
   "execution_count": 114,
   "id": "8f5b8c0b",
   "metadata": {},
   "outputs": [
    {
     "data": {
      "image/png": "[encoded data removed]",
      "text/plain": [
       "<Figure size 640x480 with 1 Axes>"
      ]
     },
     "metadata": {},
     "output_type": "display_data"
    }
   ],
   "source": [
    "# vegan_profile by region\n",
    "\n",
    "pet_region_bar = pet_region_cross.plot.bar()"
   ]
  },
  {
   "cell_type": "code",
   "execution_count": 115,
   "id": "dc576c0b",
   "metadata": {},
   "outputs": [],
   "source": [
    "# Exporting viz\n",
    "\n",
    "pet_region_bar.figure.savefig(os.path.join(path, '04 Analysis', 'Visualizations', 'pet_region_bar.png'))"
   ]
  },
  {
   "cell_type": "markdown",
   "id": "955177b9",
   "metadata": {},
   "source": [
    "#### Family status"
   ]
  },
  {
   "cell_type": "code",
   "execution_count": 116,
   "id": "bf6c1741",
   "metadata": {},
   "outputs": [
    {
     "data": {
      "image/png": "[encoded data removed]",
      "text/plain": [
       "<Figure size 640x480 with 1 Axes>"
      ]
     },
     "metadata": {},
     "output_type": "display_data"
    }
   ],
   "source": [
    "# family_profile by region\n",
    "\n",
    "family_region_bar = family_region_cross.plot.bar()"
   ]
  },
  {
   "cell_type": "code",
   "execution_count": 117,
   "id": "9aa74b64",
   "metadata": {},
   "outputs": [],
   "source": [
    "# Exporting viz\n",
    "\n",
    "family_region_bar.figure.savefig(os.path.join(path, '04 Analysis', 'Visualizations', 'family_region_bar.png'))"
   ]
  },
  {
   "cell_type": "markdown",
   "id": "17d13d62",
   "metadata": {},
   "source": [
    "### Visualizations for Profiles by Department"
   ]
  },
  {
   "cell_type": "markdown",
   "id": "0f89d163",
   "metadata": {},
   "source": [
    "#### Age"
   ]
  },
  {
   "cell_type": "code",
   "execution_count": 118,
   "id": "b20b222e",
   "metadata": {},
   "outputs": [],
   "source": [
    "# Creating a new crosstab so that the departments are on the x-axis\n",
    "\n",
    "age_department_cros = pd.crosstab(df_combined['department_id'], df_combined['age_profile'])"
   ]
  },
  {
   "cell_type": "code",
   "execution_count": 119,
   "id": "2b356abb",
   "metadata": {},
   "outputs": [
    {
     "data": {
      "image/png": "[encoded data removed]",
      "text/plain": [
       "<Figure size 640x480 with 1 Axes>"
      ]
     },
     "metadata": {},
     "output_type": "display_data"
    }
   ],
   "source": [
    "# Creating a stacked bar plot of the new crosstab\n",
    "\n",
    "age_department_bar = age_department_cros.plot.bar(stacked = True)"
   ]
  },
  {
   "cell_type": "code",
   "execution_count": 120,
   "id": "1d136574",
   "metadata": {},
   "outputs": [],
   "source": [
    "# Exporting the viz\n",
    "\n",
    "age_department_bar.figure.savefig(os.path.join(path, '04 Analysis', 'Visualizations', 'age_department_bar.png'))"
   ]
  },
  {
   "cell_type": "markdown",
   "id": "f8e2170e",
   "metadata": {},
   "source": [
    "#### Income"
   ]
  },
  {
   "cell_type": "code",
   "execution_count": 95,
   "id": "c37d4947",
   "metadata": {},
   "outputs": [],
   "source": [
    "# Creating a new crosstab so that the departments are on the x-axis\n",
    "\n",
    "income_department_cros = pd.crosstab(df_combined['department_id'], df_combined['income_profile'])"
   ]
  },
  {
   "cell_type": "code",
   "execution_count": 96,
   "id": "f2f4eb58",
   "metadata": {},
   "outputs": [
    {
     "data": {
      "image/png": "[encoded data removed]",
      "text/plain": [
       "<Figure size 640x480 with 1 Axes>"
      ]
     },
     "metadata": {},
     "output_type": "display_data"
    }
   ],
   "source": [
    "# Creating a stacked bar plot of the new crosstab\n",
    "\n",
    "income_department_bar = income_department_cros.plot.bar(stacked = True)"
   ]
  },
  {
   "cell_type": "code",
   "execution_count": 123,
   "id": "66521330",
   "metadata": {},
   "outputs": [],
   "source": [
    "# Exporting the viz\n",
    "\n",
    "income_department_bar.figure.savefig(os.path.join(path, '04 Analysis', 'Visualizations', 'income_department_bar.png'))"
   ]
  },
  {
   "cell_type": "markdown",
   "id": "6f6c429d",
   "metadata": {},
   "source": [
    "#### Veganism"
   ]
  },
  {
   "cell_type": "code",
   "execution_count": 88,
   "id": "3d1c9985",
   "metadata": {},
   "outputs": [],
   "source": [
    "# Creating a new crosstab so that the departments are on the x-axis\n",
    "\n",
    "vegan_department_cros = pd.crosstab(df_combined['department_id'], df_combined['vegan_profile'], )"
   ]
  },
  {
   "cell_type": "code",
   "execution_count": 89,
   "id": "6fca0649",
   "metadata": {},
   "outputs": [
    {
     "data": {
      "image/png": "[encoded data removed]",
      "text/plain": [
       "<Figure size 640x480 with 1 Axes>"
      ]
     },
     "metadata": {},
     "output_type": "display_data"
    }
   ],
   "source": [
    "# Creating a stacked bar plot of the new crosstab\n",
    "\n",
    "vegan_department_bar = vegan_department_cros.plot.bar()"
   ]
  },
  {
   "cell_type": "code",
   "execution_count": 87,
   "id": "718ade72",
   "metadata": {},
   "outputs": [],
   "source": [
    "# Exporting the viz\n",
    "\n",
    "vegan_department_bar.figure.savefig(os.path.join(path, '04 Analysis', 'Visualizations', 'vegan_department_bar.png'))"
   ]
  },
  {
   "cell_type": "markdown",
   "id": "f65ccfa3",
   "metadata": {},
   "source": [
    "#### Pet Ownership"
   ]
  },
  {
   "cell_type": "code",
   "execution_count": 90,
   "id": "f4737b71",
   "metadata": {},
   "outputs": [],
   "source": [
    "# Creating a new crosstab so that the departments are on the x-axis\n",
    "\n",
    "pet_department_cros = pd.crosstab(df_combined['department_id'], df_combined['pet_profile'], normalize = 'index')"
   ]
  },
  {
   "cell_type": "code",
   "execution_count": 91,
   "id": "a3fc9059",
   "metadata": {},
   "outputs": [
    {
     "data": {
      "image/png": "[encoded data removed]",
      "text/plain": [
       "<Figure size 640x480 with 1 Axes>"
      ]
     },
     "metadata": {},
     "output_type": "display_data"
    }
   ],
   "source": [
    "# Creating a stacked bar plot of the new crosstab\n",
    "\n",
    "pet_department_bar = pet_department_cros.plot.bar()"
   ]
  },
  {
   "cell_type": "code",
   "execution_count": 92,
   "id": "7f9b8afd",
   "metadata": {},
   "outputs": [],
   "source": [
    "# Exporting the viz\n",
    "\n",
    "pet_department_bar.figure.savefig(os.path.join(path, '04 Analysis', 'Visualizations', 'pet_department_bar.png'))"
   ]
  },
  {
   "cell_type": "markdown",
   "id": "f60de500",
   "metadata": {},
   "source": [
    "#### Family Status"
   ]
  },
  {
   "cell_type": "code",
   "execution_count": 129,
   "id": "cd4ed5ee",
   "metadata": {},
   "outputs": [],
   "source": [
    "# Creating a new crosstab so that the departments are on the x-axis\n",
    "\n",
    "family_department_cros = pd.crosstab(df_combined['department_id'], df_combined['family_profile'])"
   ]
  },
  {
   "cell_type": "code",
   "execution_count": 130,
   "id": "9e045c57",
   "metadata": {},
   "outputs": [
    {
     "data": {
      "image/png": "[encoded data removed]",
      "text/plain": [
       "<Figure size 640x480 with 1 Axes>"
      ]
     },
     "metadata": {},
     "output_type": "display_data"
    }
   ],
   "source": [
    "# Creating a stacked bar plot of the new crosstab\n",
    "\n",
    "family_department_bar = family_department_cros.plot.bar(stacked = True)"
   ]
  },
  {
   "cell_type": "code",
   "execution_count": 131,
   "id": "8975b027",
   "metadata": {},
   "outputs": [],
   "source": [
    "# Exporting the viz\n",
    "\n",
    "family_department_bar.figure.savefig(os.path.join(path, '04 Analysis', 'Visualizations', 'family_department_bar.png'))"
   ]
  },
  {
   "cell_type": "markdown",
   "id": "1c4eb454",
   "metadata": {},
   "source": [
    "## Step 10: Exporting the data file"
   ]
  },
  {
   "cell_type": "code",
   "execution_count": 99,
   "id": "819b900f",
   "metadata": {},
   "outputs": [],
   "source": [
    "# Exporting final data set  \n",
    "\n",
    "df_combined.to_pickle(os.path.join(path, '02 Data', 'Prepared Data', 'all_combined_final.pkl'))"
   ]
  },
  {
   "cell_type": "markdown",
   "id": "8dc35d88",
   "metadata": {},
   "source": [
    "## Further analysis to answer other project questions"
   ]
  },
  {
   "cell_type": "markdown",
   "id": "45103ffc",
   "metadata": {},
   "source": [
    "### Question: Are there differences in ordering habits based on a customer’s loyalty status?"
   ]
  },
  {
   "cell_type": "code",
   "execution_count": 7,
   "id": "f6c280a5",
   "metadata": {},
   "outputs": [],
   "source": [
    "# Creating a crosstab comparing 'loyalty_flag' and 'department_id', looking at row percentages\n",
    "\n",
    "loyalty_department_cross = pd.crosstab(df_combined['department_id'], df_combined['loyalty_flag'], normalize = 'index')  "
   ]
  },
  {
   "cell_type": "code",
   "execution_count": 8,
   "id": "d5956b82",
   "metadata": {},
   "outputs": [
    {
     "data": {
      "text/html": [
       "<div>\n",
       "<style scoped>\n",
       "    .dataframe tbody tr th:only-of-type {\n",
       "        vertical-align: middle;\n",
       "    }\n",
       "\n",
       "    .dataframe tbody tr th {\n",
       "        vertical-align: top;\n",
       "    }\n",
       "\n",
       "    .dataframe thead th {\n",
       "        text-align: right;\n",
       "    }\n",
       "</style>\n",
       "<table border=\"1\" class=\"dataframe\">\n",
       "  <thead>\n",
       "    <tr style=\"text-align: right;\">\n",
       "      <th>loyalty_flag</th>\n",
       "      <th>Loyal customer</th>\n",
       "      <th>New customer</th>\n",
       "      <th>Regular customer</th>\n",
       "    </tr>\n",
       "    <tr>\n",
       "      <th>department_id</th>\n",
       "      <th></th>\n",
       "      <th></th>\n",
       "      <th></th>\n",
       "    </tr>\n",
       "  </thead>\n",
       "  <tbody>\n",
       "    <tr>\n",
       "      <th>1</th>\n",
       "      <td>0.272720</td>\n",
       "      <td>0.217154</td>\n",
       "      <td>0.510126</td>\n",
       "    </tr>\n",
       "    <tr>\n",
       "      <th>2</th>\n",
       "      <td>0.295252</td>\n",
       "      <td>0.212697</td>\n",
       "      <td>0.492050</td>\n",
       "    </tr>\n",
       "    <tr>\n",
       "      <th>3</th>\n",
       "      <td>0.324005</td>\n",
       "      <td>0.190804</td>\n",
       "      <td>0.485191</td>\n",
       "    </tr>\n",
       "    <tr>\n",
       "      <th>4</th>\n",
       "      <td>0.332027</td>\n",
       "      <td>0.183202</td>\n",
       "      <td>0.484772</td>\n",
       "    </tr>\n",
       "    <tr>\n",
       "      <th>5</th>\n",
       "      <td>0.251945</td>\n",
       "      <td>0.245276</td>\n",
       "      <td>0.502778</td>\n",
       "    </tr>\n",
       "    <tr>\n",
       "      <th>6</th>\n",
       "      <td>0.291154</td>\n",
       "      <td>0.212079</td>\n",
       "      <td>0.496767</td>\n",
       "    </tr>\n",
       "    <tr>\n",
       "      <th>7</th>\n",
       "      <td>0.318072</td>\n",
       "      <td>0.190791</td>\n",
       "      <td>0.491136</td>\n",
       "    </tr>\n",
       "    <tr>\n",
       "      <th>8</th>\n",
       "      <td>0.260643</td>\n",
       "      <td>0.210160</td>\n",
       "      <td>0.529197</td>\n",
       "    </tr>\n",
       "    <tr>\n",
       "      <th>9</th>\n",
       "      <td>0.279913</td>\n",
       "      <td>0.218464</td>\n",
       "      <td>0.501623</td>\n",
       "    </tr>\n",
       "    <tr>\n",
       "      <th>10</th>\n",
       "      <td>0.400139</td>\n",
       "      <td>0.152460</td>\n",
       "      <td>0.447401</td>\n",
       "    </tr>\n",
       "    <tr>\n",
       "      <th>11</th>\n",
       "      <td>0.275632</td>\n",
       "      <td>0.220541</td>\n",
       "      <td>0.503827</td>\n",
       "    </tr>\n",
       "    <tr>\n",
       "      <th>12</th>\n",
       "      <td>0.285615</td>\n",
       "      <td>0.206805</td>\n",
       "      <td>0.507580</td>\n",
       "    </tr>\n",
       "    <tr>\n",
       "      <th>13</th>\n",
       "      <td>0.298822</td>\n",
       "      <td>0.209154</td>\n",
       "      <td>0.492024</td>\n",
       "    </tr>\n",
       "    <tr>\n",
       "      <th>14</th>\n",
       "      <td>0.315173</td>\n",
       "      <td>0.196807</td>\n",
       "      <td>0.488020</td>\n",
       "    </tr>\n",
       "    <tr>\n",
       "      <th>15</th>\n",
       "      <td>0.275822</td>\n",
       "      <td>0.221130</td>\n",
       "      <td>0.503048</td>\n",
       "    </tr>\n",
       "    <tr>\n",
       "      <th>16</th>\n",
       "      <td>0.339098</td>\n",
       "      <td>0.179972</td>\n",
       "      <td>0.480930</td>\n",
       "    </tr>\n",
       "    <tr>\n",
       "      <th>17</th>\n",
       "      <td>0.266525</td>\n",
       "      <td>0.225983</td>\n",
       "      <td>0.507492</td>\n",
       "    </tr>\n",
       "    <tr>\n",
       "      <th>18</th>\n",
       "      <td>0.394307</td>\n",
       "      <td>0.141854</td>\n",
       "      <td>0.463839</td>\n",
       "    </tr>\n",
       "    <tr>\n",
       "      <th>19</th>\n",
       "      <td>0.326626</td>\n",
       "      <td>0.185019</td>\n",
       "      <td>0.488355</td>\n",
       "    </tr>\n",
       "    <tr>\n",
       "      <th>20</th>\n",
       "      <td>0.308249</td>\n",
       "      <td>0.195720</td>\n",
       "      <td>0.496032</td>\n",
       "    </tr>\n",
       "    <tr>\n",
       "      <th>21</th>\n",
       "      <td>0.265384</td>\n",
       "      <td>0.247162</td>\n",
       "      <td>0.487454</td>\n",
       "    </tr>\n",
       "  </tbody>\n",
       "</table>\n",
       "</div>"
      ],
      "text/plain": [
       "loyalty_flag   Loyal customer  New customer  Regular customer\n",
       "department_id                                                \n",
       "1                    0.272720      0.217154          0.510126\n",
       "2                    0.295252      0.212697          0.492050\n",
       "3                    0.324005      0.190804          0.485191\n",
       "4                    0.332027      0.183202          0.484772\n",
       "5                    0.251945      0.245276          0.502778\n",
       "6                    0.291154      0.212079          0.496767\n",
       "7                    0.318072      0.190791          0.491136\n",
       "8                    0.260643      0.210160          0.529197\n",
       "9                    0.279913      0.218464          0.501623\n",
       "10                   0.400139      0.152460          0.447401\n",
       "11                   0.275632      0.220541          0.503827\n",
       "12                   0.285615      0.206805          0.507580\n",
       "13                   0.298822      0.209154          0.492024\n",
       "14                   0.315173      0.196807          0.488020\n",
       "15                   0.275822      0.221130          0.503048\n",
       "16                   0.339098      0.179972          0.480930\n",
       "17                   0.266525      0.225983          0.507492\n",
       "18                   0.394307      0.141854          0.463839\n",
       "19                   0.326626      0.185019          0.488355\n",
       "20                   0.308249      0.195720          0.496032\n",
       "21                   0.265384      0.247162          0.487454"
      ]
     },
     "execution_count": 8,
     "metadata": {},
     "output_type": "execute_result"
    }
   ],
   "source": [
    "loyalty_department_cross"
   ]
  },
  {
   "cell_type": "code",
   "execution_count": 11,
   "id": "8245ca52",
   "metadata": {},
   "outputs": [
    {
     "data": {
      "image/png": "[encoded data removed]",
      "text/plain": [
       "<Figure size 640x480 with 1 Axes>"
      ]
     },
     "metadata": {},
     "output_type": "display_data"
    }
   ],
   "source": [
    "# Creating a stacked bar chart\n",
    "\n",
    "loyalty_department_bar = loyalty_department_cross.plot.bar(stacked = True)"
   ]
  },
  {
   "cell_type": "code",
   "execution_count": 12,
   "id": "47843e90",
   "metadata": {},
   "outputs": [],
   "source": [
    "# Exporting the viz\n",
    "\n",
    "loyalty_department_bar.figure.savefig(os.path.join(path, '04 Analysis', 'Visualizations', 'loyalty_department_bar.png'))"
   ]
  },
  {
   "cell_type": "markdown",
   "id": "0cad0b1a",
   "metadata": {},
   "source": [
    "### Question: Are there differences in ordering habits based on a customer’s region?\t\t\t\t\t\t\t\t\t\t\t\t\t"
   ]
  },
  {
   "cell_type": "code",
   "execution_count": 22,
   "id": "e8252b0c",
   "metadata": {},
   "outputs": [],
   "source": [
    "# Creating a crosstab comparing 'region' and 'department_id', looking at row percentages\n",
    "\n",
    "region_department_cross = pd.crosstab(df_combined['department_id'], df_combined['region'], normalize = 'index')  "
   ]
  },
  {
   "cell_type": "code",
   "execution_count": 23,
   "id": "f4b5793b",
   "metadata": {},
   "outputs": [
    {
     "data": {
      "text/html": [
       "<div>\n",
       "<style scoped>\n",
       "    .dataframe tbody tr th:only-of-type {\n",
       "        vertical-align: middle;\n",
       "    }\n",
       "\n",
       "    .dataframe tbody tr th {\n",
       "        vertical-align: top;\n",
       "    }\n",
       "\n",
       "    .dataframe thead th {\n",
       "        text-align: right;\n",
       "    }\n",
       "</style>\n",
       "<table border=\"1\" class=\"dataframe\">\n",
       "  <thead>\n",
       "    <tr style=\"text-align: right;\">\n",
       "      <th>region</th>\n",
       "      <th>Midwest</th>\n",
       "      <th>Northeast</th>\n",
       "      <th>South</th>\n",
       "      <th>West</th>\n",
       "    </tr>\n",
       "    <tr>\n",
       "      <th>department_id</th>\n",
       "      <th></th>\n",
       "      <th></th>\n",
       "      <th></th>\n",
       "      <th></th>\n",
       "    </tr>\n",
       "  </thead>\n",
       "  <tbody>\n",
       "    <tr>\n",
       "      <th>1</th>\n",
       "      <td>0.234522</td>\n",
       "      <td>0.174927</td>\n",
       "      <td>0.334669</td>\n",
       "      <td>0.255881</td>\n",
       "    </tr>\n",
       "    <tr>\n",
       "      <th>2</th>\n",
       "      <td>0.232013</td>\n",
       "      <td>0.181450</td>\n",
       "      <td>0.336502</td>\n",
       "      <td>0.250034</td>\n",
       "    </tr>\n",
       "    <tr>\n",
       "      <th>3</th>\n",
       "      <td>0.233591</td>\n",
       "      <td>0.177921</td>\n",
       "      <td>0.331632</td>\n",
       "      <td>0.256856</td>\n",
       "    </tr>\n",
       "    <tr>\n",
       "      <th>4</th>\n",
       "      <td>0.235032</td>\n",
       "      <td>0.175735</td>\n",
       "      <td>0.333416</td>\n",
       "      <td>0.255817</td>\n",
       "    </tr>\n",
       "    <tr>\n",
       "      <th>5</th>\n",
       "      <td>0.235439</td>\n",
       "      <td>0.172692</td>\n",
       "      <td>0.335884</td>\n",
       "      <td>0.255986</td>\n",
       "    </tr>\n",
       "    <tr>\n",
       "      <th>6</th>\n",
       "      <td>0.236714</td>\n",
       "      <td>0.174152</td>\n",
       "      <td>0.331072</td>\n",
       "      <td>0.258062</td>\n",
       "    </tr>\n",
       "    <tr>\n",
       "      <th>7</th>\n",
       "      <td>0.232718</td>\n",
       "      <td>0.179835</td>\n",
       "      <td>0.334412</td>\n",
       "      <td>0.253036</td>\n",
       "    </tr>\n",
       "    <tr>\n",
       "      <th>8</th>\n",
       "      <td>0.228775</td>\n",
       "      <td>0.190358</td>\n",
       "      <td>0.319999</td>\n",
       "      <td>0.260868</td>\n",
       "    </tr>\n",
       "    <tr>\n",
       "      <th>9</th>\n",
       "      <td>0.235129</td>\n",
       "      <td>0.175180</td>\n",
       "      <td>0.331681</td>\n",
       "      <td>0.258010</td>\n",
       "    </tr>\n",
       "    <tr>\n",
       "      <th>10</th>\n",
       "      <td>0.236977</td>\n",
       "      <td>0.167819</td>\n",
       "      <td>0.333584</td>\n",
       "      <td>0.261620</td>\n",
       "    </tr>\n",
       "    <tr>\n",
       "      <th>11</th>\n",
       "      <td>0.236273</td>\n",
       "      <td>0.176095</td>\n",
       "      <td>0.335924</td>\n",
       "      <td>0.251709</td>\n",
       "    </tr>\n",
       "    <tr>\n",
       "      <th>12</th>\n",
       "      <td>0.234339</td>\n",
       "      <td>0.175787</td>\n",
       "      <td>0.332548</td>\n",
       "      <td>0.257327</td>\n",
       "    </tr>\n",
       "    <tr>\n",
       "      <th>13</th>\n",
       "      <td>0.235741</td>\n",
       "      <td>0.175669</td>\n",
       "      <td>0.331901</td>\n",
       "      <td>0.256689</td>\n",
       "    </tr>\n",
       "    <tr>\n",
       "      <th>14</th>\n",
       "      <td>0.232636</td>\n",
       "      <td>0.175773</td>\n",
       "      <td>0.333201</td>\n",
       "      <td>0.258390</td>\n",
       "    </tr>\n",
       "    <tr>\n",
       "      <th>15</th>\n",
       "      <td>0.234727</td>\n",
       "      <td>0.174855</td>\n",
       "      <td>0.333329</td>\n",
       "      <td>0.257089</td>\n",
       "    </tr>\n",
       "    <tr>\n",
       "      <th>16</th>\n",
       "      <td>0.234170</td>\n",
       "      <td>0.176712</td>\n",
       "      <td>0.332849</td>\n",
       "      <td>0.256269</td>\n",
       "    </tr>\n",
       "    <tr>\n",
       "      <th>17</th>\n",
       "      <td>0.238029</td>\n",
       "      <td>0.178003</td>\n",
       "      <td>0.329066</td>\n",
       "      <td>0.254901</td>\n",
       "    </tr>\n",
       "    <tr>\n",
       "      <th>18</th>\n",
       "      <td>0.233560</td>\n",
       "      <td>0.177297</td>\n",
       "      <td>0.338965</td>\n",
       "      <td>0.250178</td>\n",
       "    </tr>\n",
       "    <tr>\n",
       "      <th>19</th>\n",
       "      <td>0.233317</td>\n",
       "      <td>0.178239</td>\n",
       "      <td>0.331543</td>\n",
       "      <td>0.256901</td>\n",
       "    </tr>\n",
       "    <tr>\n",
       "      <th>20</th>\n",
       "      <td>0.233701</td>\n",
       "      <td>0.177710</td>\n",
       "      <td>0.332385</td>\n",
       "      <td>0.256205</td>\n",
       "    </tr>\n",
       "    <tr>\n",
       "      <th>21</th>\n",
       "      <td>0.239135</td>\n",
       "      <td>0.178957</td>\n",
       "      <td>0.335426</td>\n",
       "      <td>0.246482</td>\n",
       "    </tr>\n",
       "  </tbody>\n",
       "</table>\n",
       "</div>"
      ],
      "text/plain": [
       "region          Midwest  Northeast     South      West\n",
       "department_id                                         \n",
       "1              0.234522   0.174927  0.334669  0.255881\n",
       "2              0.232013   0.181450  0.336502  0.250034\n",
       "3              0.233591   0.177921  0.331632  0.256856\n",
       "4              0.235032   0.175735  0.333416  0.255817\n",
       "5              0.235439   0.172692  0.335884  0.255986\n",
       "6              0.236714   0.174152  0.331072  0.258062\n",
       "7              0.232718   0.179835  0.334412  0.253036\n",
       "8              0.228775   0.190358  0.319999  0.260868\n",
       "9              0.235129   0.175180  0.331681  0.258010\n",
       "10             0.236977   0.167819  0.333584  0.261620\n",
       "11             0.236273   0.176095  0.335924  0.251709\n",
       "12             0.234339   0.175787  0.332548  0.257327\n",
       "13             0.235741   0.175669  0.331901  0.256689\n",
       "14             0.232636   0.175773  0.333201  0.258390\n",
       "15             0.234727   0.174855  0.333329  0.257089\n",
       "16             0.234170   0.176712  0.332849  0.256269\n",
       "17             0.238029   0.178003  0.329066  0.254901\n",
       "18             0.233560   0.177297  0.338965  0.250178\n",
       "19             0.233317   0.178239  0.331543  0.256901\n",
       "20             0.233701   0.177710  0.332385  0.256205\n",
       "21             0.239135   0.178957  0.335426  0.246482"
      ]
     },
     "execution_count": 23,
     "metadata": {},
     "output_type": "execute_result"
    }
   ],
   "source": [
    "region_department_cross"
   ]
  },
  {
   "cell_type": "code",
   "execution_count": 25,
   "id": "0356a962",
   "metadata": {},
   "outputs": [
    {
     "data": {
      "image/png": "[encoded data removed]",
      "text/plain": [
       "<Figure size 640x480 with 1 Axes>"
      ]
     },
     "metadata": {},
     "output_type": "display_data"
    }
   ],
   "source": [
    "# Creating a stacked bar chart\n",
    "\n",
    "region_department_bar = region_department_cross.plot.bar(stacked = True)"
   ]
  },
  {
   "cell_type": "code",
   "execution_count": 28,
   "id": "7c90da42",
   "metadata": {},
   "outputs": [],
   "source": [
    "# Exporting the viz\n",
    "\n",
    "region_department_bar.figure.savefig(os.path.join(path, '04 Analysis', 'Visualizations', 'region_department_bar.png'))"
   ]
  },
  {
   "attachments": {},
   "cell_type": "markdown",
   "id": "65982fb3",
   "metadata": {},
   "source": [
    "### Question: Are there certain types of products that are more popular than others?\t\t\t\t\t\t\t\t\t\t\t\t\t\t\t\t\t\t\t\t\t\t\t\t\n"
   ]
  },
  {
   "cell_type": "code",
   "execution_count": 97,
   "id": "c2552ad0",
   "metadata": {},
   "outputs": [
    {
     "data": {
      "image/png": "[encoded data removed]",
      "text/plain": [
       "<Figure size 640x480 with 1 Axes>"
      ]
     },
     "metadata": {},
     "output_type": "display_data"
    }
   ],
   "source": [
    "# Bar chart for department_id\n",
    "\n",
    "department_id_bar = df_combined['department_id'].value_counts().plot.bar()"
   ]
  },
  {
   "cell_type": "code",
   "execution_count": 98,
   "id": "5db5d281",
   "metadata": {},
   "outputs": [],
   "source": [
    "# Exporting the viz\n",
    "\n",
    "department_id_bar.figure.savefig(os.path.join(path, '04 Analysis', 'Visualizations', 'department_id_bar.png'))"
   ]
  },
  {
   "cell_type": "code",
   "execution_count": null,
   "id": "c65ddc8d",
   "metadata": {},
   "outputs": [],
   "source": []
  }
 ],
 "metadata": {
  "kernelspec": {
   "display_name": "Python 3 (ipykernel)",
   "language": "python",
   "name": "python3"
  },
  "language_info": {
   "codemirror_mode": {
    "name": "ipython",
    "version": 3
   },
   "file_extension": ".py",
   "mimetype": "text/x-python",
   "name": "python",
   "nbconvert_exporter": "python",
   "pygments_lexer": "ipython3",
   "version": "3.10.9"
  }
 },
 "nbformat": 4,
 "nbformat_minor": 5
}
